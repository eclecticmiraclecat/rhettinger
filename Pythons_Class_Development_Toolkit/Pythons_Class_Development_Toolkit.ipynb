{
 "cells": [
  {
   "cell_type": "code",
   "execution_count": 1,
   "metadata": {},
   "outputs": [],
   "source": [
    "class Circle:\n",
    "    'An advanced circle analytic toolkit'"
   ]
  },
  {
   "cell_type": "markdown",
   "metadata": {},
   "source": [
    "***\n",
    "## instance variable\n",
    "- unique for the instance"
   ]
  },
  {
   "cell_type": "code",
   "execution_count": 7,
   "metadata": {},
   "outputs": [],
   "source": [
    "class Circle:\n",
    "    'An advanced circle analytic toolkit'\n",
    "    \n",
    "    def __init__(self, radius):\n",
    "        self.radius = radius        # instance variable"
   ]
  },
  {
   "cell_type": "markdown",
   "metadata": {},
   "source": [
    "***\n",
    "## Regular method"
   ]
  },
  {
   "cell_type": "code",
   "execution_count": 8,
   "metadata": {},
   "outputs": [],
   "source": [
    "class Circle:\n",
    "    'An advanced circle analytic toolkit'\n",
    "    \n",
    "    def __init__(self, radius):\n",
    "        self.radius = radius\n",
    "        \n",
    "    def area(self):\n",
    "        'Perform quadrature on a shape of uniform radius'\n",
    "        return 3.14 * self.radius ** 2.0"
   ]
  },
  {
   "cell_type": "markdown",
   "metadata": {},
   "source": [
    "***\n",
    "## Modules for code reuse\n",
    "- math.pi will adjust based on computer arch"
   ]
  },
  {
   "cell_type": "code",
   "execution_count": 9,
   "metadata": {},
   "outputs": [],
   "source": [
    "import math        # module for code reuse\n",
    "\n",
    "class Circle:\n",
    "    'An advanced circle analytic toolkit'\n",
    "    \n",
    "    def __init__(self, radius):\n",
    "        self.radius = radius\n",
    "        \n",
    "    def area(self):\n",
    "        'Perform quadrature on a shape of uniform radius'\n",
    "        return math.pi * self.radius ** 2.0"
   ]
  },
  {
   "cell_type": "markdown",
   "metadata": {},
   "source": [
    "## class variable for shared data between intances"
   ]
  },
  {
   "cell_type": "code",
   "execution_count": 36,
   "metadata": {},
   "outputs": [],
   "source": [
    "import math\n",
    "\n",
    "class Circle:\n",
    "    'An advanced circle analytic toolkit'\n",
    "    \n",
    "    version = '0.1'        # class variable\n",
    "    \n",
    "    def __init__(self, radius):\n",
    "        self.radius = radius\n",
    "        \n",
    "    def area(self):\n",
    "        'Perform quadrature on a shape of uniform radius'\n",
    "        return math.pi * self.radius ** 2.0"
   ]
  },
  {
   "cell_type": "markdown",
   "metadata": {},
   "source": [
    "## Minimum viable produt: Ship it!"
   ]
  },
  {
   "cell_type": "code",
   "execution_count": 37,
   "metadata": {},
   "outputs": [
    {
     "name": "stdout",
     "output_type": "stream",
     "text": [
      "Circuituous version 0.1\n",
      "A circle of radius 10\n",
      "has an area of 314.1592653589793\n"
     ]
    }
   ],
   "source": [
    "# Tutorial\n",
    "\n",
    "print('Circuituous version', Circle.version)\n",
    "c = Circle(10)\n",
    "print('A circle of radius', c.radius)\n",
    "print('has an area of', c.area())\n",
    "print(end='')"
   ]
  },
  {
   "cell_type": "markdown",
   "metadata": {},
   "source": [
    "## First customer: Academia"
   ]
  },
  {
   "cell_type": "code",
   "execution_count": 38,
   "metadata": {},
   "outputs": [
    {
     "name": "stdout",
     "output_type": "stream",
     "text": [
      "Using Circuituos(tm) version 0.1\n",
      "The average area of 10 random circles\n",
      "is  1.0\n"
     ]
    }
   ],
   "source": [
    "from random import random, seed\n",
    "\n",
    "seed(8675309)\n",
    "print('Using Circuituos(tm) version', Circle.version)\n",
    "n = 10\n",
    "circles = [Circle(random()) for i in range(n)]\n",
    "print(f'The average area of {n} random circles')\n",
    "avg = sum([c.area() for c in circles]) / n\n",
    "print(f'is {avg: .1f}')"
   ]
  },
  {
   "cell_type": "markdown",
   "metadata": {},
   "source": [
    "## Customer wants a perimeter method"
   ]
  },
  {
   "cell_type": "code",
   "execution_count": 3,
   "metadata": {},
   "outputs": [],
   "source": [
    "import math\n",
    "\n",
    "class Circle:\n",
    "    'An advanced circle analytic toolkit'\n",
    "    \n",
    "    version = '0.2'     \n",
    "    \n",
    "    def __init__(self, radius):\n",
    "        self.radius = radius\n",
    "        \n",
    "    def area(self):\n",
    "        return math.pi * self.radius ** 2.0\n",
    "    \n",
    "    def perimeter(self):\n",
    "        return 2.0 * math.pi * self.radius"
   ]
  },
  {
   "cell_type": "markdown",
   "metadata": {},
   "source": [
    "## Second customer: Rubber sheet company\n",
    "- radius attribute was changed to 1.1"
   ]
  },
  {
   "cell_type": "code",
   "execution_count": 17,
   "metadata": {},
   "outputs": [
    {
     "name": "stdout",
     "output_type": "stream",
     "text": [
      "\n",
      "A circlet with a radius of 0.1\n",
      "has a perimeter of 0.6283185307179586\n",
      "and a cold area of 0.031415926535897934\n",
      "and a warm area of 0.038013271108436504\n",
      "\n",
      "A circlet with a radius of 0.7\n",
      "has a perimeter of 4.39822971502571\n",
      "and a cold area of 1.5393804002589984\n",
      "and a warm area of 1.8626502843133883\n",
      "\n",
      "A circlet with a radius of 0.8\n",
      "has a perimeter of 5.026548245743669\n",
      "and a cold area of 2.0106192982974678\n",
      "and a warm area of 2.4328493509399363\n"
     ]
    }
   ],
   "source": [
    "cuts = [0.1, 0.7, 0.8]\n",
    "\n",
    "circles = [Circle(r) for r in cuts]\n",
    "\n",
    "for c in circles:\n",
    "    print()\n",
    "    print('A circlet with a radius of', c.radius)\n",
    "    print('has a perimeter of', c.perimeter())\n",
    "    print('and a cold area of', c.area())\n",
    "    c.radius *= 1.1\n",
    "    print('and a warm area of', c.area())"
   ]
  },
  {
   "cell_type": "markdown",
   "metadata": {},
   "source": [
    "## Third customer: National tire chain"
   ]
  },
  {
   "cell_type": "code",
   "execution_count": 18,
   "metadata": {},
   "outputs": [
    {
     "name": "stdout",
     "output_type": "stream",
     "text": [
      "A tire of radius 22\n",
      "has an inner area of 1520.53084433746\n",
      "and an odometer corrected perimeter of\n",
      "172.7875959474386\n"
     ]
    }
   ],
   "source": [
    "class Tire(Circle):\n",
    "    \"Tires are circles with a corrected perimeter\"\n",
    "\n",
    "\n",
    "    def perimeter(self):\n",
    "        \"Circumference corrected for the rubber\"\n",
    "        return Circle.perimeter(self) * 1.25\n",
    "\n",
    "\n",
    "t = Tire(22)\n",
    "print('A tire of radius', t.radius)\n",
    "print('has an inner area of', t.area())\n",
    "print('and an odometer corrected perimeter of')\n",
    "print(t.perimeter())"
   ]
  },
  {
   "cell_type": "markdown",
   "metadata": {},
   "source": [
    "## next customer: National graphics company\n",
    "- need their own constructor"
   ]
  },
  {
   "cell_type": "code",
   "execution_count": 19,
   "metadata": {},
   "outputs": [
    {
     "name": "stdout",
     "output_type": "stream",
     "text": [
      "A circle with a bbd of 25.1\n",
      "has a radius of 8.874190103891172\n",
      "and an area of 247.4043484610132\n"
     ]
    }
   ],
   "source": [
    "def from_bbd(bbd):\n",
    "    radius = bbd / 2.0 / math.sqrt(2.0)\n",
    "    return radius\n",
    "\n",
    "bbd = 25.1\n",
    "c = Circle(from_bbd(bbd))\n",
    "print('A circle with a bbd of 25.1')\n",
    "print('has a radius of', c.radius)\n",
    "print('and an area of', c.area())"
   ]
  },
  {
   "cell_type": "markdown",
   "metadata": {},
   "source": [
    "## alternative constructor"
   ]
  },
  {
   "cell_type": "code",
   "execution_count": 25,
   "metadata": {},
   "outputs": [
    {
     "name": "stdout",
     "output_type": "stream",
     "text": [
      "2013-03-16 00:00:00\n",
      "2013-03-16 05:40:16\n",
      "2010-08-16 00:00:00\n",
      "2019-10-28 21:36:21.772219\n"
     ]
    }
   ],
   "source": [
    "from datetime import datetime\n",
    "\n",
    "print(datetime(2013, 3, 16))\n",
    "print(datetime.fromtimestamp(1363383616))\n",
    "print(datetime.fromordinal(734000))\n",
    "print(datetime.now())"
   ]
  },
  {
   "cell_type": "code",
   "execution_count": 26,
   "metadata": {},
   "outputs": [
    {
     "name": "stdout",
     "output_type": "stream",
     "text": [
      "{'raymond': None, 'rachel': None, 'matthew': None}\n"
     ]
    }
   ],
   "source": [
    "print(dict.fromkeys(['raymond', 'rachel', 'matthew']))"
   ]
  },
  {
   "cell_type": "markdown",
   "metadata": {},
   "source": [
    "## alternative constructors need to anticipate subclassing\n",
    "- cls argument is to make sure to know which class is calling it\n",
    "    \n",
    "        Circle.from_bbd(25)\n",
    "    \n",
    "        Tire.from_bbd(25)"
   ]
  },
  {
   "cell_type": "code",
   "execution_count": 7,
   "metadata": {},
   "outputs": [],
   "source": [
    "class Circle:                      \n",
    "    \"\"\"An advanced circle analytic toolkit.\"\"\"\n",
    "    version = '0.3'                         \n",
    "\n",
    "    def __init__(self, radius):\n",
    "        self.radius = radius                \n",
    "        \n",
    "    def area(self):\n",
    "        return math.pi * self.radius ** 2.0\n",
    "\n",
    "    def perimeter(self):\n",
    "        return 2.0 * math.pi * self.radius\n",
    "\n",
    "    @classmethod                            # alternative constructor\n",
    "    def from_bbd(cls, bbd):\n",
    "        \"\"\"Construct a circle from a bounding box diagonal.\"\"\"\n",
    "        radius = bbd / 2.0 / math.sqrt(2.0)\n",
    "        return cls(radius)"
   ]
  },
  {
   "cell_type": "code",
   "execution_count": 8,
   "metadata": {},
   "outputs": [
    {
     "name": "stdout",
     "output_type": "stream",
     "text": [
      "A tire of radius 15.909902576697318\n",
      "has an inner area of 795.2156404399163\n",
      "and an odometer corrected perimeter of\n",
      "99.96486610856323\n"
     ]
    }
   ],
   "source": [
    "t = Tire.from_bbd(45)\n",
    "print('A tire of radius', t.radius)\n",
    "print('has an inner area of', t.area())\n",
    "print('and an odometer corrected perimeter of')\n",
    "print(t.perimeter())"
   ]
  },
  {
   "cell_type": "markdown",
   "metadata": {},
   "source": [
    "## new customer request: add a function"
   ]
  },
  {
   "cell_type": "code",
   "execution_count": 13,
   "metadata": {},
   "outputs": [],
   "source": [
    "def angle_to_grade(angle):\n",
    "    'Convert angle in degree to a percentage grade'\n",
    "    return math.tan(math.radians(angle)) * 100.0"
   ]
  },
  {
   "cell_type": "markdown",
   "metadata": {},
   "source": [
    "## move function to regular method\n",
    " - need to create an instance just to call a function"
   ]
  },
  {
   "cell_type": "code",
   "execution_count": 14,
   "metadata": {},
   "outputs": [],
   "source": [
    "class Circle:                      \n",
    "    \"\"\"An advanced circle analytic toolkit.\"\"\"\n",
    "    version = '0.4b'                         \n",
    "\n",
    "    def __init__(self, radius):\n",
    "        self.radius = radius                \n",
    "        \n",
    "    def angle_to_grade(self, angle):\n",
    "        'Convert angle in degree to a percentage grade'\n",
    "        return math.tan(math.radians(angle)) * 100.0"
   ]
  },
  {
   "cell_type": "markdown",
   "metadata": {},
   "source": [
    "## move function to a static method since self is not being used in method"
   ]
  },
  {
   "cell_type": "code",
   "execution_count": 16,
   "metadata": {},
   "outputs": [],
   "source": [
    "class Circle:                      \n",
    "    \"\"\"An advanced circle analytic toolkit.\"\"\"\n",
    "    version = '0.4'                         \n",
    "\n",
    "    def __init__(self, radius):\n",
    "        self.radius = radius                \n",
    "        \n",
    "    @staticmethod\n",
    "    def angle_to_grade(angle):\n",
    "        'Convert angle in degree to a percentage grade'\n",
    "        return math.tan(math.radians(angle)) * 100.0"
   ]
  },
  {
   "cell_type": "markdown",
   "metadata": {},
   "source": [
    "## client code: Trucking company\n",
    "- nice, clean call\n",
    "- no instance required\n",
    "- method is findable"
   ]
  },
  {
   "cell_type": "code",
   "execution_count": 20,
   "metadata": {},
   "outputs": [
    {
     "name": "stdout",
     "output_type": "stream",
     "text": [
      "A inclinometer reading of 5 degrees\n",
      "is a 8.7 grade\n"
     ]
    }
   ],
   "source": [
    "print('A inclinometer reading of 5 degrees')\n",
    "print(f'is a {Circle.angle_to_grade(5) :0.1f} grade')"
   ]
  },
  {
   "cell_type": "markdown",
   "metadata": {},
   "source": [
    "## Government request: ISO-11110\n",
    "- will break Tire area"
   ]
  },
  {
   "cell_type": "code",
   "execution_count": 21,
   "metadata": {},
   "outputs": [],
   "source": [
    "class Circle:\n",
    "    'An advanced circle analytic toolkit'\n",
    "    \n",
    "    version = '0.5b'\n",
    "    \n",
    "    def __init__(self, radius):\n",
    "        self.radius = radius\n",
    "        \n",
    "    def area(self):\n",
    "        p = self.perimeter()\n",
    "        r = p / math.pi / 2.0\n",
    "        return math.pi * r ** 2.0\n",
    "    \n",
    "    def perimeter(self):\n",
    "        return 2.0 * math.pi * self.radius"
   ]
  },
  {
   "cell_type": "markdown",
   "metadata": {},
   "source": [
    "## Problem with the tire company"
   ]
  },
  {
   "cell_type": "code",
   "execution_count": 22,
   "metadata": {},
   "outputs": [
    {
     "name": "stdout",
     "output_type": "stream",
     "text": [
      "A tire of radius 22\n",
      "has an inner area of 2375.8294442772803\n",
      "and an odometer corrected perimeter of\n",
      "172.7875959474386\n"
     ]
    }
   ],
   "source": [
    "class Tire(Circle):\n",
    "    \"Tires are circles with a corrected perimeter\"\n",
    "\n",
    "    def perimeter(self):\n",
    "        \"Circumference corrected for the rubber\"\n",
    "        return Circle.perimeter(self) * 1.25\n",
    "\n",
    "\n",
    "t = Tire(22)\n",
    "print('A tire of radius', t.radius)\n",
    "print('has an inner area of', t.area())\n",
    "print('and an odometer corrected perimeter of')\n",
    "print(t.perimeter())"
   ]
  },
  {
   "cell_type": "markdown",
   "metadata": {},
   "source": [
    "## class local reference: keep a spare copy\n",
    "- will fix for tire\n",
    "- perimeter has two copies"
   ]
  },
  {
   "cell_type": "code",
   "execution_count": 23,
   "metadata": {},
   "outputs": [],
   "source": [
    "class Circle:\n",
    "    'An advanced circle analytic toolkit'\n",
    "    \n",
    "    version = '0.5b'\n",
    "    \n",
    "    def __init__(self, radius):\n",
    "        self.radius = radius\n",
    "        \n",
    "    def area(self):\n",
    "        p = self._perimeter()\n",
    "        r = p / math.pi / 2.0\n",
    "        return math.pi * r ** 2.0\n",
    "    \n",
    "    def perimeter(self):\n",
    "        return 2.0 * math.pi * self.radius\n",
    "    \n",
    "    _perimeter = perimeter"
   ]
  },
  {
   "cell_type": "code",
   "execution_count": 24,
   "metadata": {},
   "outputs": [
    {
     "name": "stdout",
     "output_type": "stream",
     "text": [
      "A tire of radius 22\n",
      "has an inner area of 1520.5308443374593\n",
      "and an odometer corrected perimeter of\n",
      "172.7875959474386\n"
     ]
    }
   ],
   "source": [
    "class Tire(Circle):\n",
    "    \"Tires are circles with a corrected perimeter\"\n",
    "\n",
    "    def perimeter(self):\n",
    "        \"Circumference corrected for the rubber\"\n",
    "        return Circle.perimeter(self) * 1.25\n",
    "\n",
    "\n",
    "t = Tire(22)\n",
    "print('A tire of radius', t.radius)\n",
    "print('has an inner area of', t.area())\n",
    "print('and an odometer corrected perimeter of')\n",
    "print(t.perimeter())"
   ]
  },
  {
   "cell_type": "markdown",
   "metadata": {},
   "source": [
    "## will break if the copy the same style"
   ]
  },
  {
   "cell_type": "code",
   "execution_count": 25,
   "metadata": {},
   "outputs": [
    {
     "name": "stdout",
     "output_type": "stream",
     "text": [
      "A tire of radius 22\n",
      "has an inner area of 2375.8294442772803\n",
      "and an odometer corrected perimeter of\n",
      "172.7875959474386\n"
     ]
    }
   ],
   "source": [
    "class Tire(Circle):\n",
    "    \"Tires are circles with a corrected perimeter\"\n",
    "\n",
    "    def perimeter(self):\n",
    "        \"Circumference corrected for the rubber\"\n",
    "        return Circle.perimeter(self) * 1.25\n",
    "    \n",
    "    _perimeter = perimeter\n",
    "    \n",
    "t = Tire(22)\n",
    "print('A tire of radius', t.radius)\n",
    "print('has an inner area of', t.area())\n",
    "print('and an odometer corrected perimeter of')\n",
    "print(t.perimeter())"
   ]
  },
  {
   "cell_type": "markdown",
   "metadata": {},
   "source": [
    "## class local reference using the double underscore\n",
    "- double underscore will make child classes free to use own perimeter"
   ]
  },
  {
   "cell_type": "code",
   "execution_count": 28,
   "metadata": {},
   "outputs": [],
   "source": [
    "class Circle:\n",
    "    'An advanced circle analytic toolkit'\n",
    "    \n",
    "    version = '0.5b'\n",
    "    \n",
    "    def __init__(self, radius):\n",
    "        self.radius = radius\n",
    "        \n",
    "    def area(self):\n",
    "        p = self.__perimeter()\n",
    "        r = p / math.pi / 2.0\n",
    "        return math.pi * r ** 2.0\n",
    "    \n",
    "    def perimeter(self):\n",
    "        return 2.0 * math.pi * self.radius\n",
    "    \n",
    "    __perimeter = perimeter    "
   ]
  },
  {
   "cell_type": "code",
   "execution_count": 29,
   "metadata": {},
   "outputs": [
    {
     "name": "stdout",
     "output_type": "stream",
     "text": [
      "A tire of radius 22\n",
      "has an inner area of 1520.5308443374593\n",
      "and an odometer corrected perimeter of\n",
      "172.7875959474386\n"
     ]
    }
   ],
   "source": [
    "class Tire(Circle):\n",
    "    \"Tires are circles with a corrected perimeter\"\n",
    "\n",
    "    def perimeter(self):\n",
    "        \"Circumference corrected for the rubber\"\n",
    "        return Circle.perimeter(self) * 1.25\n",
    "\n",
    "\n",
    "t = Tire(22)\n",
    "print('A tire of radius', t.radius)\n",
    "print('has an inner area of', t.area())\n",
    "print('and an odometer corrected perimeter of')\n",
    "print(t.perimeter())"
   ]
  },
  {
   "cell_type": "markdown",
   "metadata": {},
   "source": [
    "## Government request: ISO-22220"
   ]
  },
  {
   "cell_type": "code",
   "execution_count": 32,
   "metadata": {},
   "outputs": [],
   "source": [
    "class Circle:\n",
    "    'An advanced circle analytic toolkit'\n",
    "    \n",
    "    version = '0.6'\n",
    "    \n",
    "    def __init__(self, radius):\n",
    "        self.radius = radius\n",
    "        \n",
    "    def get_radius(self):\n",
    "        'Radius of a circle'\n",
    "        return self.diameter / 2.0\n",
    "    \n",
    "    def set_radius(self, radius):\n",
    "        self.diameter = radius * 2.0"
   ]
  },
  {
   "cell_type": "markdown",
   "metadata": {},
   "source": [
    "## convert attribute access to method access: property"
   ]
  },
  {
   "cell_type": "code",
   "execution_count": 33,
   "metadata": {},
   "outputs": [],
   "source": [
    "class Circle:\n",
    "    'An advanced circle analytic toolkit'\n",
    "    \n",
    "    version = '0.6'\n",
    "    \n",
    "    def __init__(self, radius):\n",
    "        self.radius = radius\n",
    "        \n",
    "    @property        # convert dotted access to method calls\n",
    "    def radius(self):\n",
    "        'Radius of a circle'\n",
    "        return self.diameter / 2.0\n",
    "    \n",
    "    @radius.setter\n",
    "    def radius(self, radius):\n",
    "        self.diameter = radius * 2.0"
   ]
  },
  {
   "cell_type": "markdown",
   "metadata": {},
   "source": [
    "## User request: Many circles\n",
    "- major memory problem\n",
    "- Circle intances are over 300 bytes each"
   ]
  },
  {
   "cell_type": "code",
   "execution_count": 39,
   "metadata": {},
   "outputs": [
    {
     "name": "stdout",
     "output_type": "stream",
     "text": [
      "Using Circuituous(tm) version 0.1\n",
      "The average area of 10000000 random circles\n",
      "is  1.0\n"
     ]
    }
   ],
   "source": [
    "n = 10_000_000\n",
    "\n",
    "seed(8675309)\n",
    "print('Using Circuituous(tm) version', Circle.version)\n",
    "\n",
    "circles = [Circle(random()) for i in range(n)]\n",
    "print(f'The average area of {n} random circles')\n",
    "avg = sum([c.area() for c in circles]) / n\n",
    "print(f'is {avg: .1f}')"
   ]
  },
  {
   "cell_type": "markdown",
   "metadata": {},
   "source": [
    "## Flyweight design pattern: Slots"
   ]
  },
  {
   "cell_type": "code",
   "execution_count": 41,
   "metadata": {},
   "outputs": [],
   "source": [
    "class Circle:\n",
    "    'An advanced circle analytic toolkit'\n",
    "    \n",
    "    # flyweight design pattern suppresses\n",
    "    # the instance dictionary\n",
    "    __slots__ = ['diameter']\n",
    "    version = '0.7'\n",
    "    \n",
    "    def __init__(self, radius):\n",
    "        self.radius = radius\n",
    "        \n",
    "    @property        # convert dotted access to method calls\n",
    "    def radius(self):\n",
    "        'Radius of a circle'\n",
    "        return self.diameter / 2.0\n",
    "    \n",
    "    @radius.setter\n",
    "    def radius(self, radius):\n",
    "        self.diameter = radius * 2.0\n",
    "        \n",
    "    def area(self):\n",
    "        p = self.__perimeter()\n",
    "        r = p / math.pi / 2.0\n",
    "        return math.pi * r ** 2.0\n",
    "    \n",
    "    def perimeter(self):\n",
    "        return 2.0 * math.pi * self.radius\n",
    "    \n",
    "    __perimeter = perimeter  "
   ]
  },
  {
   "cell_type": "code",
   "execution_count": 42,
   "metadata": {},
   "outputs": [
    {
     "name": "stdout",
     "output_type": "stream",
     "text": [
      "Using Circuituous(tm) version 0.7\n",
      "The average area of 10000000 random circles\n",
      "is  1.0\n"
     ]
    }
   ],
   "source": [
    "n = 10_000_000\n",
    "\n",
    "seed(8675309)\n",
    "print('Using Circuituous(tm) version', Circle.version)\n",
    "\n",
    "circles = [Circle(random()) for i in range(n)]\n",
    "print(f'The average area of {n} random circles')\n",
    "avg = sum([c.area() for c in circles]) / n\n",
    "print(f'is {avg: .1f}')"
   ]
  },
  {
   "cell_type": "markdown",
   "metadata": {},
   "source": [
    "## Summary\n",
    "1. Instance variables for information unique to an instance\n",
    "2. Class variables for data shared among all instances.\n",
    "3. Regular methods need \"self\" to operate on instance data.\n",
    "4. Thread local calls use the double underscore. Gives subclasses the freedom to override methods instances as well.\n",
    "5. Class methods implement alternative constructors. They need \"cls\" so they can create subclass instances as well.\n",
    "6. Static methods attach functions to classes. They don't need either \"self\" or \"cls\". Static methods improve discoverability and require context to be specified.\n",
    "7. A property() lets getter and setter methods be invoked automatically by attribute access. This allows Python classes to freely expose their instance variables.\n",
    "8. The `__slots__` variable implements the Flyweight Design Pattern by suppressing instance dictionaries."
   ]
  },
  {
   "cell_type": "code",
   "execution_count": null,
   "metadata": {},
   "outputs": [],
   "source": []
  }
 ],
 "metadata": {
  "kernelspec": {
   "display_name": "Python 3",
   "language": "python",
   "name": "python3"
  },
  "language_info": {
   "codemirror_mode": {
    "name": "ipython",
    "version": 3
   },
   "file_extension": ".py",
   "mimetype": "text/x-python",
   "name": "python",
   "nbconvert_exporter": "python",
   "pygments_lexer": "ipython3",
   "version": "3.7.5"
  }
 },
 "nbformat": 4,
 "nbformat_minor": 2
}
