{
 "cells": [
  {
   "cell_type": "code",
   "execution_count": 1,
   "metadata": {},
   "outputs": [],
   "source": [
    "# query string to pass contents"
   ]
  },
  {
   "cell_type": "code",
   "execution_count": 2,
   "metadata": {},
   "outputs": [
    {
     "name": "stdout",
     "output_type": "stream",
     "text": [
      "import math\r\n",
      "\r\n",
      "def area_circle(radius):\r\n",
      "    return math.pi * radius ** 2.0\r\n"
     ]
    }
   ],
   "source": [
    "!cat algebra.py"
   ]
  },
  {
   "cell_type": "code",
   "execution_count": 3,
   "metadata": {},
   "outputs": [
    {
     "name": "stdout",
     "output_type": "stream",
     "text": [
      "from bottle import *\r\n",
      "from pprint import pprint\r\n",
      "import time\r\n",
      "import algebra\r\n",
      "\r\n",
      "@route('/')\r\n",
      "def welcome():\r\n",
      "    if 'text/html' in request.headers.get('Accept', '*/*'):\r\n",
      "        response.content_type = 'text/html'\r\n",
      "        return '<h1> Howdy! <h1>'\r\n",
      "    response.content_type = 'text/plain'\r\n",
      "    return 'Hello'\r\n",
      "\r\n",
      "@route('/now')\r\n",
      "def time_service():\r\n",
      "    response.content_type = 'text/plain'\r\n",
      "    response.set_header('Cache-Control', 'max-age=10')\r\n",
      "    return time.ctime()\r\n",
      "\r\n",
      "@route('/upper/<word>')\r\n",
      "def upper_case_service(word):\r\n",
      "    response.content_type = 'text/plain'\r\n",
      "    return word.upper()\r\n",
      "\r\n",
      "@route('/area/circle')\r\n",
      "def circle_area_service():\r\n",
      "    query = dict(request.query)\r\n",
      "    radius = float(request.query.get('radius', '0.0'))\r\n",
      "    return f'Test, radius: {radius}'\r\n",
      "\r\n",
      "if __name__ == '__main__':\r\n",
      "\r\n",
      "    run(host='localhost', port=8080)\r\n"
     ]
    }
   ],
   "source": [
    "!cat rest_api_server.py"
   ]
  },
  {
   "cell_type": "code",
   "execution_count": 6,
   "metadata": {},
   "outputs": [
    {
     "name": "stdout",
     "output_type": "stream",
     "text": [
      "Test, radius: 10.0"
     ]
    }
   ],
   "source": [
    "!curl 'http://127.0.0.1:8080/area/circle?radius=10'"
   ]
  },
  {
   "cell_type": "code",
   "execution_count": 7,
   "metadata": {},
   "outputs": [
    {
     "name": "stdout",
     "output_type": "stream",
     "text": [
      "Test, radius: 0.0"
     ]
    }
   ],
   "source": [
    "!curl 'http://127.0.0.1:8080/area/circle'"
   ]
  },
  {
   "cell_type": "code",
   "execution_count": 9,
   "metadata": {},
   "outputs": [
    {
     "name": "stdout",
     "output_type": "stream",
     "text": [
      "\r\n",
      "    <!DOCTYPE HTML PUBLIC \"-//IETF//DTD HTML 2.0//EN\">\r\n",
      "    <html>\r\n",
      "        <head>\r\n",
      "            <title>Error: 404 Not Found</title>\r\n",
      "            <style type=\"text/css\">\r\n",
      "              html {background-color: #eee; font-family: sans;}\r\n",
      "              body {background-color: #fff; border: 1px solid #ddd;\r\n",
      "                    padding: 15px; margin: 15px;}\r\n",
      "              pre {background-color: #eee; border: 1px solid #ddd; padding: 5px;}\r\n",
      "            </style>\r\n",
      "        </head>\r\n",
      "        <body>\r\n",
      "            <h1>Error: 404 Not Found</h1>\r\n",
      "            <p>Sorry, the requested URL <tt>&#039;http://127.0.0.1:8080/area/circle/rad%3D10&#039;</tt>\r\n",
      "               caused an error:</p>\r\n",
      "            <pre>Not found: &#039;/area/circle/rad=10&#039;</pre>\r\n",
      "        </body>\r\n",
      "    </html>\r\n"
     ]
    }
   ],
   "source": [
    "!curl 'http://127.0.0.1:8080/area/circle/rad=10'"
   ]
  },
  {
   "cell_type": "code",
   "execution_count": 10,
   "metadata": {},
   "outputs": [
    {
     "name": "stdout",
     "output_type": "stream",
     "text": [
      "\r\n",
      "    <!DOCTYPE HTML PUBLIC \"-//IETF//DTD HTML 2.0//EN\">\r\n",
      "    <html>\r\n",
      "        <head>\r\n",
      "            <title>Error: 500 Internal Server Error</title>\r\n",
      "            <style type=\"text/css\">\r\n",
      "              html {background-color: #eee; font-family: sans;}\r\n",
      "              body {background-color: #fff; border: 1px solid #ddd;\r\n",
      "                    padding: 15px; margin: 15px;}\r\n",
      "              pre {background-color: #eee; border: 1px solid #ddd; padding: 5px;}\r\n",
      "            </style>\r\n",
      "        </head>\r\n",
      "        <body>\r\n",
      "            <h1>Error: 500 Internal Server Error</h1>\r\n",
      "            <p>Sorry, the requested URL <tt>&#039;http://127.0.0.1:8080/area/circle?radius=xyz&#039;</tt>\r\n",
      "               caused an error:</p>\r\n",
      "            <pre>Internal Server Error</pre>\r\n",
      "        </body>\r\n",
      "    </html>\r\n"
     ]
    }
   ],
   "source": [
    "!curl 'http://127.0.0.1:8080/area/circle?radius=xyz'"
   ]
  },
  {
   "cell_type": "markdown",
   "metadata": {},
   "source": [
    "## 500 Server errors indicate a need for better error handing"
   ]
  },
  {
   "cell_type": "code",
   "execution_count": 11,
   "metadata": {},
   "outputs": [
    {
     "name": "stdout",
     "output_type": "stream",
     "text": [
      "from bottle import *\r\n",
      "from pprint import pprint\r\n",
      "import time\r\n",
      "import algebra\r\n",
      "\r\n",
      "@route('/')\r\n",
      "def welcome():\r\n",
      "    if 'text/html' in request.headers.get('Accept', '*/*'):\r\n",
      "        response.content_type = 'text/html'\r\n",
      "        return '<h1> Howdy! <h1>'\r\n",
      "    response.content_type = 'text/plain'\r\n",
      "    return 'Hello'\r\n",
      "\r\n",
      "@route('/now')\r\n",
      "def time_service():\r\n",
      "    response.content_type = 'text/plain'\r\n",
      "    response.set_header('Cache-Control', 'max-age=10')\r\n",
      "    return time.ctime()\r\n",
      "\r\n",
      "@route('/upper/<word>')\r\n",
      "def upper_case_service(word):\r\n",
      "    response.content_type = 'text/plain'\r\n",
      "    return word.upper()\r\n",
      "\r\n",
      "@route('/area/circle')\r\n",
      "def circle_area_service():\r\n",
      "    query = dict(request.query)\r\n",
      "    try:\r\n",
      "        radius = float(request.query.get('radius', '0.0'))\r\n",
      "    except ValueError as e:\r\n",
      "        return e.args[0]\r\n",
      "    return f'Test, radius: {radius}'\r\n",
      "\r\n",
      "if __name__ == '__main__':\r\n",
      "\r\n",
      "    run(host='localhost', port=8080)\r\n"
     ]
    }
   ],
   "source": [
    "!cat rest_api_server.py"
   ]
  },
  {
   "cell_type": "code",
   "execution_count": 12,
   "metadata": {},
   "outputs": [
    {
     "name": "stdout",
     "output_type": "stream",
     "text": [
      "could not convert string to float: 'xyz'"
     ]
    }
   ],
   "source": [
    "!curl 'http://127.0.0.1:8080/area/circle?radius=xyz'"
   ]
  },
  {
   "cell_type": "code",
   "execution_count": 13,
   "metadata": {},
   "outputs": [],
   "source": [
    "# add the algebra function"
   ]
  },
  {
   "cell_type": "code",
   "execution_count": 14,
   "metadata": {},
   "outputs": [
    {
     "name": "stdout",
     "output_type": "stream",
     "text": [
      "from bottle import *\r\n",
      "from pprint import pprint\r\n",
      "import time\r\n",
      "import algebra\r\n",
      "\r\n",
      "@route('/')\r\n",
      "def welcome():\r\n",
      "    if 'text/html' in request.headers.get('Accept', '*/*'):\r\n",
      "        response.content_type = 'text/html'\r\n",
      "        return '<h1> Howdy! <h1>'\r\n",
      "    response.content_type = 'text/plain'\r\n",
      "    return 'Hello'\r\n",
      "\r\n",
      "@route('/now')\r\n",
      "def time_service():\r\n",
      "    response.content_type = 'text/plain'\r\n",
      "    response.set_header('Cache-Control', 'max-age=10')\r\n",
      "    return time.ctime()\r\n",
      "\r\n",
      "@route('/upper/<word>')\r\n",
      "def upper_case_service(word):\r\n",
      "    response.content_type = 'text/plain'\r\n",
      "    return word.upper()\r\n",
      "\r\n",
      "@route('/area/circle')\r\n",
      "def circle_area_service():\r\n",
      "    query = dict(request.query)\r\n",
      "    try:\r\n",
      "        radius = float(request.query.get('radius', '0.0'))\r\n",
      "    except ValueError as e:\r\n",
      "        return e.args[0]\r\n",
      "    area = algebra.area_circle(radius)\r\n",
      "    return f'Test, area: {area}'\r\n",
      "\r\n",
      "if __name__ == '__main__':\r\n",
      "\r\n",
      "    run(host='localhost', port=8080)\r\n"
     ]
    }
   ],
   "source": [
    "!cat rest_api_server.py"
   ]
  },
  {
   "cell_type": "code",
   "execution_count": 16,
   "metadata": {},
   "outputs": [
    {
     "name": "stdout",
     "output_type": "stream",
     "text": [
      "Test, area: 314.1592653589793"
     ]
    }
   ],
   "source": [
    "!curl 'http://127.0.0.1:8080/area/circle?radius=10'"
   ]
  },
  {
   "cell_type": "code",
   "execution_count": 17,
   "metadata": {},
   "outputs": [],
   "source": [
    "# add html"
   ]
  },
  {
   "cell_type": "code",
   "execution_count": 18,
   "metadata": {},
   "outputs": [
    {
     "name": "stdout",
     "output_type": "stream",
     "text": [
      "from bottle import *\r\n",
      "from pprint import pprint\r\n",
      "import time\r\n",
      "import algebra\r\n",
      "\r\n",
      "@route('/')\r\n",
      "def welcome():\r\n",
      "    if 'text/html' in request.headers.get('Accept', '*/*'):\r\n",
      "        response.content_type = 'text/html'\r\n",
      "        return '<h1> Howdy! <h1>'\r\n",
      "    response.content_type = 'text/plain'\r\n",
      "    return 'Hello'\r\n",
      "\r\n",
      "@route('/now')\r\n",
      "def time_service():\r\n",
      "    response.content_type = 'text/plain'\r\n",
      "    response.set_header('Cache-Control', 'max-age=10')\r\n",
      "    return time.ctime()\r\n",
      "\r\n",
      "@route('/upper/<word>')\r\n",
      "def upper_case_service(word):\r\n",
      "    response.content_type = 'text/plain'\r\n",
      "    return word.upper()\r\n",
      "\r\n",
      "@route('/area/circle')\r\n",
      "def circle_area_service():\r\n",
      "    query = dict(request.query)\r\n",
      "    try:\r\n",
      "        radius = float(request.query.get('radius', '0.0'))\r\n",
      "    except ValueError as e:\r\n",
      "        return e.args[0]\r\n",
      "    area = algebra.area_circle(radius)\r\n",
      "    return f'<p> The area is <em> {area} </em> </p>'\r\n",
      "\r\n",
      "if __name__ == '__main__':\r\n",
      "\r\n",
      "    run(host='localhost', port=8080)\r\n"
     ]
    }
   ],
   "source": [
    "!cat rest_api_server.py"
   ]
  },
  {
   "cell_type": "code",
   "execution_count": 20,
   "metadata": {},
   "outputs": [
    {
     "name": "stdout",
     "output_type": "stream",
     "text": [
      "<p> The area is <em> 314.1592653589793 </em> </p>"
     ]
    }
   ],
   "source": [
    "!curl 'http://127.0.0.1:8080/area/circle?radius=10'"
   ]
  },
  {
   "cell_type": "code",
   "execution_count": 22,
   "metadata": {},
   "outputs": [],
   "source": [
    "# add content negotiation for stop displaying html in curl\n",
    "# return JSON objects\n",
    "# REST APIs typically return JSON objects"
   ]
  },
  {
   "cell_type": "code",
   "execution_count": 23,
   "metadata": {},
   "outputs": [
    {
     "name": "stdout",
     "output_type": "stream",
     "text": [
      "from bottle import *\r\n",
      "from pprint import pprint\r\n",
      "import time\r\n",
      "import algebra\r\n",
      "\r\n",
      "@route('/')\r\n",
      "def welcome():\r\n",
      "    if 'text/html' in request.headers.get('Accept', '*/*'):\r\n",
      "        response.content_type = 'text/html'\r\n",
      "        return '<h1> Howdy! <h1>'\r\n",
      "    response.content_type = 'text/plain'\r\n",
      "    return 'Hello'\r\n",
      "\r\n",
      "@route('/now')\r\n",
      "def time_service():\r\n",
      "    response.content_type = 'text/plain'\r\n",
      "    response.set_header('Cache-Control', 'max-age=10')\r\n",
      "    return time.ctime()\r\n",
      "\r\n",
      "@route('/upper/<word>')\r\n",
      "def upper_case_service(word):\r\n",
      "    response.content_type = 'text/plain'\r\n",
      "    return word.upper()\r\n",
      "\r\n",
      "@route('/area/circle')\r\n",
      "def circle_area_service():\r\n",
      "    query = dict(request.query)\r\n",
      "    try:\r\n",
      "        radius = float(request.query.get('radius', '0.0'))\r\n",
      "    except ValueError as e:\r\n",
      "        return e.args[0]\r\n",
      "    area = algebra.area_circle(radius)\r\n",
      "    if 'text/html' in request.headers.get('Accept', '*/*'):\r\n",
      "        response.content_type = 'text/html'\r\n",
      "        return f'<p> The area is <em> {area} </em> </p>'\r\n",
      "    return dict(radius=radius, area=area, service=request.path)\r\n",
      "\r\n",
      "if __name__ == '__main__':\r\n",
      "\r\n",
      "    run(host='localhost', port=8080)\r\n"
     ]
    }
   ],
   "source": [
    "!cat rest_api_server.py"
   ]
  },
  {
   "cell_type": "code",
   "execution_count": 24,
   "metadata": {},
   "outputs": [
    {
     "name": "stdout",
     "output_type": "stream",
     "text": [
      "{\"radius\": 10.0, \"area\": 314.1592653589793, \"service\": \"/area/circle\"}"
     ]
    }
   ],
   "source": [
    "!curl 'http://127.0.0.1:8080/area/circle?radius=10'"
   ]
  },
  {
   "cell_type": "code",
   "execution_count": 25,
   "metadata": {},
   "outputs": [
    {
     "name": "stdout",
     "output_type": "stream",
     "text": [
      "*   Trying 127.0.0.1...\r\n",
      "* TCP_NODELAY set\r\n",
      "* Connected to 127.0.0.1 (127.0.0.1) port 8080 (#0)\r\n",
      "> GET /area/circle?radius=10 HTTP/1.1\r",
      "\r\n",
      "> Host: 127.0.0.1:8080\r",
      "\r\n",
      "> User-Agent: curl/7.58.0\r",
      "\r\n",
      "> Accept: */*\r",
      "\r\n",
      "> \r",
      "\r\n",
      "* HTTP 1.0, assume close after body\r\n",
      "< HTTP/1.0 200 OK\r",
      "\r\n",
      "< Date: Fri, 20 Sep 2019 09:46:36 GMT\r",
      "\r\n",
      "< Server: WSGIServer/0.2 CPython/3.7.4\r",
      "\r\n",
      "< Content-Type: application/json\r",
      "\r\n",
      "< Content-Length: 70\r",
      "\r\n",
      "< \r",
      "\r\n",
      "* Closing connection 0\r\n",
      "{\"radius\": 10.0, \"area\": 314.1592653589793, \"service\": \"/area/circle\"}"
     ]
    }
   ],
   "source": [
    "!curl -v 'http://127.0.0.1:8080/area/circle?radius=10'"
   ]
  },
  {
   "cell_type": "code",
   "execution_count": 27,
   "metadata": {},
   "outputs": [],
   "source": [
    "# Content negotiation can confuse caches unless the 'Vary' head is used\n",
    "# add Vary"
   ]
  },
  {
   "cell_type": "code",
   "execution_count": 28,
   "metadata": {},
   "outputs": [
    {
     "name": "stdout",
     "output_type": "stream",
     "text": [
      "from bottle import *\r\n",
      "from pprint import pprint\r\n",
      "import time\r\n",
      "import algebra\r\n",
      "\r\n",
      "@route('/')\r\n",
      "def welcome():\r\n",
      "    response.set_header('Vary', 'Accept')\r\n",
      "    if 'text/html' in request.headers.get('Accept', '*/*'):\r\n",
      "        response.content_type = 'text/html'\r\n",
      "        return '<h1> Howdy! <h1>'\r\n",
      "    response.content_type = 'text/plain'\r\n",
      "    return 'Hello'\r\n",
      "\r\n",
      "@route('/now')\r\n",
      "def time_service():\r\n",
      "    response.content_type = 'text/plain'\r\n",
      "    response.set_header('Cache-Control', 'max-age=10')\r\n",
      "    return time.ctime()\r\n",
      "\r\n",
      "@route('/upper/<word>')\r\n",
      "def upper_case_service(word):\r\n",
      "    response.content_type = 'text/plain'\r\n",
      "    return word.upper()\r\n",
      "\r\n",
      "@route('/area/circle')\r\n",
      "def circle_area_service():\r\n",
      "    response.set_header('Vary', 'Accept')\r\n",
      "    try:\r\n",
      "        radius = float(request.query.get('radius', '0.0'))\r\n",
      "    except ValueError as e:\r\n",
      "        return e.args[0]\r\n",
      "    area = algebra.area_circle(radius)\r\n",
      "    if 'text/html' in request.headers.get('Accept', '*/*'):\r\n",
      "        response.content_type = 'text/html'\r\n",
      "        return f'<p> The area is <em> {area} </em> </p>'\r\n",
      "    return dict(radius=radius, area=area, service=request.path)\r\n",
      "\r\n",
      "if __name__ == '__main__':\r\n",
      "\r\n",
      "    run(host='localhost', port=8080)\r\n"
     ]
    }
   ],
   "source": [
    "!cat rest_api_server.py"
   ]
  },
  {
   "cell_type": "code",
   "execution_count": 29,
   "metadata": {},
   "outputs": [],
   "source": [
    "# add cookie"
   ]
  },
  {
   "cell_type": "code",
   "execution_count": 30,
   "metadata": {},
   "outputs": [
    {
     "name": "stdout",
     "output_type": "stream",
     "text": [
      "from bottle import *\r\n",
      "from pprint import pprint\r\n",
      "import time\r\n",
      "import algebra\r\n",
      "\r\n",
      "@route('/')\r\n",
      "def welcome():\r\n",
      "    response.set_header('Vary', 'Accept')\r\n",
      "    if 'text/html' in request.headers.get('Accept', '*/*'):\r\n",
      "        response.content_type = 'text/html'\r\n",
      "        return '<h1> Howdy! <h1>'\r\n",
      "    response.content_type = 'text/plain'\r\n",
      "    return 'Hello'\r\n",
      "\r\n",
      "@route('/now')\r\n",
      "def time_service():\r\n",
      "    response.content_type = 'text/plain'\r\n",
      "    response.set_header('Cache-Control', 'max-age=10')\r\n",
      "    return time.ctime()\r\n",
      "\r\n",
      "@route('/upper/<word>')\r\n",
      "def upper_case_service(word):\r\n",
      "    response.content_type = 'text/plain'\r\n",
      "    return word.upper()\r\n",
      "\r\n",
      "@route('/area/circle')\r\n",
      "def circle_area_service():\r\n",
      "    response.set_header('Vary', 'Accept')\r\n",
      "    response.set_cookie('last-visit', time.ctime())\r\n",
      "    try:\r\n",
      "        radius = float(request.query.get('radius', '0.0'))\r\n",
      "    except ValueError as e:\r\n",
      "        return e.args[0]\r\n",
      "    area = algebra.area_circle(radius)\r\n",
      "    if 'text/html' in request.headers.get('Accept', '*/*'):\r\n",
      "        response.content_type = 'text/html'\r\n",
      "        return f'<p> The area is <em> {area} </em> </p>'\r\n",
      "    return dict(radius=radius, area=area, service=request.path)\r\n",
      "\r\n",
      "if __name__ == '__main__':\r\n",
      "\r\n",
      "    run(host='localhost', port=8080)\r\n"
     ]
    }
   ],
   "source": [
    "!cat rest_api_server.py"
   ]
  },
  {
   "cell_type": "code",
   "execution_count": 32,
   "metadata": {},
   "outputs": [
    {
     "name": "stdout",
     "output_type": "stream",
     "text": [
      "*   Trying 127.0.0.1...\r\n",
      "* TCP_NODELAY set\r\n",
      "* Connected to 127.0.0.1 (127.0.0.1) port 8080 (#0)\r\n",
      "> GET /area/circle?radius=10 HTTP/1.1\r",
      "\r\n",
      "> Host: 127.0.0.1:8080\r",
      "\r\n",
      "> User-Agent: curl/7.58.0\r",
      "\r\n",
      "> Accept: */*\r",
      "\r\n",
      "> \r",
      "\r\n",
      "* HTTP 1.0, assume close after body\r\n",
      "< HTTP/1.0 200 OK\r",
      "\r\n",
      "< Date: Fri, 20 Sep 2019 09:52:08 GMT\r",
      "\r\n",
      "< Server: WSGIServer/0.2 CPython/3.7.4\r",
      "\r\n",
      "< Vary: Accept\r",
      "\r\n",
      "< Content-Type: application/json\r",
      "\r\n",
      "< Content-Length: 70\r",
      "\r\n",
      "< Set-Cookie: last-visit=\"Fri Sep 20 17:52:08 2019\"\r",
      "\r\n",
      "< \r",
      "\r\n",
      "* Closing connection 0\r\n",
      "{\"radius\": 10.0, \"area\": 314.1592653589793, \"service\": \"/area/circle\"}"
     ]
    }
   ],
   "source": [
    "!curl -v 'http://127.0.0.1:8080/area/circle?radius=10'"
   ]
  },
  {
   "cell_type": "code",
   "execution_count": 36,
   "metadata": {},
   "outputs": [],
   "source": [
    "# retrieve cookies, browser will return last_visit with value"
   ]
  },
  {
   "cell_type": "code",
   "execution_count": 37,
   "metadata": {},
   "outputs": [
    {
     "name": "stdout",
     "output_type": "stream",
     "text": [
      "from bottle import *\r\n",
      "from pprint import pprint\r\n",
      "import time\r\n",
      "import algebra\r\n",
      "\r\n",
      "@route('/')\r\n",
      "def welcome():\r\n",
      "    response.set_header('Vary', 'Accept')\r\n",
      "    if 'text/html' in request.headers.get('Accept', '*/*'):\r\n",
      "        response.content_type = 'text/html'\r\n",
      "        return '<h1> Howdy! <h1>'\r\n",
      "    response.content_type = 'text/plain'\r\n",
      "    return 'Hello'\r\n",
      "\r\n",
      "@route('/now')\r\n",
      "def time_service():\r\n",
      "    response.content_type = 'text/plain'\r\n",
      "    response.set_header('Cache-Control', 'max-age=10')\r\n",
      "    return time.ctime()\r\n",
      "\r\n",
      "@route('/upper/<word>')\r\n",
      "def upper_case_service(word):\r\n",
      "    response.content_type = 'text/plain'\r\n",
      "    return word.upper()\r\n",
      "\r\n",
      "@route('/area/circle')\r\n",
      "def circle_area_service():\r\n",
      "    last_visit = request.get_cookie('last-visit', 'unknown')\r\n",
      "    print(f'Last visit {last_visit}')\r\n",
      "    response.set_header('Vary', 'Accept')\r\n",
      "    response.set_cookie('last-visit', time.ctime())\r\n",
      "    try:\r\n",
      "        radius = float(request.query.get('radius', '0.0'))\r\n",
      "    except ValueError as e:\r\n",
      "        return e.args[0]\r\n",
      "    area = algebra.area_circle(radius)\r\n",
      "    if 'text/html' in request.headers.get('Accept', '*/*'):\r\n",
      "        response.content_type = 'text/html'\r\n",
      "        return f'<p> The area is <em> {area} </em> </p>'\r\n",
      "    return dict(radius=radius, area=area, service=request.path)\r\n",
      "\r\n",
      "if __name__ == '__main__':\r\n",
      "\r\n",
      "    run(host='localhost', port=8080)\r\n"
     ]
    }
   ],
   "source": [
    "!cat rest_api_server.py"
   ]
  },
  {
   "cell_type": "code",
   "execution_count": 35,
   "metadata": {},
   "outputs": [
    {
     "name": "stdout",
     "output_type": "stream",
     "text": [
      "*   Trying 127.0.0.1...\r\n",
      "* TCP_NODELAY set\r\n",
      "* Connected to 127.0.0.1 (127.0.0.1) port 8080 (#0)\r\n",
      "> GET /area/circle?radius=10 HTTP/1.1\r",
      "\r\n",
      "> Host: 127.0.0.1:8080\r",
      "\r\n",
      "> User-Agent: curl/7.58.0\r",
      "\r\n",
      "> Accept: */*\r",
      "\r\n",
      "> \r",
      "\r\n",
      "* HTTP 1.0, assume close after body\r\n",
      "< HTTP/1.0 200 OK\r",
      "\r\n",
      "< Date: Fri, 20 Sep 2019 10:04:33 GMT\r",
      "\r\n",
      "< Server: WSGIServer/0.2 CPython/3.7.4\r",
      "\r\n",
      "< Vary: Accept\r",
      "\r\n",
      "< Content-Type: application/json\r",
      "\r\n",
      "< Content-Length: 70\r",
      "\r\n",
      "< Set-Cookie: last-visit=\"Fri Sep 20 18:04:33 2019\"\r",
      "\r\n",
      "< \r",
      "\r\n",
      "* Closing connection 0\r\n",
      "{\"radius\": 10.0, \"area\": 314.1592653589793, \"service\": \"/area/circle\"}"
     ]
    }
   ],
   "source": [
    "!curl -v 'http://127.0.0.1:8080/area/circle?radius=10'"
   ]
  },
  {
   "cell_type": "code",
   "execution_count": 39,
   "metadata": {},
   "outputs": [],
   "source": [
    "# security rule, never trust a cookie from a user\n",
    "# cookies are easily spoofed, so they have a low level of trust\n",
    "# sign the cookies to add protection"
   ]
  },
  {
   "cell_type": "code",
   "execution_count": 40,
   "metadata": {},
   "outputs": [
    {
     "name": "stdout",
     "output_type": "stream",
     "text": [
      "from bottle import *\r\n",
      "from pprint import pprint\r\n",
      "import time\r\n",
      "import algebra\r\n",
      "\r\n",
      "@route('/')\r\n",
      "def welcome():\r\n",
      "    response.set_header('Vary', 'Accept')\r\n",
      "    if 'text/html' in request.headers.get('Accept', '*/*'):\r\n",
      "        response.content_type = 'text/html'\r\n",
      "        return '<h1> Howdy! <h1>'\r\n",
      "    response.content_type = 'text/plain'\r\n",
      "    return 'Hello'\r\n",
      "\r\n",
      "@route('/now')\r\n",
      "def time_service():\r\n",
      "    response.content_type = 'text/plain'\r\n",
      "    response.set_header('Cache-Control', 'max-age=10')\r\n",
      "    return time.ctime()\r\n",
      "\r\n",
      "@route('/upper/<word>')\r\n",
      "def upper_case_service(word):\r\n",
      "    response.content_type = 'text/plain'\r\n",
      "    return word.upper()\r\n",
      "\r\n",
      "secret = 'the average life expectancy of a stark or targaryen is short'\r\n",
      "\r\n",
      "@route('/area/circle')\r\n",
      "def circle_area_service():\r\n",
      "    last_visit = request.get_cookie('last-visit', 'unknown')\r\n",
      "    print(f'Last visit {last_visit}')\r\n",
      "    response.set_header('Vary', 'Accept')\r\n",
      "    response.set_cookie('last-visit', time.ctime(), secret=secret)\r\n",
      "    try:\r\n",
      "        radius = float(request.query.get('radius', '0.0'))\r\n",
      "    except ValueError as e:\r\n",
      "        return e.args[0]\r\n",
      "    area = algebra.area_circle(radius)\r\n",
      "    if 'text/html' in request.headers.get('Accept', '*/*'):\r\n",
      "        response.content_type = 'text/html'\r\n",
      "        return f'<p> The area is <em> {area} </em> </p>'\r\n",
      "    return dict(radius=radius, area=area, service=request.path)\r\n",
      "\r\n",
      "if __name__ == '__main__':\r\n",
      "\r\n",
      "    run(host='localhost', port=8080)\r\n"
     ]
    }
   ],
   "source": [
    "!cat rest_api_server.py"
   ]
  },
  {
   "cell_type": "code",
   "execution_count": 41,
   "metadata": {},
   "outputs": [
    {
     "name": "stdout",
     "output_type": "stream",
     "text": [
      "*   Trying 127.0.0.1...\r\n",
      "* TCP_NODELAY set\r\n",
      "* Connected to 127.0.0.1 (127.0.0.1) port 8080 (#0)\r\n",
      "> GET /area/circle?radius=10 HTTP/1.1\r",
      "\r\n",
      "> Host: 127.0.0.1:8080\r",
      "\r\n",
      "> User-Agent: curl/7.58.0\r",
      "\r\n",
      "> Accept: */*\r",
      "\r\n",
      "> \r",
      "\r\n",
      "* HTTP 1.0, assume close after body\r\n",
      "< HTTP/1.0 200 OK\r",
      "\r\n",
      "< Date: Fri, 20 Sep 2019 10:09:34 GMT\r",
      "\r\n",
      "< Server: WSGIServer/0.2 CPython/3.7.4\r",
      "\r\n",
      "< Vary: Accept\r",
      "\r\n",
      "< Content-Type: application/json\r",
      "\r\n",
      "< Content-Length: 70\r",
      "\r\n",
      "< Set-Cookie: last-visit=\"!+UFQ1980zwmHGjv1QxK8vg==?gASVKwAAAAAAAACMCmxhc3QtdmlzaXSUjBhGcmkgU2VwIDIwIDE4OjA5OjM0IDIwMTmUhpQu\"\r",
      "\r\n",
      "< \r",
      "\r\n",
      "* Closing connection 0\r\n",
      "{\"radius\": 10.0, \"area\": 314.1592653589793, \"service\": \"/area/circle\"}"
     ]
    }
   ],
   "source": [
    "!curl -v 'http://127.0.0.1:8080/area/circle?radius=10'"
   ]
  },
  {
   "cell_type": "code",
   "execution_count": 43,
   "metadata": {},
   "outputs": [],
   "source": [
    "# verify the secret from last_visit"
   ]
  },
  {
   "cell_type": "code",
   "execution_count": 44,
   "metadata": {},
   "outputs": [
    {
     "name": "stdout",
     "output_type": "stream",
     "text": [
      "from bottle import *\r\n",
      "from pprint import pprint\r\n",
      "import time\r\n",
      "import algebra\r\n",
      "\r\n",
      "@route('/')\r\n",
      "def welcome():\r\n",
      "    response.set_header('Vary', 'Accept')\r\n",
      "    if 'text/html' in request.headers.get('Accept', '*/*'):\r\n",
      "        response.content_type = 'text/html'\r\n",
      "        return '<h1> Howdy! <h1>'\r\n",
      "    response.content_type = 'text/plain'\r\n",
      "    return 'Hello'\r\n",
      "\r\n",
      "@route('/now')\r\n",
      "def time_service():\r\n",
      "    response.content_type = 'text/plain'\r\n",
      "    response.set_header('Cache-Control', 'max-age=10')\r\n",
      "    return time.ctime()\r\n",
      "\r\n",
      "@route('/upper/<word>')\r\n",
      "def upper_case_service(word):\r\n",
      "    response.content_type = 'text/plain'\r\n",
      "    return word.upper()\r\n",
      "\r\n",
      "secret = 'the average life expectancy of a stark or targaryen is short'\r\n",
      "\r\n",
      "@route('/area/circle')\r\n",
      "def circle_area_service():\r\n",
      "    last_visit = request.get_cookie('last-visit', 'unknown', secret=secret)\r\n",
      "    print(f'Last visit {last_visit}')\r\n",
      "    response.set_header('Vary', 'Accept')\r\n",
      "    response.set_cookie('last-visit', time.ctime(), secret=secret)\r\n",
      "    try:\r\n",
      "        radius = float(request.query.get('radius', '0.0'))\r\n",
      "    except ValueError as e:\r\n",
      "        return e.args[0]\r\n",
      "    area = algebra.area_circle(radius)\r\n",
      "    if 'text/html' in request.headers.get('Accept', '*/*'):\r\n",
      "        response.content_type = 'text/html'\r\n",
      "        return f'<p> The area is <em> {area} </em> </p>'\r\n",
      "    return dict(radius=radius, area=area, service=request.path)\r\n",
      "\r\n",
      "if __name__ == '__main__':\r\n",
      "\r\n",
      "    run(host='localhost', port=8080)\r\n"
     ]
    }
   ],
   "source": [
    "!cat rest_api_server.py"
   ]
  },
  {
   "cell_type": "code",
   "execution_count": 47,
   "metadata": {},
   "outputs": [
    {
     "name": "stdout",
     "output_type": "stream",
     "text": [
      "*   Trying 127.0.0.1...\r\n",
      "* TCP_NODELAY set\r\n",
      "* Connected to 127.0.0.1 (127.0.0.1) port 8080 (#0)\r\n",
      "> GET /area/circle?radius=10 HTTP/1.1\r",
      "\r\n",
      "> Host: 127.0.0.1:8080\r",
      "\r\n",
      "> User-Agent: curl/7.58.0\r",
      "\r\n",
      "> Accept: */*\r",
      "\r\n",
      "> \r",
      "\r\n",
      "* HTTP 1.0, assume close after body\r\n",
      "< HTTP/1.0 200 OK\r",
      "\r\n",
      "< Date: Fri, 20 Sep 2019 10:12:07 GMT\r",
      "\r\n",
      "< Server: WSGIServer/0.2 CPython/3.7.4\r",
      "\r\n",
      "< Vary: Accept\r",
      "\r\n",
      "< Content-Type: application/json\r",
      "\r\n",
      "< Content-Length: 70\r",
      "\r\n",
      "< Set-Cookie: last-visit=\"!O2jzhUOr0LBbG3/cr7Ezog==?gASVKwAAAAAAAACMCmxhc3QtdmlzaXSUjBhGcmkgU2VwIDIwIDE4OjEyOjA3IDIwMTmUhpQu\"\r",
      "\r\n",
      "< \r",
      "\r\n",
      "* Closing connection 0\r\n",
      "{\"radius\": 10.0, \"area\": 314.1592653589793, \"service\": \"/area/circle\"}"
     ]
    }
   ],
   "source": [
    "!curl -v 'http://127.0.0.1:8080/area/circle?radius=10'"
   ]
  },
  {
   "cell_type": "code",
   "execution_count": 48,
   "metadata": {},
   "outputs": [],
   "source": [
    "# add template"
   ]
  },
  {
   "cell_type": "code",
   "execution_count": 49,
   "metadata": {},
   "outputs": [],
   "source": [
    "from bottle import template"
   ]
  },
  {
   "cell_type": "code",
   "execution_count": 50,
   "metadata": {},
   "outputs": [
    {
     "name": "stdout",
     "output_type": "stream",
     "text": [
      "The answer is 10\n"
     ]
    }
   ],
   "source": [
    "print(template('The answer is {{x}}', x=10))"
   ]
  },
  {
   "cell_type": "code",
   "execution_count": null,
   "metadata": {},
   "outputs": [],
   "source": []
  },
  {
   "cell_type": "code",
   "execution_count": 51,
   "metadata": {},
   "outputs": [],
   "source": [
    "lastname = 'hettinger'"
   ]
  },
  {
   "cell_type": "code",
   "execution_count": 52,
   "metadata": {},
   "outputs": [],
   "source": [
    "first_names = 'raymond rachel matthew'.split()"
   ]
  },
  {
   "cell_type": "code",
   "execution_count": 53,
   "metadata": {},
   "outputs": [],
   "source": [
    "family_template = '''\n",
    "The {{lastname}} Family\n",
    "'''"
   ]
  },
  {
   "cell_type": "code",
   "execution_count": 55,
   "metadata": {},
   "outputs": [
    {
     "name": "stdout",
     "output_type": "stream",
     "text": [
      "\n",
      "The hettinger Family\n",
      "\n"
     ]
    }
   ],
   "source": [
    "print(template(family_template, lastname=lastname, first_names=first_names))"
   ]
  },
  {
   "cell_type": "code",
   "execution_count": 58,
   "metadata": {},
   "outputs": [],
   "source": [
    "family_template = '''\n",
    "The {{lastname.title()}} Family\n",
    "'''"
   ]
  },
  {
   "cell_type": "code",
   "execution_count": 59,
   "metadata": {},
   "outputs": [
    {
     "name": "stdout",
     "output_type": "stream",
     "text": [
      "\n",
      "The Hettinger Family\n",
      "\n"
     ]
    }
   ],
   "source": [
    "print(template(family_template, lastname=lastname, first_names=first_names))"
   ]
  },
  {
   "cell_type": "code",
   "execution_count": 60,
   "metadata": {},
   "outputs": [],
   "source": [
    "family_template = '''\n",
    "The {{lastname.title()}} Family\n",
    "===============================\n",
    "'''"
   ]
  },
  {
   "cell_type": "code",
   "execution_count": 61,
   "metadata": {},
   "outputs": [
    {
     "name": "stdout",
     "output_type": "stream",
     "text": [
      "\n",
      "The Hettinger Family\n",
      "===============================\n",
      "\n"
     ]
    }
   ],
   "source": [
    "print(template(family_template, lastname=lastname, first_names=first_names))"
   ]
  },
  {
   "cell_type": "code",
   "execution_count": 62,
   "metadata": {},
   "outputs": [],
   "source": [
    "family_template = '''\n",
    "The {{lastname.title()}} Family\n",
    "{{'=' * (len(lastname) + 11)}}\n",
    "'''"
   ]
  },
  {
   "cell_type": "code",
   "execution_count": 63,
   "metadata": {},
   "outputs": [
    {
     "name": "stdout",
     "output_type": "stream",
     "text": [
      "\n",
      "The Hettinger Family\n",
      "====================\n",
      "\n"
     ]
    }
   ],
   "source": [
    "print(template(family_template, lastname=lastname, first_names=first_names))"
   ]
  },
  {
   "cell_type": "code",
   "execution_count": 64,
   "metadata": {},
   "outputs": [],
   "source": [
    "family_template = '''\n",
    "The {{lastname.title()}} Family\n",
    "{{'=' * (len(lastname) + 11)}}\n",
    "% for name in first_names:\n",
    "    {{name}}\n",
    "% end\n",
    "'''"
   ]
  },
  {
   "cell_type": "code",
   "execution_count": 65,
   "metadata": {},
   "outputs": [
    {
     "name": "stdout",
     "output_type": "stream",
     "text": [
      "\n",
      "The Hettinger Family\n",
      "====================\n",
      "    raymond\n",
      "    rachel\n",
      "    matthew\n",
      "\n"
     ]
    }
   ],
   "source": [
    "print(template(family_template, lastname=lastname, first_names=first_names))"
   ]
  },
  {
   "cell_type": "code",
   "execution_count": 66,
   "metadata": {},
   "outputs": [],
   "source": [
    "family_template = '''\n",
    "The {{lastname.title()}} Family\n",
    "{{'=' * (len(lastname) + 11)}}\n",
    "% for name in first_names:\n",
    "*    {{name.title()}}\n",
    "% end\n",
    "'''"
   ]
  },
  {
   "cell_type": "code",
   "execution_count": 67,
   "metadata": {},
   "outputs": [
    {
     "name": "stdout",
     "output_type": "stream",
     "text": [
      "\n",
      "The Hettinger Family\n",
      "====================\n",
      "*    Raymond\n",
      "*    Rachel\n",
      "*    Matthew\n",
      "\n"
     ]
    }
   ],
   "source": [
    "print(template(family_template, lastname=lastname, first_names=first_names))"
   ]
  },
  {
   "cell_type": "code",
   "execution_count": 68,
   "metadata": {},
   "outputs": [],
   "source": [
    "# create a simple file server"
   ]
  },
  {
   "cell_type": "code",
   "execution_count": 69,
   "metadata": {},
   "outputs": [],
   "source": [
    "import os"
   ]
  },
  {
   "cell_type": "code",
   "execution_count": 70,
   "metadata": {},
   "outputs": [
    {
     "data": {
      "text/plain": [
       "['congress_votes_114-2016_s151.csv',\n",
       " 'congress_votes_114-2016_s47.csv',\n",
       " 'congress_votes_114-2016_s38.csv',\n",
       " 'congress_votes_114-2016_s83.csv',\n",
       " 'congress_votes_114-2016_s22.csv',\n",
       " 'congress_votes_114-2016_s54.csv',\n",
       " 'congress_votes_114-2016_s152.csv',\n",
       " 'congress_votes_114-2016_s84.csv',\n",
       " 'congress_votes_114-2016_s116.csv',\n",
       " 'congress_votes_114-2016_s143.csv',\n",
       " 'congress_votes_114-2016_s129.csv',\n",
       " 'congress_votes_114-2016_s98.csv',\n",
       " 'congress_votes_114-2016_s157.csv',\n",
       " 'congress_votes_114-2016_s82.csv',\n",
       " 'congress_votes_114-2016_s86.csv',\n",
       " 'congress_votes_114-2016_s163.csv',\n",
       " 'congress_votes_114-2016_s71.csv',\n",
       " 'congress_votes_114-2016_s155.csv',\n",
       " 'congress_votes_114-2016_s20.csv',\n",
       " 'congress_votes_114-2016_s34.csv',\n",
       " 'congress_votes_114-2016_s159.csv',\n",
       " 'congress_votes_114-2016_s39.csv',\n",
       " 'congress_votes_114-2016_s127.csv',\n",
       " 'congress_votes_114-2016_s161.csv',\n",
       " 'congress_votes_114-2016_s26.csv',\n",
       " 'congress_votes_114-2016_s154.csv',\n",
       " 'congress_votes_114-2016_s123.csv',\n",
       " 'congress_votes_114-2016_s141.csv']"
      ]
     },
     "execution_count": 70,
     "metadata": {},
     "output_type": "execute_result"
    }
   ],
   "source": [
    "os.listdir('congress_data')"
   ]
  },
  {
   "cell_type": "code",
   "execution_count": 71,
   "metadata": {},
   "outputs": [
    {
     "name": "stdout",
     "output_type": "stream",
     "text": [
      "from bottle import *\r\n",
      "from pprint import pprint\r\n",
      "import time\r\n",
      "import algebra\r\n",
      "import os\r\n",
      "\r\n",
      "@route('/')\r\n",
      "def welcome():\r\n",
      "    response.set_header('Vary', 'Accept')\r\n",
      "    if 'text/html' in request.headers.get('Accept', '*/*'):\r\n",
      "        response.content_type = 'text/html'\r\n",
      "        return '<h1> Howdy! <h1>'\r\n",
      "    response.content_type = 'text/plain'\r\n",
      "    return 'Hello'\r\n",
      "\r\n",
      "@route('/now')\r\n",
      "def time_service():\r\n",
      "    response.content_type = 'text/plain'\r\n",
      "    response.set_header('Cache-Control', 'max-age=10')\r\n",
      "    return time.ctime()\r\n",
      "\r\n",
      "@route('/upper/<word>')\r\n",
      "def upper_case_service(word):\r\n",
      "    response.content_type = 'text/plain'\r\n",
      "    return word.upper()\r\n",
      "\r\n",
      "secret = 'the average life expectancy of a stark or targaryen is short'\r\n",
      "\r\n",
      "@route('/area/circle')\r\n",
      "def circle_area_service():\r\n",
      "    last_visit = request.get_cookie('last-visit', 'unknown', secret=secret)\r\n",
      "    print(f'Last visit {last_visit}')\r\n",
      "    response.set_header('Vary', 'Accept')\r\n",
      "    response.set_cookie('last-visit', time.ctime(), secret=secret)\r\n",
      "    try:\r\n",
      "        radius = float(request.query.get('radius', '0.0'))\r\n",
      "    except ValueError as e:\r\n",
      "        return e.args[0]\r\n",
      "    area = algebra.area_circle(radius)\r\n",
      "    if 'text/html' in request.headers.get('Accept', '*/*'):\r\n",
      "        response.content_type = 'text/html'\r\n",
      "        return f'<p> The area is <em> {area} </em> </p>'\r\n",
      "    return dict(radius=radius, area=area, service=request.path)\r\n",
      "\r\n",
      "## File Server ###########################################################3\r\n",
      "\r\n",
      "@route('/files')\r\n",
      "def show_files():\r\n",
      "    files = os.listdir('congress_data')\r\n",
      "    return dict(files=files)\r\n",
      "\r\n",
      "if __name__ == '__main__':\r\n",
      "\r\n",
      "    run(host='localhost', port=8080)\r\n"
     ]
    }
   ],
   "source": [
    "!cat rest_api_server.py"
   ]
  },
  {
   "cell_type": "code",
   "execution_count": 73,
   "metadata": {},
   "outputs": [
    {
     "name": "stdout",
     "output_type": "stream",
     "text": [
      "{\"files\": [\"congress_votes_114-2016_s151.csv\", \"congress_votes_114-2016_s47.csv\", \"congress_votes_114-2016_s38.csv\", \"congress_votes_114-2016_s83.csv\", \"congress_votes_114-2016_s22.csv\", \"congress_votes_114-2016_s54.csv\", \"congress_votes_114-2016_s152.csv\", \"congress_votes_114-2016_s84.csv\", \"congress_votes_114-2016_s116.csv\", \"congress_votes_114-2016_s143.csv\", \"congress_votes_114-2016_s129.csv\", \"congress_votes_114-2016_s98.csv\", \"congress_votes_114-2016_s157.csv\", \"congress_votes_114-2016_s82.csv\", \"congress_votes_114-2016_s86.csv\", \"congress_votes_114-2016_s163.csv\", \"congress_votes_114-2016_s71.csv\", \"congress_votes_114-2016_s155.csv\", \"congress_votes_114-2016_s20.csv\", \"congress_votes_114-2016_s34.csv\", \"congress_votes_114-2016_s159.csv\", \"congress_votes_114-2016_s39.csv\", \"congress_votes_114-2016_s127.csv\", \"congress_votes_114-2016_s161.csv\", \"congress_votes_114-2016_s26.csv\", \"congress_votes_114-2016_s154.csv\", \"congress_votes_114-2016_s123.csv\", \"congress_votes_114-2016_s141.csv\"]}"
     ]
    }
   ],
   "source": [
    "!curl 'http://127.0.0.1:8080/files'"
   ]
  },
  {
   "cell_type": "code",
   "execution_count": 74,
   "metadata": {},
   "outputs": [],
   "source": [
    "# display dynamic content for different users"
   ]
  },
  {
   "cell_type": "code",
   "execution_count": 75,
   "metadata": {},
   "outputs": [
    {
     "name": "stdout",
     "output_type": "stream",
     "text": [
      "from bottle import *\r\n",
      "from pprint import pprint\r\n",
      "import time\r\n",
      "import algebra\r\n",
      "import os\r\n",
      "\r\n",
      "@route('/')\r\n",
      "def welcome():\r\n",
      "    response.set_header('Vary', 'Accept')\r\n",
      "    if 'text/html' in request.headers.get('Accept', '*/*'):\r\n",
      "        response.content_type = 'text/html'\r\n",
      "        return '<h1> Howdy! <h1>'\r\n",
      "    response.content_type = 'text/plain'\r\n",
      "    return 'Hello'\r\n",
      "\r\n",
      "@route('/now')\r\n",
      "def time_service():\r\n",
      "    response.content_type = 'text/plain'\r\n",
      "    response.set_header('Cache-Control', 'max-age=10')\r\n",
      "    return time.ctime()\r\n",
      "\r\n",
      "@route('/upper/<word>')\r\n",
      "def upper_case_service(word):\r\n",
      "    response.content_type = 'text/plain'\r\n",
      "    return word.upper()\r\n",
      "\r\n",
      "secret = 'the average life expectancy of a stark or targaryen is short'\r\n",
      "\r\n",
      "@route('/area/circle')\r\n",
      "def circle_area_service():\r\n",
      "    last_visit = request.get_cookie('last-visit', 'unknown', secret=secret)\r\n",
      "    print(f'Last visit {last_visit}')\r\n",
      "    response.set_header('Vary', 'Accept')\r\n",
      "    response.set_cookie('last-visit', time.ctime(), secret=secret)\r\n",
      "    try:\r\n",
      "        radius = float(request.query.get('radius', '0.0'))\r\n",
      "    except ValueError as e:\r\n",
      "        return e.args[0]\r\n",
      "    area = algebra.area_circle(radius)\r\n",
      "    if 'text/html' in request.headers.get('Accept', '*/*'):\r\n",
      "        response.content_type = 'text/html'\r\n",
      "        return f'<p> The area is <em> {area} </em> </p>'\r\n",
      "    return dict(radius=radius, area=area, service=request.path)\r\n",
      "\r\n",
      "## File Server ###########################################################3\r\n",
      "\r\n",
      "file_template = '''\\\r\n",
      "<h1> List of files in <em> Congress Data </em> directory </h1>\r\n",
      "<hr>\r\n",
      "<ol>\r\n",
      "    % for file in files:\r\n",
      "        <li> {{file}} </li>\r\n",
      "    % end\r\n",
      "</ol>\r\n",
      "'''\r\n",
      "\r\n",
      "@route('/files')\r\n",
      "def show_files():\r\n",
      "    response.set_header('Vary', 'Accept')\r\n",
      "    files = os.listdir('congress_data')\r\n",
      "    if 'text/html' not in request.headers.get('Accept', '*/*'):\r\n",
      "        return dict(files=files)\r\n",
      "    return template(file_template, files=files)\r\n",
      "\r\n",
      "if __name__ == '__main__':\r\n",
      "\r\n",
      "    run(host='localhost', port=8080)\r\n"
     ]
    }
   ],
   "source": [
    "!cat rest_api_server.py"
   ]
  },
  {
   "cell_type": "code",
   "execution_count": 76,
   "metadata": {},
   "outputs": [],
   "source": [
    "# download a particular file"
   ]
  },
  {
   "cell_type": "code",
   "execution_count": 77,
   "metadata": {},
   "outputs": [
    {
     "name": "stdout",
     "output_type": "stream",
     "text": [
      "Senate Vote #123 2016-07-07T22:45:00 - S. 764: Defund Planned Parenthood Act of 2015\r\n",
      "person,state,district,vote,name,party\r",
      "\r\n",
      "300002,TN,,Yea,Sen. Lamar Alexander [R],Republican\r",
      "\r\n",
      "300011,CA,,Not Voting,Sen. Barbara Boxer [D],Democrat\r",
      "\r\n",
      "300018,WA,,Nay,Sen. Maria Cantwell [D],Democrat\r",
      "\r\n",
      "300019,DE,,Yea,Sen. Thomas Carper [D],Democrat\r",
      "\r\n",
      "300023,MS,,Yea,Sen. Thad Cochran [R],Republican\r",
      "\r\n",
      "300025,ME,,Nay,Sen. Susan Collins [R],Republican\r",
      "\r\n",
      "300027,TX,,Yea,Sen. John Cornyn [R],Republican\r",
      "\r\n",
      "300030,ID,,Yea,Sen. Michael Crapo [R],Republican\r",
      "\r\n",
      "300038,IL,,Nay,Sen. Richard Durbin [D],Democrat\r",
      "\r\n",
      "300041,WY,,Yea,Sen. Michael Enzi [R],Republican\r",
      "\r\n",
      "300043,CA,,Yea,Sen. Dianne Feinstein [D],Democrat\r",
      "\r\n",
      "300047,SC,,Not Voting,Sen. Lindsey Graham [R],Republican\r",
      "\r\n",
      "300048,IA,,Yea,Sen. Charles “Chuck” Grassley [R],Republican\r",
      "\r\n",
      "300052,UT,,Yea,Sen. Orrin Hatch [R],Republican\r",
      "\r\n",
      "300055,OK,,Yea,Sen. James “Jim” Inhofe [R],Republican\r",
      "\r\n",
      "300065,VT,,Nay,Sen. Patrick Leahy [D],Democrat\r",
      "\r\n",
      "300071,AZ,,Yea,Sen. John McCain [R],Republican\r",
      "\r\n",
      "300072,KY,,Yea,Sen. Mitch McConnell [R],Republican\r",
      "\r\n",
      "300073,MD,,Yea,Sen. Barbara Mikulski [D],Democrat\r",
      "\r\n",
      "300075,AK,,Nay,Sen. Lisa Murkowski [R],Republican\r",
      "\r\n",
      "300076,WA,,Nay,Sen. Patty Murray [D],Democrat\r",
      "\r\n",
      "300078,FL,,Yea,Sen. Bill Nelson [D],Democrat\r",
      "\r\n",
      "300081,RI,,Nay,Sen. John “Jack” Reed [D],Democrat\r",
      "\r\n",
      "300082,NV,,Nay,Sen. Harry Reid [D],Democrat\r",
      "\r\n",
      "300083,KS,,Yea,Sen. Pat Roberts [R],Republican\r",
      "\r\n",
      "300087,NY,,Nay,Sen. Charles “Chuck” Schumer [D],Democrat\r",
      "\r\n",
      "300088,AL,,Nay,Sen. Jefferson “Jeff” Sessions [R],Republican\r",
      "\r\n",
      "300089,AL,,Yea,Sen. Richard Shelby [R],Republican\r",
      "\r\n",
      "300093,MI,,Yea,Sen. Debbie Stabenow [D],Democrat\r",
      "\r\n",
      "300100,OR,,Nay,Sen. Ron Wyden [D],Democrat\r",
      "\r\n",
      "400013,WI,,Yea,Sen. Tammy Baldwin [D],Democrat\r",
      "\r\n",
      "400034,MO,,Yea,Sen. Roy Blunt [R],Republican\r",
      "\r\n",
      "400040,AR,,Yea,Sen. John Boozman [R],Republican\r",
      "\r\n",
      "400050,OH,,Yea,Sen. Sherrod Brown [D],Democrat\r",
      "\r\n",
      "400054,NC,,Yea,Sen. Richard Burr [R],Republican\r",
      "\r\n",
      "400061,WV,,Yea,Sen. Shelley Capito [R],Republican\r",
      "\r\n",
      "400064,MD,,Nay,Sen. Benjamin Cardin [D],Democrat\r",
      "\r\n",
      "400134,AZ,,Nay,Sen. Jeff Flake [R],Republican\r",
      "\r\n",
      "400194,GA,,Yea,Sen. John “Johnny” Isakson [R],Republican\r",
      "\r\n",
      "400222,IL,,Yea,Sen. Mark Kirk [R],Republican\r",
      "\r\n",
      "400253,MA,,Nay,Sen. Edward “Ed” Markey [D],Democrat\r",
      "\r\n",
      "400272,NJ,,Yea,Sen. Robert “Bob” Menéndez [D],Democrat\r",
      "\r\n",
      "400284,KS,,Yea,Sen. Jerry Moran [R],Republican\r",
      "\r\n",
      "400325,OH,,Yea,Sen. Robert “Rob” Portman [R],Republican\r",
      "\r\n",
      "400357,VT,,Nay,Sen. Bernard “Bernie” Sanders [I],Independent\r",
      "\r\n",
      "400408,PA,,Yea,Sen. Patrick “Pat” Toomey [R],Republican\r",
      "\r\n",
      "400413,NM,,Nay,Sen. Tom Udall [D],Democrat\r",
      "\r\n",
      "400418,LA,,Not Voting,Sen. David Vitter [R],Republican\r",
      "\r\n",
      "400432,MS,,Yea,Sen. Roger Wicker [R],Republican\r",
      "\r\n",
      "400546,SD,,Yea,Sen. John Thune [R],Republican\r",
      "\r\n",
      "402675,IN,,Not Voting,Sen. Daniel Coats [R],Republican\r",
      "\r\n",
      "412194,CT,,Nay,Sen. Christopher Murphy [D],Democrat\r",
      "\r\n",
      "412200,HI,,Yea,Sen. Mazie Hirono [D],Democrat\r",
      "\r\n",
      "412205,IN,,Yea,Sen. Joe Donnelly [D],Democrat\r",
      "\r\n",
      "412218,NV,,Not Voting,Sen. Dean Heller [R],Republican\r",
      "\r\n",
      "412223,NY,,Nay,Sen. Kirsten Gillibrand [D],Democrat\r",
      "\r\n",
      "412242,MN,,Yea,Sen. Amy Klobuchar [D],Democrat\r",
      "\r\n",
      "412243,MO,,Yea,Sen. Claire McCaskill [D],Democrat\r",
      "\r\n",
      "412244,MT,,Nay,Sen. Jon Tester [D],Democrat\r",
      "\r\n",
      "412246,PA,,Yea,Sen. Robert “Bob” Casey Jr. [D],Democrat\r",
      "\r\n",
      "412247,RI,,Nay,Sen. Sheldon Whitehouse [D],Democrat\r",
      "\r\n",
      "412248,TN,,Yea,Sen. Bob Corker [R],Republican\r",
      "\r\n",
      "412251,WY,,Yea,Sen. John Barrasso [R],Republican\r",
      "\r\n",
      "412269,LA,,Yea,Sen. Bill Cassidy [R],Republican\r",
      "\r\n",
      "412281,NM,,Nay,Sen. Martin Heinrich [D],Democrat\r",
      "\r\n",
      "412305,MI,,Yea,Sen. Gary Peters [D],Democrat\r",
      "\r\n",
      "412321,VA,,Yea,Sen. Mark Warner [D],Democrat\r",
      "\r\n",
      "412322,ID,,Yea,Sen. James Risch [R],Republican\r",
      "\r\n",
      "412323,NH,,Yea,Sen. Jeanne Shaheen [D],Democrat\r",
      "\r\n",
      "412325,OR,,Nay,Sen. Jeff Merkley [D],Democrat\r",
      "\r\n",
      "412330,CO,,Yea,Sen. Michael Bennet [D],Democrat\r",
      "\r\n",
      "412378,MN,,Yea,Sen. Alan “Al” Franken [D],Democrat\r",
      "\r\n",
      "412390,DE,,Not Voting,Sen. Chris Coons [D],Democrat\r",
      "\r\n",
      "412391,WV,,Yea,Sen. Joe Manchin III [D],Democrat\r",
      "\r\n",
      "412406,CO,,Yea,Sen. Cory Gardner [R],Republican\r",
      "\r\n",
      "412464,OK,,Yea,Sen. James Lankford [R],Republican\r",
      "\r\n",
      "412471,SC,,Yea,Sen. Tim Scott [R],Republican\r",
      "\r\n",
      "412490,CT,,Nay,Sen. Richard Blumenthal [D],Democrat\r",
      "\r\n",
      "412491,FL,,Yea,Sen. Marco Rubio [R],Republican\r",
      "\r\n",
      "412492,KY,,Nay,Sen. Rand Paul [R],Republican\r",
      "\r\n",
      "412493,NH,,Yea,Sen. Kelly Ayotte [R],Republican\r",
      "\r\n",
      "412494,ND,,Yea,Sen. John Hoeven [R],Republican\r",
      "\r\n",
      "412495,UT,,Not Voting,Sen. Mike Lee [R],Republican\r",
      "\r\n",
      "412496,WI,,Yea,Sen. Ron Johnson [R],Republican\r",
      "\r\n",
      "412507,HI,,Nay,Sen. Brian Schatz [D],Democrat\r",
      "\r\n",
      "412508,AR,,Yea,Sen. Tom Cotton [R],Republican\r",
      "\r\n",
      "412542,MA,,Nay,Sen. Elizabeth Warren [D],Democrat\r",
      "\r\n",
      "412545,ME,,Nay,Sen. Angus King [I],Independent\r",
      "\r\n",
      "412549,MT,,Yea,Sen. Steve Daines [R],Republican\r",
      "\r\n",
      "412554,ND,,Yea,Sen. Heidi Heitkamp [D],Democrat\r",
      "\r\n",
      "412556,NE,,Yea,Sen. Deb Fischer [R],Republican\r",
      "\r\n",
      "412573,TX,,Yea,Sen. Ted Cruz [R],Republican\r",
      "\r\n",
      "412582,VA,,Yea,Sen. Timothy Kaine [D],Democrat\r",
      "\r\n",
      "412598,NJ,,Nay,Sen. Cory Booker [D],Democrat\r",
      "\r\n",
      "412665,AK,,Nay,Sen. Dan Sullivan [R],Republican\r",
      "\r\n",
      "412666,GA,,Yea,Sen. David Perdue [R],Republican\r",
      "\r\n",
      "412667,IA,,Yea,Sen. Joni Ernst [R],Republican\r",
      "\r\n",
      "412668,NC,,Yea,Sen. Thom Tillis [R],Republican\r",
      "\r\n",
      "412669,SD,,Yea,Sen. Mike Rounds [R],Republican\r",
      "\r\n",
      "412671,NE,,Nay,Sen. Benjamin Sasse [R],Republican\r",
      "\r\n"
     ]
    }
   ],
   "source": [
    "!curl 'http://127.0.0.1:8080/files/congress_votes_114-2016_s123.csv'"
   ]
  },
  {
   "cell_type": "code",
   "execution_count": 78,
   "metadata": {},
   "outputs": [],
   "source": [
    "# provide a link for the filename"
   ]
  },
  {
   "cell_type": "code",
   "execution_count": 79,
   "metadata": {},
   "outputs": [
    {
     "name": "stdout",
     "output_type": "stream",
     "text": [
      "from bottle import *\r\n",
      "from pprint import pprint\r\n",
      "import time\r\n",
      "import algebra\r\n",
      "import os\r\n",
      "\r\n",
      "@route('/')\r\n",
      "def welcome():\r\n",
      "    response.set_header('Vary', 'Accept')\r\n",
      "    if 'text/html' in request.headers.get('Accept', '*/*'):\r\n",
      "        response.content_type = 'text/html'\r\n",
      "        return '<h1> Howdy! <h1>'\r\n",
      "    response.content_type = 'text/plain'\r\n",
      "    return 'Hello'\r\n",
      "\r\n",
      "@route('/now')\r\n",
      "def time_service():\r\n",
      "    response.content_type = 'text/plain'\r\n",
      "    response.set_header('Cache-Control', 'max-age=10')\r\n",
      "    return time.ctime()\r\n",
      "\r\n",
      "@route('/upper/<word>')\r\n",
      "def upper_case_service(word):\r\n",
      "    response.content_type = 'text/plain'\r\n",
      "    return word.upper()\r\n",
      "\r\n",
      "secret = 'the average life expectancy of a stark or targaryen is short'\r\n",
      "\r\n",
      "@route('/area/circle')\r\n",
      "def circle_area_service():\r\n",
      "    last_visit = request.get_cookie('last-visit', 'unknown', secret=secret)\r\n",
      "    print(f'Last visit {last_visit}')\r\n",
      "    response.set_header('Vary', 'Accept')\r\n",
      "    response.set_cookie('last-visit', time.ctime(), secret=secret)\r\n",
      "    try:\r\n",
      "        radius = float(request.query.get('radius', '0.0'))\r\n",
      "    except ValueError as e:\r\n",
      "        return e.args[0]\r\n",
      "    area = algebra.area_circle(radius)\r\n",
      "    if 'text/html' in request.headers.get('Accept', '*/*'):\r\n",
      "        response.content_type = 'text/html'\r\n",
      "        return f'<p> The area is <em> {area} </em> </p>'\r\n",
      "    return dict(radius=radius, area=area, service=request.path)\r\n",
      "\r\n",
      "## File Server ###########################################################3\r\n",
      "\r\n",
      "file_template = '''\\\r\n",
      "<h1> List of files in <em> Congress Data </em> directory </h1>\r\n",
      "<hr>\r\n",
      "<ol>\r\n",
      "    % for file in files:\r\n",
      "        <li> <a href=\"files/{{file}}\"> {{file}} </a> </li>\r\n",
      "    % end\r\n",
      "</ol>\r\n",
      "'''\r\n",
      "\r\n",
      "@route('/files')\r\n",
      "def show_files():\r\n",
      "    response.set_header('Vary', 'Accept')\r\n",
      "    files = os.listdir('congress_data')\r\n",
      "    if 'text/html' not in request.headers.get('Accept', '*/*'):\r\n",
      "        return dict(files=files)\r\n",
      "    return template(file_template, files=files)\r\n",
      "\r\n",
      "@route('/files/<filename>')\r\n",
      "def serve_one_file(filename):\r\n",
      "    return static_file(filename, './congress_data')\r\n",
      "\r\n",
      "if __name__ == '__main__':\r\n",
      "\r\n",
      "    run(host='localhost', port=8080)\r\n"
     ]
    }
   ],
   "source": [
    "!cat rest_api_server.py"
   ]
  },
  {
   "cell_type": "code",
   "execution_count": null,
   "metadata": {},
   "outputs": [],
   "source": []
  }
 ],
 "metadata": {
  "kernelspec": {
   "display_name": "Python 3",
   "language": "python",
   "name": "python3"
  },
  "language_info": {
   "codemirror_mode": {
    "name": "ipython",
    "version": 3
   },
   "file_extension": ".py",
   "mimetype": "text/x-python",
   "name": "python",
   "nbconvert_exporter": "python",
   "pygments_lexer": "ipython3",
   "version": "3.7.4"
  }
 },
 "nbformat": 4,
 "nbformat_minor": 2
}
