{
 "cells": [
  {
   "cell_type": "markdown",
   "metadata": {},
   "source": [
    "Web Application written in Bottle\n",
    "================\n",
    "\n",
    "Big Idea:\n",
    "> Micro-webframeworks (such as Bottle) are all about minimizing the code and effort required to links an application to a web server. Decorators connect a router or path to a function. The function managers getting a user request, calling the application and forming the response.\n",
    "\n",
    "Tools We Will Need\n",
    "=============\n",
    "\n",
    "* Empty server with run()\n",
    "* Returning static content\n",
    "* Content type\n",
    "* Content negotiation and vary header\n",
    "* Dynamic Content\n",
    "* Dynamic path\n",
    "* Queries\n",
    "* Cache-control\n",
    "* Templates"
   ]
  },
  {
   "cell_type": "code",
   "execution_count": 1,
   "metadata": {},
   "outputs": [
    {
     "name": "stdout",
     "output_type": "stream",
     "text": [
      "from bottle import *\r\n",
      "\r\n",
      "if __name__ = '__main__':\r\n",
      "\r\n",
      "    run(host='localhost'i, port=8080)\r\n"
     ]
    }
   ],
   "source": [
    "!cat rest_api_server.py"
   ]
  },
  {
   "cell_type": "code",
   "execution_count": null,
   "metadata": {},
   "outputs": [
    {
     "name": "stderr",
     "output_type": "stream",
     "text": [
      "Bottle v0.12.17 server starting up (using WSGIRefServer())...\n",
      "Listening on http://localhost:8080/\n",
      "Hit Ctrl-C to quit.\n",
      "\n"
     ]
    }
   ],
   "source": [
    "%run -i rest_api_server.py"
   ]
  },
  {
   "cell_type": "code",
   "execution_count": 2,
   "metadata": {},
   "outputs": [],
   "source": [
    "# http://127.0.0.1:8080/"
   ]
  },
  {
   "cell_type": "code",
   "execution_count": 1,
   "metadata": {},
   "outputs": [
    {
     "name": "stdout",
     "output_type": "stream",
     "text": [
      "from bottle import *\r\n",
      "\r\n",
      "@route('/')\r\n",
      "def welcome():\r\n",
      "    return 'Hello'\r\n",
      "\r\n",
      "if __name__ == '__main__':\r\n",
      "\r\n",
      "    run(host='localhost', port=8080)\r\n"
     ]
    }
   ],
   "source": [
    "!cat rest_api_server.py"
   ]
  },
  {
   "cell_type": "code",
   "execution_count": 2,
   "metadata": {},
   "outputs": [],
   "source": [
    "# http://127.0.0.1:8080/"
   ]
  },
  {
   "cell_type": "code",
   "execution_count": 3,
   "metadata": {},
   "outputs": [
    {
     "name": "stdout",
     "output_type": "stream",
     "text": [
      "Hello"
     ]
    }
   ],
   "source": [
    "!curl 'http://127.0.0.1:8080'"
   ]
  },
  {
   "cell_type": "code",
   "execution_count": 4,
   "metadata": {},
   "outputs": [
    {
     "name": "stdout",
     "output_type": "stream",
     "text": [
      "* Rebuilt URL to: http://127.0.0.1:8080/\r\n",
      "*   Trying 127.0.0.1...\r\n",
      "* TCP_NODELAY set\r\n",
      "* Connected to 127.0.0.1 (127.0.0.1) port 8080 (#0)\r\n",
      "> GET / HTTP/1.1\r",
      "\r\n",
      "> Host: 127.0.0.1:8080\r",
      "\r\n",
      "> User-Agent: curl/7.58.0\r",
      "\r\n",
      "> Accept: */*\r",
      "\r\n",
      "> \r",
      "\r\n",
      "* HTTP 1.0, assume close after body\r\n",
      "< HTTP/1.0 200 OK\r",
      "\r\n",
      "< Date: Fri, 20 Sep 2019 08:29:05 GMT\r",
      "\r\n",
      "< Server: WSGIServer/0.2 CPython/3.7.4\r",
      "\r\n",
      "< Content-Length: 5\r",
      "\r\n",
      "< Content-Type: text/html; charset=UTF-8\r",
      "\r\n",
      "< \r",
      "\r\n",
      "* Closing connection 0\r\n",
      "Hello"
     ]
    }
   ],
   "source": [
    "!curl -v 'http://127.0.0.1:8080'"
   ]
  },
  {
   "cell_type": "code",
   "execution_count": 8,
   "metadata": {},
   "outputs": [],
   "source": [
    "# change Content-Type"
   ]
  },
  {
   "cell_type": "code",
   "execution_count": 9,
   "metadata": {},
   "outputs": [
    {
     "name": "stdout",
     "output_type": "stream",
     "text": [
      "from bottle import *\r\n",
      "\r\n",
      "@route('/')\r\n",
      "def welcome():\r\n",
      "    response.content_type = 'text/plain'\r\n",
      "    return 'Hello'\r\n",
      "\r\n",
      "if __name__ == '__main__':\r\n",
      "\r\n",
      "    run(host='localhost', port=8080)\r\n"
     ]
    }
   ],
   "source": [
    "!cat rest_api_server.py"
   ]
  },
  {
   "cell_type": "code",
   "execution_count": 7,
   "metadata": {},
   "outputs": [
    {
     "name": "stdout",
     "output_type": "stream",
     "text": [
      "* Rebuilt URL to: http://127.0.0.1:8080/\r\n",
      "*   Trying 127.0.0.1...\r\n",
      "* TCP_NODELAY set\r\n",
      "* Connected to 127.0.0.1 (127.0.0.1) port 8080 (#0)\r\n",
      "> GET / HTTP/1.1\r",
      "\r\n",
      "> Host: 127.0.0.1:8080\r",
      "\r\n",
      "> User-Agent: curl/7.58.0\r",
      "\r\n",
      "> Accept: */*\r",
      "\r\n",
      "> \r",
      "\r\n",
      "* HTTP 1.0, assume close after body\r\n",
      "< HTTP/1.0 200 OK\r",
      "\r\n",
      "< Date: Fri, 20 Sep 2019 08:30:30 GMT\r",
      "\r\n",
      "< Server: WSGIServer/0.2 CPython/3.7.4\r",
      "\r\n",
      "< Content-Type: text/plain\r",
      "\r\n",
      "< Content-Length: 5\r",
      "\r\n",
      "< \r",
      "\r\n",
      "* Closing connection 0\r\n",
      "Hello"
     ]
    }
   ],
   "source": [
    "!curl -v 'http://127.0.0.1:8080'"
   ]
  },
  {
   "cell_type": "code",
   "execution_count": 10,
   "metadata": {},
   "outputs": [],
   "source": [
    "# view request headers"
   ]
  },
  {
   "cell_type": "code",
   "execution_count": 5,
   "metadata": {},
   "outputs": [
    {
     "name": "stdout",
     "output_type": "stream",
     "text": [
      "from bottle import *\r\n",
      "from pprint import pprint\r\n",
      "\r\n",
      "@route('/')\r\n",
      "def welcome():\r\n",
      "    pprint(dict(request.headers))\r\n",
      "    response.content_type = 'text/plain'\r\n",
      "    return 'Hello'\r\n",
      "\r\n",
      "if __name__ == '__main__':\r\n",
      "\r\n",
      "    run(host='localhost', port=8080)\r\n"
     ]
    }
   ],
   "source": [
    "!cat rest_api_server.py"
   ]
  },
  {
   "cell_type": "code",
   "execution_count": 7,
   "metadata": {},
   "outputs": [],
   "source": [
    "# content negotiations attempts to honor user preferences\n",
    "# user-agent: mobile, browser, curl\n",
    "# content-type: user header"
   ]
  },
  {
   "cell_type": "markdown",
   "metadata": {},
   "source": [
    "## dynamic contents"
   ]
  },
  {
   "cell_type": "code",
   "execution_count": 8,
   "metadata": {},
   "outputs": [],
   "source": [
    "import time"
   ]
  },
  {
   "cell_type": "code",
   "execution_count": 9,
   "metadata": {},
   "outputs": [
    {
     "data": {
      "text/plain": [
       "1568970207.1432374"
      ]
     },
     "execution_count": 9,
     "metadata": {},
     "output_type": "execute_result"
    }
   ],
   "source": [
    "time.time()"
   ]
  },
  {
   "cell_type": "code",
   "execution_count": 10,
   "metadata": {},
   "outputs": [
    {
     "data": {
      "text/plain": [
       "'Fri Sep 20 17:03:32 2019'"
      ]
     },
     "execution_count": 10,
     "metadata": {},
     "output_type": "execute_result"
    }
   ],
   "source": [
    "time.ctime()"
   ]
  },
  {
   "cell_type": "code",
   "execution_count": 11,
   "metadata": {},
   "outputs": [
    {
     "name": "stdout",
     "output_type": "stream",
     "text": [
      "from bottle import *\r\n",
      "from pprint import pprint\r\n",
      "import time\r\n",
      "\r\n",
      "@route('/')\r\n",
      "def welcome():\r\n",
      "    if 'text/html' in request.headers.get('Accept', '*/*'):\r\n",
      "        response.content_type = 'text/html'\r\n",
      "        return '<h1> Howdy! <h1>'\r\n",
      "    response.content_type = 'text/plain'\r\n",
      "    return 'Hello'\r\n",
      "\r\n",
      "@route('/now')\r\n",
      "def time_service():\r\n",
      "    response.content_type = 'text/plain'\r\n",
      "    return time.ctime()\r\n",
      "\r\n",
      "if __name__ == '__main__':\r\n",
      "\r\n",
      "    run(host='localhost', port=8080)\r\n"
     ]
    }
   ],
   "source": [
    "!cat rest_api_server.py"
   ]
  },
  {
   "cell_type": "code",
   "execution_count": 12,
   "metadata": {},
   "outputs": [
    {
     "name": "stdout",
     "output_type": "stream",
     "text": [
      "Hello"
     ]
    }
   ],
   "source": [
    "!curl 'http://127.0.0.1:8080'"
   ]
  },
  {
   "cell_type": "code",
   "execution_count": 14,
   "metadata": {},
   "outputs": [
    {
     "name": "stdout",
     "output_type": "stream",
     "text": [
      "\r\n",
      "    <!DOCTYPE HTML PUBLIC \"-//IETF//DTD HTML 2.0//EN\">\r\n",
      "    <html>\r\n",
      "        <head>\r\n",
      "            <title>Error: 404 Not Found</title>\r\n",
      "            <style type=\"text/css\">\r\n",
      "              html {background-color: #eee; font-family: sans;}\r\n",
      "              body {background-color: #fff; border: 1px solid #ddd;\r\n",
      "                    padding: 15px; margin: 15px;}\r\n",
      "              pre {background-color: #eee; border: 1px solid #ddd; padding: 5px;}\r\n",
      "            </style>\r\n",
      "        </head>\r\n",
      "        <body>\r\n",
      "            <h1>Error: 404 Not Found</h1>\r\n",
      "            <p>Sorry, the requested URL <tt>&#039;http://127.0.0.1:8080/abc&#039;</tt>\r\n",
      "               caused an error:</p>\r\n",
      "            <pre>Not found: &#039;/abc&#039;</pre>\r\n",
      "        </body>\r\n",
      "    </html>\r\n"
     ]
    }
   ],
   "source": [
    "!curl 'http://127.0.0.1:8080/abc'"
   ]
  },
  {
   "cell_type": "code",
   "execution_count": 15,
   "metadata": {},
   "outputs": [
    {
     "name": "stdout",
     "output_type": "stream",
     "text": [
      "Fri Sep 20 17:06:11 2019"
     ]
    }
   ],
   "source": [
    "!curl 'http://127.0.0.1:8080/now'"
   ]
  },
  {
   "cell_type": "code",
   "execution_count": 16,
   "metadata": {},
   "outputs": [
    {
     "name": "stdout",
     "output_type": "stream",
     "text": [
      "Fri Sep 20 17:06:32 2019"
     ]
    }
   ],
   "source": [
    "!curl 'http://127.0.0.1:8080/now'"
   ]
  },
  {
   "cell_type": "code",
   "execution_count": 17,
   "metadata": {},
   "outputs": [],
   "source": [
    "# add caching to reduce server load"
   ]
  },
  {
   "cell_type": "code",
   "execution_count": 22,
   "metadata": {},
   "outputs": [
    {
     "name": "stdout",
     "output_type": "stream",
     "text": [
      "from bottle import *\r\n",
      "from pprint import pprint\r\n",
      "import time\r\n",
      "\r\n",
      "@route('/')\r\n",
      "def welcome():\r\n",
      "    if 'text/html' in request.headers.get('Accept', '*/*'):\r\n",
      "        response.content_type = 'text/html'\r\n",
      "        return '<h1> Howdy! <h1>'\r\n",
      "    response.content_type = 'text/plain'\r\n",
      "    return 'Hello'\r\n",
      "\r\n",
      "@route('/now')\r\n",
      "def time_service():\r\n",
      "    response.content_type = 'text/plain'\r\n",
      "    response.set_header('Cache-Control', 'max-age=10')\r\n",
      "    return time.ctime()\r\n",
      "\r\n",
      "if __name__ == '__main__':\r\n",
      "\r\n",
      "    run(host='localhost', port=8080)\r\n"
     ]
    }
   ],
   "source": [
    "!cat rest_api_server.py"
   ]
  },
  {
   "cell_type": "code",
   "execution_count": 29,
   "metadata": {},
   "outputs": [
    {
     "name": "stdout",
     "output_type": "stream",
     "text": [
      "Fri Sep 20 17:11:27 2019"
     ]
    }
   ],
   "source": [
    "!curl 'http://127.0.0.1:8080/now'"
   ]
  },
  {
   "cell_type": "code",
   "execution_count": 30,
   "metadata": {},
   "outputs": [
    {
     "name": "stdout",
     "output_type": "stream",
     "text": [
      "Fri Sep 20 17:11:27 2019"
     ]
    }
   ],
   "source": [
    "!curl 'http://127.0.0.1:8080/now'"
   ]
  },
  {
   "cell_type": "code",
   "execution_count": 31,
   "metadata": {},
   "outputs": [
    {
     "name": "stdout",
     "output_type": "stream",
     "text": [
      "Fri Sep 20 17:11:45 2019"
     ]
    }
   ],
   "source": [
    "!curl 'http://127.0.0.1:8080/now'"
   ]
  },
  {
   "cell_type": "code",
   "execution_count": 33,
   "metadata": {},
   "outputs": [],
   "source": [
    "# dynamic routes\n",
    "# dynamic routes are marked with angle brackets"
   ]
  },
  {
   "cell_type": "code",
   "execution_count": 36,
   "metadata": {},
   "outputs": [
    {
     "name": "stdout",
     "output_type": "stream",
     "text": [
      "from bottle import *\r\n",
      "from pprint import pprint\r\n",
      "import time\r\n",
      "\r\n",
      "@route('/')\r\n",
      "def welcome():\r\n",
      "    if 'text/html' in request.headers.get('Accept', '*/*'):\r\n",
      "        response.content_type = 'text/html'\r\n",
      "        return '<h1> Howdy! <h1>'\r\n",
      "    response.content_type = 'text/plain'\r\n",
      "    return 'Hello'\r\n",
      "\r\n",
      "@route('/now')\r\n",
      "def time_service():\r\n",
      "    response.content_type = 'text/plain'\r\n",
      "    response.set_header('Cache-Control', 'max-age=10')\r\n",
      "    return time.ctime()\r\n",
      "\r\n",
      "@route('/upper/<word>')\r\n",
      "def upper_case_service(word):\r\n",
      "    response.content_type = 'text/plain'\r\n",
      "    return word.upper()\r\n",
      "\r\n",
      "if __name__ == '__main__':\r\n",
      "\r\n",
      "    run(host='localhost', port=8080)\r\n"
     ]
    }
   ],
   "source": [
    "!cat rest_api_server.py"
   ]
  },
  {
   "cell_type": "code",
   "execution_count": 35,
   "metadata": {},
   "outputs": [
    {
     "name": "stdout",
     "output_type": "stream",
     "text": [
      "BOO"
     ]
    }
   ],
   "source": [
    "!curl 'http://127.0.0.1:8080/upper/boo'"
   ]
  },
  {
   "cell_type": "code",
   "execution_count": 37,
   "metadata": {},
   "outputs": [],
   "source": [
    "# query string to pass contents"
   ]
  },
  {
   "cell_type": "code",
   "execution_count": 38,
   "metadata": {},
   "outputs": [
    {
     "name": "stdout",
     "output_type": "stream",
     "text": [
      "import math\r\n",
      "\r\n",
      "def area_circle(radius):\r\n",
      "    return math.pi * radius ** 2.0\r\n"
     ]
    }
   ],
   "source": [
    "!cat algebra.py"
   ]
  },
  {
   "cell_type": "code",
   "execution_count": 40,
   "metadata": {},
   "outputs": [],
   "source": [
    "import algebra"
   ]
  },
  {
   "cell_type": "code",
   "execution_count": 41,
   "metadata": {},
   "outputs": [
    {
     "data": {
      "text/plain": [
       "314.1592653589793"
      ]
     },
     "execution_count": 41,
     "metadata": {},
     "output_type": "execute_result"
    }
   ],
   "source": [
    "algebra.area_circle(10)"
   ]
  },
  {
   "cell_type": "code",
   "execution_count": 45,
   "metadata": {},
   "outputs": [
    {
     "name": "stdout",
     "output_type": "stream",
     "text": [
      "from bottle import *\r\n",
      "from pprint import pprint\r\n",
      "import time\r\n",
      "import algebra\r\n",
      "\r\n",
      "@route('/')\r\n",
      "def welcome():\r\n",
      "    if 'text/html' in request.headers.get('Accept', '*/*'):\r\n",
      "        response.content_type = 'text/html'\r\n",
      "        return '<h1> Howdy! <h1>'\r\n",
      "    response.content_type = 'text/plain'\r\n",
      "    return 'Hello'\r\n",
      "\r\n",
      "@route('/now')\r\n",
      "def time_service():\r\n",
      "    response.content_type = 'text/plain'\r\n",
      "    response.set_header('Cache-Control', 'max-age=10')\r\n",
      "    return time.ctime()\r\n",
      "\r\n",
      "@route('/upper/<word>')\r\n",
      "def upper_case_service(word):\r\n",
      "    response.content_type = 'text/plain'\r\n",
      "    return word.upper()\r\n",
      "\r\n",
      "@route('/area/circle')\r\n",
      "def circle_area_service():\r\n",
      "    query = dict(request.query)\r\n",
      "    return f'Test, query: {query}'\r\n",
      "\r\n",
      "if __name__ == '__main__':\r\n",
      "\r\n",
      "    run(host='localhost', port=8080)\r\n"
     ]
    }
   ],
   "source": [
    "!cat rest_api_server.py"
   ]
  },
  {
   "cell_type": "code",
   "execution_count": 46,
   "metadata": {},
   "outputs": [
    {
     "name": "stdout",
     "output_type": "stream",
     "text": [
      "Test, query: {}"
     ]
    }
   ],
   "source": [
    "!curl 'http://127.0.0.1:8080/area/circle'"
   ]
  },
  {
   "cell_type": "code",
   "execution_count": 47,
   "metadata": {},
   "outputs": [
    {
     "name": "stdout",
     "output_type": "stream",
     "text": [
      "Test, query: {'radius': '10'}"
     ]
    }
   ],
   "source": [
    "!curl 'http://127.0.0.1:8080/area/circle?radius=10'"
   ]
  },
  {
   "cell_type": "code",
   "execution_count": null,
   "metadata": {},
   "outputs": [],
   "source": []
  }
 ],
 "metadata": {
  "kernelspec": {
   "display_name": "Python 3",
   "language": "python",
   "name": "python3"
  },
  "language_info": {
   "codemirror_mode": {
    "name": "ipython",
    "version": 3
   },
   "file_extension": ".py",
   "mimetype": "text/x-python",
   "name": "python",
   "nbconvert_exporter": "python",
   "pygments_lexer": "ipython3",
   "version": "3.7.4"
  }
 },
 "nbformat": 4,
 "nbformat_minor": 2
}
