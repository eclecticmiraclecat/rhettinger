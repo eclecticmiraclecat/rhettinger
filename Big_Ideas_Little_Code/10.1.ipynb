{
 "cells": [
  {
   "cell_type": "markdown",
   "metadata": {},
   "source": [
    "Web Application written Bottle\n",
    "===============\n",
    "\n",
    "Big Idea:\n",
    "> Micro-webframeworks (such as Bottle) are all about minimizing the code and effort required to links an application to a web server. Decorators connect a route or path to a function. The function manages getting a user request, calling the application and forming the response.\n",
    "\n",
    "Publisher/Subscriber Service\n",
    "===========\n",
    "\n",
    "* Display login page and check credentials\n",
    "* Show main page\n",
    "* Post a message\n",
    "* Run a search\n",
    "* Display followers or following\n",
    "* Show user page\n",
    "* Return static content"
   ]
  },
  {
   "cell_type": "code",
   "execution_count": null,
   "metadata": {},
   "outputs": [],
   "source": []
  }
 ],
 "metadata": {
  "kernelspec": {
   "display_name": "Python 3",
   "language": "python",
   "name": "python3"
  },
  "language_info": {
   "codemirror_mode": {
    "name": "ipython",
    "version": 3
   },
   "file_extension": ".py",
   "mimetype": "text/x-python",
   "name": "python",
   "nbconvert_exporter": "python",
   "pygments_lexer": "ipython3",
   "version": "3.7.4"
  }
 },
 "nbformat": 4,
 "nbformat_minor": 2
}
