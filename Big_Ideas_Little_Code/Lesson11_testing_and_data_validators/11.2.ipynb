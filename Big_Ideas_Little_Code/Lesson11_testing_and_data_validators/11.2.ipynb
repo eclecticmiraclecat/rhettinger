{
 "cells": [
  {
   "cell_type": "markdown",
   "metadata": {},
   "source": [
    "## hypothesis"
   ]
  },
  {
   "cell_type": "code",
   "execution_count": 1,
   "metadata": {},
   "outputs": [],
   "source": [
    "# TODO"
   ]
  },
  {
   "cell_type": "markdown",
   "metadata": {},
   "source": [
    "***"
   ]
  },
  {
   "cell_type": "markdown",
   "metadata": {},
   "source": [
    "## Data corruption bugs are notoriously hard to find"
   ]
  },
  {
   "cell_type": "code",
   "execution_count": 2,
   "metadata": {},
   "outputs": [
    {
     "name": "stdout",
     "output_type": "stream",
     "text": [
      "'Collection of tools used in portfolio analysis'\r\n",
      "\r\n",
      "from statistics import mean\r\n",
      "\r\n",
      "class PriceRange:\r\n",
      "\r\n",
      "    def __init__(self, kind, symbol, low, high):\r\n",
      "        self.kind = kind\r\n",
      "        self.symbol = symbol\r\n",
      "        self.low = low\r\n",
      "        self.high = high\r\n",
      "\r\n",
      "    @property\r\n",
      "    def midpoint(self):\r\n",
      "        return (self.low + self.high) / 2\r\n",
      "\r\n",
      "    def __repr__(s):\r\n",
      "        return f'{s.__class__.__name__}({s.kind!r}, {s.symbol!r}, {s.low!r}, {s.high!r})'\r\n",
      "\r\n",
      "if __name__ == '__main__':\r\n",
      "    from pprint import pprint\r\n",
      "\r\n",
      "    portfolio = [\r\n",
      "        PriceRange('stock', 'CSCO', 26, 35),\r\n",
      "        PriceRange('option', 'HP', 11, 45),\r\n",
      "        PriceRange('stockk', 'BOA', 32, 46),\r\n",
      "        PriceRange('stock', 'WLP', 12.87, 334.15),\r\n",
      "        PriceRange('option', 'WLPWLP', 1.87, 14.15),\r\n",
      "        PriceRange('option', 'boa', 34, 45),\r\n",
      "        PriceRange('bond', 'HP', -62, 67),\r\n",
      "    ]\r\n",
      "\r\n",
      "    print('Stock securities:')\r\n",
      "    pprint([s for s in portfolio if s.kind == 'stock'])\r\n",
      "\r\n",
      "    print('\\nWLP securities:')\r\n",
      "    pprint([s for s in portfolio if s.symbol == 'WLP'])\r\n",
      "\r\n",
      "    print('\\nBOA securities:')\r\n",
      "    pprint([s for s in portfolio if s.symbol == 'BOA'])\r\n",
      "\r\n",
      "    print('\\nMininum low:')\r\n",
      "    print(min(s.low for s in portfolio))\r\n",
      "\r\n",
      "    print('\\nMinimum high:')\r\n",
      "    print(max(s.high for s in portfolio))\r\n",
      "\r\n",
      "    print('\\nAverage midpoint:')\r\n",
      "    print(mean(s.midpoint for s in portfolio))\r\n"
     ]
    }
   ],
   "source": [
    "!cat pricing_tool.py"
   ]
  },
  {
   "cell_type": "code",
   "execution_count": 3,
   "metadata": {},
   "outputs": [
    {
     "name": "stdout",
     "output_type": "stream",
     "text": [
      "Stock securities:\n",
      "[PriceRange('stock', 'CSCO', 26, 35), PriceRange('stock', 'WLP', 12.87, 334.15)]\n",
      "\n",
      "WLP securities:\n",
      "[PriceRange('stock', 'WLP', 12.87, 334.15)]\n",
      "\n",
      "BOA securities:\n",
      "[PriceRange('stockk', 'BOA', 32, 46)]\n",
      "\n",
      "Mininum low:\n",
      "-62\n",
      "\n",
      "Minimum high:\n",
      "334.15\n",
      "\n",
      "Average midpoint:\n",
      "45.86\n"
     ]
    }
   ],
   "source": [
    "%run -i pricing_tool.py"
   ]
  },
  {
   "cell_type": "code",
   "execution_count": 4,
   "metadata": {},
   "outputs": [],
   "source": [
    "# typo PriceRange('stockk', 'BOA', 32, 46)\n",
    "# typo PriceRange('option', 'WLPWLP', 1.87, 14.15)\n",
    "# typo PriceRange('option', 'boa', 34, 45)\n",
    "# typo PriceRange('stock', 'WLP', 12.87, 334.15)"
   ]
  },
  {
   "cell_type": "markdown",
   "metadata": {},
   "source": [
    "## add validators"
   ]
  },
  {
   "cell_type": "code",
   "execution_count": 5,
   "metadata": {},
   "outputs": [
    {
     "name": "stdout",
     "output_type": "stream",
     "text": [
      "'Create a high quality module of reusable and extendable data validators'\r\n",
      "\r\n",
      "from abc import ABC, abstractmethod\r\n",
      "\r\n",
      "class Validator(ABC):\r\n",
      "\r\n",
      "    def __set_name__(self, owner, name):\r\n",
      "        self.private_name = f'_{name}'\r\n",
      "\r\n",
      "    def __get__(self, obj, objtype=None):\r\n",
      "        return getattr(obj, self.private_name)\r\n",
      "\r\n",
      "    def __set__(self, obj, value):\r\n",
      "        self.validate(value)\r\n",
      "        setattr(obj, self.private_name, value)\r\n",
      "\r\n",
      "    @abstractmethod\r\n",
      "    def validate(self, value):\r\n",
      "        pass\r\n",
      "\r\n",
      "class OneOf(Validator):\r\n",
      "\r\n",
      "    def __init__(self, *options):\r\n",
      "        self.options = set(options)\r\n",
      "\r\n",
      "    def validate(self, value):\r\n",
      "        if value not in self.options:\r\n",
      "            raise ValueError(f'{value!r} not a valid option.  should be one of: {self.options}')\r\n",
      "\r\n",
      "class String(Validator):\r\n",
      "\r\n",
      "    def __init__(self, minsize=0, maxsize=None, predicate=None):\r\n",
      "        self.minsize = minsize\r\n",
      "        self.maxsize = maxsize\r\n",
      "        self.predicate = predicate\r\n",
      "\r\n",
      "    def validate(self, value):\r\n",
      "        if not isinstance(value, str):\r\n",
      "            raise TypeError('Expected a str')\r\n",
      "        if len(value) < self.minsize:\r\n",
      "            raise ValueError(f'String is too short, must be at least {self.minsize} long')\r\n",
      "        if self.maxsize is not None and len(value) > self.maxsize:\r\n",
      "            raise ValueError(f'String is too long, must be no bigger than {self.maxsize} long')\r\n",
      "        if self.predicate is not None and not self.predicate(value):\r\n",
      "            raise ValueError(f'Expected {value} to be true for {self.predicate !r}')\r\n",
      "\r\n",
      "class Number(Validator):\r\n",
      "\r\n",
      "    def __init__(self, minvalue=None, maxvalue=None):\r\n",
      "        self.minvalue = minvalue\r\n",
      "        self.maxvalue = maxvalue\r\n",
      "\r\n",
      "    def validate(self, value):\r\n",
      "        if not isinstance(value, (int, float)):\r\n",
      "            raise TypeError('Expected an int or float')\r\n",
      "        if self.minvalue is not None and value < self.minvalue:\r\n",
      "            raise ValueError(f'{value} is too small.  Must be at least {self.minvalue}.')\r\n",
      "        if self.maxvalue is not None and value > self.maxvalue:\r\n",
      "            raise ValueError(f'{value} is too big.  Must be no more than {self.maxvalue}.')\r\n",
      "\r\n"
     ]
    }
   ],
   "source": [
    "!cat validators.py"
   ]
  },
  {
   "cell_type": "code",
   "execution_count": 6,
   "metadata": {},
   "outputs": [],
   "source": [
    "## add OneOf validator"
   ]
  },
  {
   "cell_type": "code",
   "execution_count": 7,
   "metadata": {},
   "outputs": [
    {
     "name": "stdout",
     "output_type": "stream",
     "text": [
      "'Collection of tools used in portfolio analysis'\r\n",
      "from validators import OneOf\r\n",
      "from statistics import mean\r\n",
      "\r\n",
      "class PriceRange:\r\n",
      "\r\n",
      "    kind = OneOf('stock', 'bond', 'currency', 'option', 'bond', 'future')\r\n",
      "\r\n",
      "    def __init__(self, kind, symbol, low, high):\r\n",
      "        self.kind = kind\r\n",
      "        self.symbol = symbol\r\n",
      "        self.low = low\r\n",
      "        self.high = high\r\n",
      "\r\n",
      "    @property\r\n",
      "    def midpoint(self):\r\n",
      "        return (self.low + self.high) / 2\r\n",
      "\r\n",
      "    def __repr__(s):\r\n",
      "        return f'{s.__class__.__name__}({s.kind!r}, {s.symbol!r}, {s.low!r}, {s.high!r})'\r\n",
      "\r\n",
      "if __name__ == '__main__':\r\n",
      "    from pprint import pprint\r\n",
      "\r\n",
      "    portfolio = [\r\n",
      "        PriceRange('stock', 'CSCO', 26, 35),\r\n",
      "        PriceRange('option', 'HP', 11, 45),\r\n",
      "        PriceRange('stockk', 'BOA', 32, 46),\r\n",
      "        PriceRange('stock', 'WLP', 12.87, 334.15),\r\n",
      "        PriceRange('option', 'WLPWLP', 1.87, 14.15),\r\n",
      "        PriceRange('option', 'boa', 34, 45),\r\n",
      "        PriceRange('bond', 'HP', -62, 67),\r\n",
      "    ]\r\n",
      "\r\n",
      "    print('Stock securities:')\r\n",
      "    pprint([s for s in portfolio if s.kind == 'stock'])\r\n",
      "\r\n",
      "    print('\\nWLP securities:')\r\n",
      "    pprint([s for s in portfolio if s.symbol == 'WLP'])\r\n",
      "\r\n",
      "    print('\\nBOA securities:')\r\n",
      "    pprint([s for s in portfolio if s.symbol == 'BOA'])\r\n",
      "\r\n",
      "    print('\\nMininum low:')\r\n",
      "    print(min(s.low for s in portfolio))\r\n",
      "\r\n",
      "    print('\\nMinimum high:')\r\n",
      "    print(max(s.high for s in portfolio))\r\n",
      "\r\n",
      "    print('\\nAverage midpoint:')\r\n",
      "    print(mean(s.midpoint for s in portfolio))\r\n"
     ]
    }
   ],
   "source": [
    "!cat pricing_tool.py"
   ]
  },
  {
   "cell_type": "code",
   "execution_count": 8,
   "metadata": {},
   "outputs": [
    {
     "ename": "ValueError",
     "evalue": "'stockk' not a valid option.  should be one of: {'bond', 'option', 'stock', 'future', 'currency'}",
     "output_type": "error",
     "traceback": [
      "\u001b[0;31m---------------------------------------------------------------------------\u001b[0m",
      "\u001b[0;31mValueError\u001b[0m                                Traceback (most recent call last)",
      "\u001b[0;32m~/projects/rhettinger/Big_Ideas_Little_Code/Lesson11_testing_and_data_validators/pricing_tool.py\u001b[0m in \u001b[0;36m<module>\u001b[0;34m\u001b[0m\n\u001b[1;32m     26\u001b[0m         \u001b[0mPriceRange\u001b[0m\u001b[0;34m(\u001b[0m\u001b[0;34m'stock'\u001b[0m\u001b[0;34m,\u001b[0m \u001b[0;34m'CSCO'\u001b[0m\u001b[0;34m,\u001b[0m \u001b[0;36m26\u001b[0m\u001b[0;34m,\u001b[0m \u001b[0;36m35\u001b[0m\u001b[0;34m)\u001b[0m\u001b[0;34m,\u001b[0m\u001b[0;34m\u001b[0m\u001b[0;34m\u001b[0m\u001b[0m\n\u001b[1;32m     27\u001b[0m         \u001b[0mPriceRange\u001b[0m\u001b[0;34m(\u001b[0m\u001b[0;34m'option'\u001b[0m\u001b[0;34m,\u001b[0m \u001b[0;34m'HP'\u001b[0m\u001b[0;34m,\u001b[0m \u001b[0;36m11\u001b[0m\u001b[0;34m,\u001b[0m \u001b[0;36m45\u001b[0m\u001b[0;34m)\u001b[0m\u001b[0;34m,\u001b[0m\u001b[0;34m\u001b[0m\u001b[0;34m\u001b[0m\u001b[0m\n\u001b[0;32m---> 28\u001b[0;31m         \u001b[0mPriceRange\u001b[0m\u001b[0;34m(\u001b[0m\u001b[0;34m'stockk'\u001b[0m\u001b[0;34m,\u001b[0m \u001b[0;34m'BOA'\u001b[0m\u001b[0;34m,\u001b[0m \u001b[0;36m32\u001b[0m\u001b[0;34m,\u001b[0m \u001b[0;36m46\u001b[0m\u001b[0;34m)\u001b[0m\u001b[0;34m,\u001b[0m\u001b[0;34m\u001b[0m\u001b[0;34m\u001b[0m\u001b[0m\n\u001b[0m\u001b[1;32m     29\u001b[0m         \u001b[0mPriceRange\u001b[0m\u001b[0;34m(\u001b[0m\u001b[0;34m'stock'\u001b[0m\u001b[0;34m,\u001b[0m \u001b[0;34m'WLP'\u001b[0m\u001b[0;34m,\u001b[0m \u001b[0;36m12.87\u001b[0m\u001b[0;34m,\u001b[0m \u001b[0;36m334.15\u001b[0m\u001b[0;34m)\u001b[0m\u001b[0;34m,\u001b[0m\u001b[0;34m\u001b[0m\u001b[0;34m\u001b[0m\u001b[0m\n\u001b[1;32m     30\u001b[0m         \u001b[0mPriceRange\u001b[0m\u001b[0;34m(\u001b[0m\u001b[0;34m'option'\u001b[0m\u001b[0;34m,\u001b[0m \u001b[0;34m'WLPWLP'\u001b[0m\u001b[0;34m,\u001b[0m \u001b[0;36m1.87\u001b[0m\u001b[0;34m,\u001b[0m \u001b[0;36m14.15\u001b[0m\u001b[0;34m)\u001b[0m\u001b[0;34m,\u001b[0m\u001b[0;34m\u001b[0m\u001b[0;34m\u001b[0m\u001b[0m\n",
      "\u001b[0;32m~/projects/rhettinger/Big_Ideas_Little_Code/Lesson11_testing_and_data_validators/pricing_tool.py\u001b[0m in \u001b[0;36m__init__\u001b[0;34m(self, kind, symbol, low, high)\u001b[0m\n\u001b[1;32m      8\u001b[0m \u001b[0;34m\u001b[0m\u001b[0m\n\u001b[1;32m      9\u001b[0m     \u001b[0;32mdef\u001b[0m \u001b[0m__init__\u001b[0m\u001b[0;34m(\u001b[0m\u001b[0mself\u001b[0m\u001b[0;34m,\u001b[0m \u001b[0mkind\u001b[0m\u001b[0;34m,\u001b[0m \u001b[0msymbol\u001b[0m\u001b[0;34m,\u001b[0m \u001b[0mlow\u001b[0m\u001b[0;34m,\u001b[0m \u001b[0mhigh\u001b[0m\u001b[0;34m)\u001b[0m\u001b[0;34m:\u001b[0m\u001b[0;34m\u001b[0m\u001b[0;34m\u001b[0m\u001b[0m\n\u001b[0;32m---> 10\u001b[0;31m         \u001b[0mself\u001b[0m\u001b[0;34m.\u001b[0m\u001b[0mkind\u001b[0m \u001b[0;34m=\u001b[0m \u001b[0mkind\u001b[0m\u001b[0;34m\u001b[0m\u001b[0;34m\u001b[0m\u001b[0m\n\u001b[0m\u001b[1;32m     11\u001b[0m         \u001b[0mself\u001b[0m\u001b[0;34m.\u001b[0m\u001b[0msymbol\u001b[0m \u001b[0;34m=\u001b[0m \u001b[0msymbol\u001b[0m\u001b[0;34m\u001b[0m\u001b[0;34m\u001b[0m\u001b[0m\n\u001b[1;32m     12\u001b[0m         \u001b[0mself\u001b[0m\u001b[0;34m.\u001b[0m\u001b[0mlow\u001b[0m \u001b[0;34m=\u001b[0m \u001b[0mlow\u001b[0m\u001b[0;34m\u001b[0m\u001b[0;34m\u001b[0m\u001b[0m\n",
      "\u001b[0;32m~/projects/rhettinger/Big_Ideas_Little_Code/Lesson11_testing_and_data_validators/validators.py\u001b[0m in \u001b[0;36m__set__\u001b[0;34m(self, obj, value)\u001b[0m\n\u001b[1;32m     12\u001b[0m \u001b[0;34m\u001b[0m\u001b[0m\n\u001b[1;32m     13\u001b[0m     \u001b[0;32mdef\u001b[0m \u001b[0m__set__\u001b[0m\u001b[0;34m(\u001b[0m\u001b[0mself\u001b[0m\u001b[0;34m,\u001b[0m \u001b[0mobj\u001b[0m\u001b[0;34m,\u001b[0m \u001b[0mvalue\u001b[0m\u001b[0;34m)\u001b[0m\u001b[0;34m:\u001b[0m\u001b[0;34m\u001b[0m\u001b[0;34m\u001b[0m\u001b[0m\n\u001b[0;32m---> 14\u001b[0;31m         \u001b[0mself\u001b[0m\u001b[0;34m.\u001b[0m\u001b[0mvalidate\u001b[0m\u001b[0;34m(\u001b[0m\u001b[0mvalue\u001b[0m\u001b[0;34m)\u001b[0m\u001b[0;34m\u001b[0m\u001b[0;34m\u001b[0m\u001b[0m\n\u001b[0m\u001b[1;32m     15\u001b[0m         \u001b[0msetattr\u001b[0m\u001b[0;34m(\u001b[0m\u001b[0mobj\u001b[0m\u001b[0;34m,\u001b[0m \u001b[0mself\u001b[0m\u001b[0;34m.\u001b[0m\u001b[0mprivate_name\u001b[0m\u001b[0;34m,\u001b[0m \u001b[0mvalue\u001b[0m\u001b[0;34m)\u001b[0m\u001b[0;34m\u001b[0m\u001b[0;34m\u001b[0m\u001b[0m\n\u001b[1;32m     16\u001b[0m \u001b[0;34m\u001b[0m\u001b[0m\n",
      "\u001b[0;32m~/projects/rhettinger/Big_Ideas_Little_Code/Lesson11_testing_and_data_validators/validators.py\u001b[0m in \u001b[0;36mvalidate\u001b[0;34m(self, value)\u001b[0m\n\u001b[1;32m     26\u001b[0m     \u001b[0;32mdef\u001b[0m \u001b[0mvalidate\u001b[0m\u001b[0;34m(\u001b[0m\u001b[0mself\u001b[0m\u001b[0;34m,\u001b[0m \u001b[0mvalue\u001b[0m\u001b[0;34m)\u001b[0m\u001b[0;34m:\u001b[0m\u001b[0;34m\u001b[0m\u001b[0;34m\u001b[0m\u001b[0m\n\u001b[1;32m     27\u001b[0m         \u001b[0;32mif\u001b[0m \u001b[0mvalue\u001b[0m \u001b[0;32mnot\u001b[0m \u001b[0;32min\u001b[0m \u001b[0mself\u001b[0m\u001b[0;34m.\u001b[0m\u001b[0moptions\u001b[0m\u001b[0;34m:\u001b[0m\u001b[0;34m\u001b[0m\u001b[0;34m\u001b[0m\u001b[0m\n\u001b[0;32m---> 28\u001b[0;31m             \u001b[0;32mraise\u001b[0m \u001b[0mValueError\u001b[0m\u001b[0;34m(\u001b[0m\u001b[0;34mf'{value!r} not a valid option.  should be one of: {self.options}'\u001b[0m\u001b[0;34m)\u001b[0m\u001b[0;34m\u001b[0m\u001b[0;34m\u001b[0m\u001b[0m\n\u001b[0m\u001b[1;32m     29\u001b[0m \u001b[0;34m\u001b[0m\u001b[0m\n\u001b[1;32m     30\u001b[0m \u001b[0;32mclass\u001b[0m \u001b[0mString\u001b[0m\u001b[0;34m(\u001b[0m\u001b[0mValidator\u001b[0m\u001b[0;34m)\u001b[0m\u001b[0;34m:\u001b[0m\u001b[0;34m\u001b[0m\u001b[0;34m\u001b[0m\u001b[0m\n",
      "\u001b[0;31mValueError\u001b[0m: 'stockk' not a valid option.  should be one of: {'bond', 'option', 'stock', 'future', 'currency'}"
     ]
    }
   ],
   "source": [
    "%run -i pricing_tool.py"
   ]
  },
  {
   "cell_type": "code",
   "execution_count": 9,
   "metadata": {},
   "outputs": [],
   "source": [
    "## add String validator"
   ]
  },
  {
   "cell_type": "code",
   "execution_count": 11,
   "metadata": {},
   "outputs": [
    {
     "name": "stdout",
     "output_type": "stream",
     "text": [
      "'Collection of tools used in portfolio analysis'\r\n",
      "from validators import OneOf, String\r\n",
      "from statistics import mean\r\n",
      "\r\n",
      "class PriceRange:\r\n",
      "\r\n",
      "    kind = OneOf('stock', 'bond', 'currency', 'option', 'bond', 'future')\r\n",
      "    symbol = String(minsize=2, maxsize=5, predicate=str.isupper)\r\n",
      "\r\n",
      "    def __init__(self, kind, symbol, low, high):\r\n",
      "        self.kind = kind\r\n",
      "        self.symbol = symbol\r\n",
      "        self.low = low\r\n",
      "        self.high = high\r\n",
      "\r\n",
      "    @property\r\n",
      "    def midpoint(self):\r\n",
      "        return (self.low + self.high) / 2\r\n",
      "\r\n",
      "    def __repr__(s):\r\n",
      "        return f'{s.__class__.__name__}({s.kind!r}, {s.symbol!r}, {s.low!r}, {s.high!r})'\r\n",
      "\r\n",
      "if __name__ == '__main__':\r\n",
      "    from pprint import pprint\r\n",
      "\r\n",
      "    portfolio = [\r\n",
      "        PriceRange('stock', 'CSCO', 26, 35),\r\n",
      "        PriceRange('option', 'HP', 11, 45),\r\n",
      "        PriceRange('stock', 'BOA', 32, 46),\r\n",
      "        PriceRange('stock', 'WLP', 12.87, 334.15),\r\n",
      "        PriceRange('option', 'WLPWLP', 1.87, 14.15),\r\n",
      "        PriceRange('option', 'boa', 34, 45),\r\n",
      "        PriceRange('bond', 'HP', -62, 67),\r\n",
      "    ]\r\n",
      "\r\n",
      "    print('Stock securities:')\r\n",
      "    pprint([s for s in portfolio if s.kind == 'stock'])\r\n",
      "\r\n",
      "    print('\\nWLP securities:')\r\n",
      "    pprint([s for s in portfolio if s.symbol == 'WLP'])\r\n",
      "\r\n",
      "    print('\\nBOA securities:')\r\n",
      "    pprint([s for s in portfolio if s.symbol == 'BOA'])\r\n",
      "\r\n",
      "    print('\\nMininum low:')\r\n",
      "    print(min(s.low for s in portfolio))\r\n",
      "\r\n",
      "    print('\\nMinimum high:')\r\n",
      "    print(max(s.high for s in portfolio))\r\n",
      "\r\n",
      "    print('\\nAverage midpoint:')\r\n",
      "    print(mean(s.midpoint for s in portfolio))\r\n"
     ]
    }
   ],
   "source": [
    "!cat pricing_tool.py"
   ]
  },
  {
   "cell_type": "code",
   "execution_count": 12,
   "metadata": {},
   "outputs": [
    {
     "ename": "ValueError",
     "evalue": "String is too long, must be no bigger than 5 long",
     "output_type": "error",
     "traceback": [
      "\u001b[0;31m---------------------------------------------------------------------------\u001b[0m",
      "\u001b[0;31mValueError\u001b[0m                                Traceback (most recent call last)",
      "\u001b[0;32m~/projects/rhettinger/Big_Ideas_Little_Code/Lesson11_testing_and_data_validators/pricing_tool.py\u001b[0m in \u001b[0;36m<module>\u001b[0;34m\u001b[0m\n\u001b[1;32m     29\u001b[0m         \u001b[0mPriceRange\u001b[0m\u001b[0;34m(\u001b[0m\u001b[0;34m'stock'\u001b[0m\u001b[0;34m,\u001b[0m \u001b[0;34m'BOA'\u001b[0m\u001b[0;34m,\u001b[0m \u001b[0;36m32\u001b[0m\u001b[0;34m,\u001b[0m \u001b[0;36m46\u001b[0m\u001b[0;34m)\u001b[0m\u001b[0;34m,\u001b[0m\u001b[0;34m\u001b[0m\u001b[0;34m\u001b[0m\u001b[0m\n\u001b[1;32m     30\u001b[0m         \u001b[0mPriceRange\u001b[0m\u001b[0;34m(\u001b[0m\u001b[0;34m'stock'\u001b[0m\u001b[0;34m,\u001b[0m \u001b[0;34m'WLP'\u001b[0m\u001b[0;34m,\u001b[0m \u001b[0;36m12.87\u001b[0m\u001b[0;34m,\u001b[0m \u001b[0;36m334.15\u001b[0m\u001b[0;34m)\u001b[0m\u001b[0;34m,\u001b[0m\u001b[0;34m\u001b[0m\u001b[0;34m\u001b[0m\u001b[0m\n\u001b[0;32m---> 31\u001b[0;31m         \u001b[0mPriceRange\u001b[0m\u001b[0;34m(\u001b[0m\u001b[0;34m'option'\u001b[0m\u001b[0;34m,\u001b[0m \u001b[0;34m'WLPWLP'\u001b[0m\u001b[0;34m,\u001b[0m \u001b[0;36m1.87\u001b[0m\u001b[0;34m,\u001b[0m \u001b[0;36m14.15\u001b[0m\u001b[0;34m)\u001b[0m\u001b[0;34m,\u001b[0m\u001b[0;34m\u001b[0m\u001b[0;34m\u001b[0m\u001b[0m\n\u001b[0m\u001b[1;32m     32\u001b[0m         \u001b[0mPriceRange\u001b[0m\u001b[0;34m(\u001b[0m\u001b[0;34m'option'\u001b[0m\u001b[0;34m,\u001b[0m \u001b[0;34m'boa'\u001b[0m\u001b[0;34m,\u001b[0m \u001b[0;36m34\u001b[0m\u001b[0;34m,\u001b[0m \u001b[0;36m45\u001b[0m\u001b[0;34m)\u001b[0m\u001b[0;34m,\u001b[0m\u001b[0;34m\u001b[0m\u001b[0;34m\u001b[0m\u001b[0m\n\u001b[1;32m     33\u001b[0m         \u001b[0mPriceRange\u001b[0m\u001b[0;34m(\u001b[0m\u001b[0;34m'bond'\u001b[0m\u001b[0;34m,\u001b[0m \u001b[0;34m'HP'\u001b[0m\u001b[0;34m,\u001b[0m \u001b[0;34m-\u001b[0m\u001b[0;36m62\u001b[0m\u001b[0;34m,\u001b[0m \u001b[0;36m67\u001b[0m\u001b[0;34m)\u001b[0m\u001b[0;34m,\u001b[0m\u001b[0;34m\u001b[0m\u001b[0;34m\u001b[0m\u001b[0m\n",
      "\u001b[0;32m~/projects/rhettinger/Big_Ideas_Little_Code/Lesson11_testing_and_data_validators/pricing_tool.py\u001b[0m in \u001b[0;36m__init__\u001b[0;34m(self, kind, symbol, low, high)\u001b[0m\n\u001b[1;32m     10\u001b[0m     \u001b[0;32mdef\u001b[0m \u001b[0m__init__\u001b[0m\u001b[0;34m(\u001b[0m\u001b[0mself\u001b[0m\u001b[0;34m,\u001b[0m \u001b[0mkind\u001b[0m\u001b[0;34m,\u001b[0m \u001b[0msymbol\u001b[0m\u001b[0;34m,\u001b[0m \u001b[0mlow\u001b[0m\u001b[0;34m,\u001b[0m \u001b[0mhigh\u001b[0m\u001b[0;34m)\u001b[0m\u001b[0;34m:\u001b[0m\u001b[0;34m\u001b[0m\u001b[0;34m\u001b[0m\u001b[0m\n\u001b[1;32m     11\u001b[0m         \u001b[0mself\u001b[0m\u001b[0;34m.\u001b[0m\u001b[0mkind\u001b[0m \u001b[0;34m=\u001b[0m \u001b[0mkind\u001b[0m\u001b[0;34m\u001b[0m\u001b[0;34m\u001b[0m\u001b[0m\n\u001b[0;32m---> 12\u001b[0;31m         \u001b[0mself\u001b[0m\u001b[0;34m.\u001b[0m\u001b[0msymbol\u001b[0m \u001b[0;34m=\u001b[0m \u001b[0msymbol\u001b[0m\u001b[0;34m\u001b[0m\u001b[0;34m\u001b[0m\u001b[0m\n\u001b[0m\u001b[1;32m     13\u001b[0m         \u001b[0mself\u001b[0m\u001b[0;34m.\u001b[0m\u001b[0mlow\u001b[0m \u001b[0;34m=\u001b[0m \u001b[0mlow\u001b[0m\u001b[0;34m\u001b[0m\u001b[0;34m\u001b[0m\u001b[0m\n\u001b[1;32m     14\u001b[0m         \u001b[0mself\u001b[0m\u001b[0;34m.\u001b[0m\u001b[0mhigh\u001b[0m \u001b[0;34m=\u001b[0m \u001b[0mhigh\u001b[0m\u001b[0;34m\u001b[0m\u001b[0;34m\u001b[0m\u001b[0m\n",
      "\u001b[0;32m~/projects/rhettinger/Big_Ideas_Little_Code/Lesson11_testing_and_data_validators/validators.py\u001b[0m in \u001b[0;36m__set__\u001b[0;34m(self, obj, value)\u001b[0m\n\u001b[1;32m     12\u001b[0m \u001b[0;34m\u001b[0m\u001b[0m\n\u001b[1;32m     13\u001b[0m     \u001b[0;32mdef\u001b[0m \u001b[0m__set__\u001b[0m\u001b[0;34m(\u001b[0m\u001b[0mself\u001b[0m\u001b[0;34m,\u001b[0m \u001b[0mobj\u001b[0m\u001b[0;34m,\u001b[0m \u001b[0mvalue\u001b[0m\u001b[0;34m)\u001b[0m\u001b[0;34m:\u001b[0m\u001b[0;34m\u001b[0m\u001b[0;34m\u001b[0m\u001b[0m\n\u001b[0;32m---> 14\u001b[0;31m         \u001b[0mself\u001b[0m\u001b[0;34m.\u001b[0m\u001b[0mvalidate\u001b[0m\u001b[0;34m(\u001b[0m\u001b[0mvalue\u001b[0m\u001b[0;34m)\u001b[0m\u001b[0;34m\u001b[0m\u001b[0;34m\u001b[0m\u001b[0m\n\u001b[0m\u001b[1;32m     15\u001b[0m         \u001b[0msetattr\u001b[0m\u001b[0;34m(\u001b[0m\u001b[0mobj\u001b[0m\u001b[0;34m,\u001b[0m \u001b[0mself\u001b[0m\u001b[0;34m.\u001b[0m\u001b[0mprivate_name\u001b[0m\u001b[0;34m,\u001b[0m \u001b[0mvalue\u001b[0m\u001b[0;34m)\u001b[0m\u001b[0;34m\u001b[0m\u001b[0;34m\u001b[0m\u001b[0m\n\u001b[1;32m     16\u001b[0m \u001b[0;34m\u001b[0m\u001b[0m\n",
      "\u001b[0;32m~/projects/rhettinger/Big_Ideas_Little_Code/Lesson11_testing_and_data_validators/validators.py\u001b[0m in \u001b[0;36mvalidate\u001b[0;34m(self, value)\u001b[0m\n\u001b[1;32m     41\u001b[0m             \u001b[0;32mraise\u001b[0m \u001b[0mValueError\u001b[0m\u001b[0;34m(\u001b[0m\u001b[0;34mf'String is too short, must be at least {self.minsize} long'\u001b[0m\u001b[0;34m)\u001b[0m\u001b[0;34m\u001b[0m\u001b[0;34m\u001b[0m\u001b[0m\n\u001b[1;32m     42\u001b[0m         \u001b[0;32mif\u001b[0m \u001b[0mself\u001b[0m\u001b[0;34m.\u001b[0m\u001b[0mmaxsize\u001b[0m \u001b[0;32mis\u001b[0m \u001b[0;32mnot\u001b[0m \u001b[0;32mNone\u001b[0m \u001b[0;32mand\u001b[0m \u001b[0mlen\u001b[0m\u001b[0;34m(\u001b[0m\u001b[0mvalue\u001b[0m\u001b[0;34m)\u001b[0m \u001b[0;34m>\u001b[0m \u001b[0mself\u001b[0m\u001b[0;34m.\u001b[0m\u001b[0mmaxsize\u001b[0m\u001b[0;34m:\u001b[0m\u001b[0;34m\u001b[0m\u001b[0;34m\u001b[0m\u001b[0m\n\u001b[0;32m---> 43\u001b[0;31m             \u001b[0;32mraise\u001b[0m \u001b[0mValueError\u001b[0m\u001b[0;34m(\u001b[0m\u001b[0;34mf'String is too long, must be no bigger than {self.maxsize} long'\u001b[0m\u001b[0;34m)\u001b[0m\u001b[0;34m\u001b[0m\u001b[0;34m\u001b[0m\u001b[0m\n\u001b[0m\u001b[1;32m     44\u001b[0m         \u001b[0;32mif\u001b[0m \u001b[0mself\u001b[0m\u001b[0;34m.\u001b[0m\u001b[0mpredicate\u001b[0m \u001b[0;32mis\u001b[0m \u001b[0;32mnot\u001b[0m \u001b[0;32mNone\u001b[0m \u001b[0;32mand\u001b[0m \u001b[0;32mnot\u001b[0m \u001b[0mself\u001b[0m\u001b[0;34m.\u001b[0m\u001b[0mpredicate\u001b[0m\u001b[0;34m(\u001b[0m\u001b[0mvalue\u001b[0m\u001b[0;34m)\u001b[0m\u001b[0;34m:\u001b[0m\u001b[0;34m\u001b[0m\u001b[0;34m\u001b[0m\u001b[0m\n\u001b[1;32m     45\u001b[0m             \u001b[0;32mraise\u001b[0m \u001b[0mValueError\u001b[0m\u001b[0;34m(\u001b[0m\u001b[0;34mf'Expected {value} to be true for {self.predicate !r}'\u001b[0m\u001b[0;34m)\u001b[0m\u001b[0;34m\u001b[0m\u001b[0;34m\u001b[0m\u001b[0m\n",
      "\u001b[0;31mValueError\u001b[0m: String is too long, must be no bigger than 5 long"
     ]
    }
   ],
   "source": [
    "%run -i pricing_tool.py"
   ]
  },
  {
   "cell_type": "code",
   "execution_count": 13,
   "metadata": {},
   "outputs": [
    {
     "name": "stdout",
     "output_type": "stream",
     "text": [
      "'Collection of tools used in portfolio analysis'\r\n",
      "from validators import OneOf, String\r\n",
      "from statistics import mean\r\n",
      "\r\n",
      "class PriceRange:\r\n",
      "\r\n",
      "    kind = OneOf('stock', 'bond', 'currency', 'option', 'bond', 'future')\r\n",
      "    symbol = String(minsize=2, maxsize=5, predicate=str.isupper)\r\n",
      "\r\n",
      "    def __init__(self, kind, symbol, low, high):\r\n",
      "        self.kind = kind\r\n",
      "        self.symbol = symbol\r\n",
      "        self.low = low\r\n",
      "        self.high = high\r\n",
      "\r\n",
      "    @property\r\n",
      "    def midpoint(self):\r\n",
      "        return (self.low + self.high) / 2\r\n",
      "\r\n",
      "    def __repr__(s):\r\n",
      "        return f'{s.__class__.__name__}({s.kind!r}, {s.symbol!r}, {s.low!r}, {s.high!r})'\r\n",
      "\r\n",
      "if __name__ == '__main__':\r\n",
      "    from pprint import pprint\r\n",
      "\r\n",
      "    portfolio = [\r\n",
      "        PriceRange('stock', 'CSCO', 26, 35),\r\n",
      "        PriceRange('option', 'HP', 11, 45),\r\n",
      "        PriceRange('stock', 'BOA', 32, 46),\r\n",
      "        PriceRange('stock', 'WLP', 12.87, 334.15),\r\n",
      "        PriceRange('option', 'WLP', 1.87, 14.15),\r\n",
      "        PriceRange('option', 'boa', 34, 45),\r\n",
      "        PriceRange('bond', 'HP', -62, 67),\r\n",
      "    ]\r\n",
      "\r\n",
      "    print('Stock securities:')\r\n",
      "    pprint([s for s in portfolio if s.kind == 'stock'])\r\n",
      "\r\n",
      "    print('\\nWLP securities:')\r\n",
      "    pprint([s for s in portfolio if s.symbol == 'WLP'])\r\n",
      "\r\n",
      "    print('\\nBOA securities:')\r\n",
      "    pprint([s for s in portfolio if s.symbol == 'BOA'])\r\n",
      "\r\n",
      "    print('\\nMininum low:')\r\n",
      "    print(min(s.low for s in portfolio))\r\n",
      "\r\n",
      "    print('\\nMinimum high:')\r\n",
      "    print(max(s.high for s in portfolio))\r\n",
      "\r\n",
      "    print('\\nAverage midpoint:')\r\n",
      "    print(mean(s.midpoint for s in portfolio))\r\n"
     ]
    }
   ],
   "source": [
    "!cat pricing_tool.py"
   ]
  },
  {
   "cell_type": "code",
   "execution_count": 14,
   "metadata": {},
   "outputs": [
    {
     "ename": "ValueError",
     "evalue": "Expected boa to be true for <method 'isupper' of 'str' objects>",
     "output_type": "error",
     "traceback": [
      "\u001b[0;31m---------------------------------------------------------------------------\u001b[0m",
      "\u001b[0;31mValueError\u001b[0m                                Traceback (most recent call last)",
      "\u001b[0;32m~/projects/rhettinger/Big_Ideas_Little_Code/Lesson11_testing_and_data_validators/pricing_tool.py\u001b[0m in \u001b[0;36m<module>\u001b[0;34m\u001b[0m\n\u001b[1;32m     30\u001b[0m         \u001b[0mPriceRange\u001b[0m\u001b[0;34m(\u001b[0m\u001b[0;34m'stock'\u001b[0m\u001b[0;34m,\u001b[0m \u001b[0;34m'WLP'\u001b[0m\u001b[0;34m,\u001b[0m \u001b[0;36m12.87\u001b[0m\u001b[0;34m,\u001b[0m \u001b[0;36m334.15\u001b[0m\u001b[0;34m)\u001b[0m\u001b[0;34m,\u001b[0m\u001b[0;34m\u001b[0m\u001b[0;34m\u001b[0m\u001b[0m\n\u001b[1;32m     31\u001b[0m         \u001b[0mPriceRange\u001b[0m\u001b[0;34m(\u001b[0m\u001b[0;34m'option'\u001b[0m\u001b[0;34m,\u001b[0m \u001b[0;34m'WLP'\u001b[0m\u001b[0;34m,\u001b[0m \u001b[0;36m1.87\u001b[0m\u001b[0;34m,\u001b[0m \u001b[0;36m14.15\u001b[0m\u001b[0;34m)\u001b[0m\u001b[0;34m,\u001b[0m\u001b[0;34m\u001b[0m\u001b[0;34m\u001b[0m\u001b[0m\n\u001b[0;32m---> 32\u001b[0;31m         \u001b[0mPriceRange\u001b[0m\u001b[0;34m(\u001b[0m\u001b[0;34m'option'\u001b[0m\u001b[0;34m,\u001b[0m \u001b[0;34m'boa'\u001b[0m\u001b[0;34m,\u001b[0m \u001b[0;36m34\u001b[0m\u001b[0;34m,\u001b[0m \u001b[0;36m45\u001b[0m\u001b[0;34m)\u001b[0m\u001b[0;34m,\u001b[0m\u001b[0;34m\u001b[0m\u001b[0;34m\u001b[0m\u001b[0m\n\u001b[0m\u001b[1;32m     33\u001b[0m         \u001b[0mPriceRange\u001b[0m\u001b[0;34m(\u001b[0m\u001b[0;34m'bond'\u001b[0m\u001b[0;34m,\u001b[0m \u001b[0;34m'HP'\u001b[0m\u001b[0;34m,\u001b[0m \u001b[0;34m-\u001b[0m\u001b[0;36m62\u001b[0m\u001b[0;34m,\u001b[0m \u001b[0;36m67\u001b[0m\u001b[0;34m)\u001b[0m\u001b[0;34m,\u001b[0m\u001b[0;34m\u001b[0m\u001b[0;34m\u001b[0m\u001b[0m\n\u001b[1;32m     34\u001b[0m     ]\n",
      "\u001b[0;32m~/projects/rhettinger/Big_Ideas_Little_Code/Lesson11_testing_and_data_validators/pricing_tool.py\u001b[0m in \u001b[0;36m__init__\u001b[0;34m(self, kind, symbol, low, high)\u001b[0m\n\u001b[1;32m     10\u001b[0m     \u001b[0;32mdef\u001b[0m \u001b[0m__init__\u001b[0m\u001b[0;34m(\u001b[0m\u001b[0mself\u001b[0m\u001b[0;34m,\u001b[0m \u001b[0mkind\u001b[0m\u001b[0;34m,\u001b[0m \u001b[0msymbol\u001b[0m\u001b[0;34m,\u001b[0m \u001b[0mlow\u001b[0m\u001b[0;34m,\u001b[0m \u001b[0mhigh\u001b[0m\u001b[0;34m)\u001b[0m\u001b[0;34m:\u001b[0m\u001b[0;34m\u001b[0m\u001b[0;34m\u001b[0m\u001b[0m\n\u001b[1;32m     11\u001b[0m         \u001b[0mself\u001b[0m\u001b[0;34m.\u001b[0m\u001b[0mkind\u001b[0m \u001b[0;34m=\u001b[0m \u001b[0mkind\u001b[0m\u001b[0;34m\u001b[0m\u001b[0;34m\u001b[0m\u001b[0m\n\u001b[0;32m---> 12\u001b[0;31m         \u001b[0mself\u001b[0m\u001b[0;34m.\u001b[0m\u001b[0msymbol\u001b[0m \u001b[0;34m=\u001b[0m \u001b[0msymbol\u001b[0m\u001b[0;34m\u001b[0m\u001b[0;34m\u001b[0m\u001b[0m\n\u001b[0m\u001b[1;32m     13\u001b[0m         \u001b[0mself\u001b[0m\u001b[0;34m.\u001b[0m\u001b[0mlow\u001b[0m \u001b[0;34m=\u001b[0m \u001b[0mlow\u001b[0m\u001b[0;34m\u001b[0m\u001b[0;34m\u001b[0m\u001b[0m\n\u001b[1;32m     14\u001b[0m         \u001b[0mself\u001b[0m\u001b[0;34m.\u001b[0m\u001b[0mhigh\u001b[0m \u001b[0;34m=\u001b[0m \u001b[0mhigh\u001b[0m\u001b[0;34m\u001b[0m\u001b[0;34m\u001b[0m\u001b[0m\n",
      "\u001b[0;32m~/projects/rhettinger/Big_Ideas_Little_Code/Lesson11_testing_and_data_validators/validators.py\u001b[0m in \u001b[0;36m__set__\u001b[0;34m(self, obj, value)\u001b[0m\n\u001b[1;32m     12\u001b[0m \u001b[0;34m\u001b[0m\u001b[0m\n\u001b[1;32m     13\u001b[0m     \u001b[0;32mdef\u001b[0m \u001b[0m__set__\u001b[0m\u001b[0;34m(\u001b[0m\u001b[0mself\u001b[0m\u001b[0;34m,\u001b[0m \u001b[0mobj\u001b[0m\u001b[0;34m,\u001b[0m \u001b[0mvalue\u001b[0m\u001b[0;34m)\u001b[0m\u001b[0;34m:\u001b[0m\u001b[0;34m\u001b[0m\u001b[0;34m\u001b[0m\u001b[0m\n\u001b[0;32m---> 14\u001b[0;31m         \u001b[0mself\u001b[0m\u001b[0;34m.\u001b[0m\u001b[0mvalidate\u001b[0m\u001b[0;34m(\u001b[0m\u001b[0mvalue\u001b[0m\u001b[0;34m)\u001b[0m\u001b[0;34m\u001b[0m\u001b[0;34m\u001b[0m\u001b[0m\n\u001b[0m\u001b[1;32m     15\u001b[0m         \u001b[0msetattr\u001b[0m\u001b[0;34m(\u001b[0m\u001b[0mobj\u001b[0m\u001b[0;34m,\u001b[0m \u001b[0mself\u001b[0m\u001b[0;34m.\u001b[0m\u001b[0mprivate_name\u001b[0m\u001b[0;34m,\u001b[0m \u001b[0mvalue\u001b[0m\u001b[0;34m)\u001b[0m\u001b[0;34m\u001b[0m\u001b[0;34m\u001b[0m\u001b[0m\n\u001b[1;32m     16\u001b[0m \u001b[0;34m\u001b[0m\u001b[0m\n",
      "\u001b[0;32m~/projects/rhettinger/Big_Ideas_Little_Code/Lesson11_testing_and_data_validators/validators.py\u001b[0m in \u001b[0;36mvalidate\u001b[0;34m(self, value)\u001b[0m\n\u001b[1;32m     43\u001b[0m             \u001b[0;32mraise\u001b[0m \u001b[0mValueError\u001b[0m\u001b[0;34m(\u001b[0m\u001b[0;34mf'String is too long, must be no bigger than {self.maxsize} long'\u001b[0m\u001b[0;34m)\u001b[0m\u001b[0;34m\u001b[0m\u001b[0;34m\u001b[0m\u001b[0m\n\u001b[1;32m     44\u001b[0m         \u001b[0;32mif\u001b[0m \u001b[0mself\u001b[0m\u001b[0;34m.\u001b[0m\u001b[0mpredicate\u001b[0m \u001b[0;32mis\u001b[0m \u001b[0;32mnot\u001b[0m \u001b[0;32mNone\u001b[0m \u001b[0;32mand\u001b[0m \u001b[0;32mnot\u001b[0m \u001b[0mself\u001b[0m\u001b[0;34m.\u001b[0m\u001b[0mpredicate\u001b[0m\u001b[0;34m(\u001b[0m\u001b[0mvalue\u001b[0m\u001b[0;34m)\u001b[0m\u001b[0;34m:\u001b[0m\u001b[0;34m\u001b[0m\u001b[0;34m\u001b[0m\u001b[0m\n\u001b[0;32m---> 45\u001b[0;31m             \u001b[0;32mraise\u001b[0m \u001b[0mValueError\u001b[0m\u001b[0;34m(\u001b[0m\u001b[0;34mf'Expected {value} to be true for {self.predicate !r}'\u001b[0m\u001b[0;34m)\u001b[0m\u001b[0;34m\u001b[0m\u001b[0;34m\u001b[0m\u001b[0m\n\u001b[0m\u001b[1;32m     46\u001b[0m \u001b[0;34m\u001b[0m\u001b[0m\n\u001b[1;32m     47\u001b[0m \u001b[0;32mclass\u001b[0m \u001b[0mNumber\u001b[0m\u001b[0;34m(\u001b[0m\u001b[0mValidator\u001b[0m\u001b[0;34m)\u001b[0m\u001b[0;34m:\u001b[0m\u001b[0;34m\u001b[0m\u001b[0;34m\u001b[0m\u001b[0m\n",
      "\u001b[0;31mValueError\u001b[0m: Expected boa to be true for <method 'isupper' of 'str' objects>"
     ]
    }
   ],
   "source": [
    "%run -i pricing_tool.py"
   ]
  },
  {
   "cell_type": "code",
   "execution_count": 15,
   "metadata": {},
   "outputs": [
    {
     "name": "stdout",
     "output_type": "stream",
     "text": [
      "Stock securities:\n",
      "[PriceRange('stock', 'CSCO', 26, 35),\n",
      " PriceRange('stock', 'BOA', 32, 46),\n",
      " PriceRange('stock', 'WLP', 12.87, 334.15)]\n",
      "\n",
      "WLP securities:\n",
      "[PriceRange('stock', 'WLP', 12.87, 334.15),\n",
      " PriceRange('option', 'WLP', 1.87, 14.15)]\n",
      "\n",
      "BOA securities:\n",
      "[PriceRange('stock', 'BOA', 32, 46), PriceRange('option', 'BOA', 34, 45)]\n",
      "\n",
      "Mininum low:\n",
      "-62\n",
      "\n",
      "Minimum high:\n",
      "334.15\n",
      "\n",
      "Average midpoint:\n",
      "45.86\n"
     ]
    }
   ],
   "source": [
    "%run -i pricing_tool.py"
   ]
  },
  {
   "cell_type": "markdown",
   "metadata": {},
   "source": [
    "## add number validator"
   ]
  },
  {
   "cell_type": "code",
   "execution_count": 18,
   "metadata": {},
   "outputs": [
    {
     "name": "stdout",
     "output_type": "stream",
     "text": [
      "'Collection of tools used in portfolio analysis'\r\n",
      "from validators import OneOf, String, Number\r\n",
      "from statistics import mean\r\n",
      "\r\n",
      "class PriceRange:\r\n",
      "\r\n",
      "    kind = OneOf('stock', 'bond', 'currency', 'option', 'bond', 'future')\r\n",
      "    symbol = String(minsize=2, maxsize=5, predicate=str.isupper)\r\n",
      "    low = Number(minvalue=0)\r\n",
      "\r\n",
      "    def __init__(self, kind, symbol, low, high):\r\n",
      "        self.kind = kind\r\n",
      "        self.symbol = symbol\r\n",
      "        self.low = low\r\n",
      "        self.high = high\r\n",
      "\r\n",
      "    @property\r\n",
      "    def midpoint(self):\r\n",
      "        return (self.low + self.high) / 2\r\n",
      "\r\n",
      "    def __repr__(s):\r\n",
      "        return f'{s.__class__.__name__}({s.kind!r}, {s.symbol!r}, {s.low!r}, {s.high!r})'\r\n",
      "\r\n",
      "if __name__ == '__main__':\r\n",
      "    from pprint import pprint\r\n",
      "\r\n",
      "    portfolio = [\r\n",
      "        PriceRange('stock', 'CSCO', 26, 35),\r\n",
      "        PriceRange('option', 'HP', 11, 45),\r\n",
      "        PriceRange('stock', 'BOA', 32, 46),\r\n",
      "        PriceRange('stock', 'WLP', 12.87, 334.15),\r\n",
      "        PriceRange('option', 'WLP', 1.87, 14.15),\r\n",
      "        PriceRange('option', 'BOA', 34, 45),\r\n",
      "        PriceRange('bond', 'HP', -62, 67),\r\n",
      "    ]\r\n",
      "\r\n",
      "    print('Stock securities:')\r\n",
      "    pprint([s for s in portfolio if s.kind == 'stock'])\r\n",
      "\r\n",
      "    print('\\nWLP securities:')\r\n",
      "    pprint([s for s in portfolio if s.symbol == 'WLP'])\r\n",
      "\r\n",
      "    print('\\nBOA securities:')\r\n",
      "    pprint([s for s in portfolio if s.symbol == 'BOA'])\r\n",
      "\r\n",
      "    print('\\nMininum low:')\r\n",
      "    print(min(s.low for s in portfolio))\r\n",
      "\r\n",
      "    print('\\nMinimum high:')\r\n",
      "    print(max(s.high for s in portfolio))\r\n",
      "\r\n",
      "    print('\\nAverage midpoint:')\r\n",
      "    print(mean(s.midpoint for s in portfolio))\r\n"
     ]
    }
   ],
   "source": [
    "!cat pricing_tool.py"
   ]
  },
  {
   "cell_type": "code",
   "execution_count": 19,
   "metadata": {},
   "outputs": [
    {
     "ename": "ValueError",
     "evalue": "-62 is too small.  Must be at least 0.",
     "output_type": "error",
     "traceback": [
      "\u001b[0;31m---------------------------------------------------------------------------\u001b[0m",
      "\u001b[0;31mValueError\u001b[0m                                Traceback (most recent call last)",
      "\u001b[0;32m~/projects/rhettinger/Big_Ideas_Little_Code/Lesson11_testing_and_data_validators/pricing_tool.py\u001b[0m in \u001b[0;36m<module>\u001b[0;34m\u001b[0m\n\u001b[1;32m     32\u001b[0m         \u001b[0mPriceRange\u001b[0m\u001b[0;34m(\u001b[0m\u001b[0;34m'option'\u001b[0m\u001b[0;34m,\u001b[0m \u001b[0;34m'WLP'\u001b[0m\u001b[0;34m,\u001b[0m \u001b[0;36m1.87\u001b[0m\u001b[0;34m,\u001b[0m \u001b[0;36m14.15\u001b[0m\u001b[0;34m)\u001b[0m\u001b[0;34m,\u001b[0m\u001b[0;34m\u001b[0m\u001b[0;34m\u001b[0m\u001b[0m\n\u001b[1;32m     33\u001b[0m         \u001b[0mPriceRange\u001b[0m\u001b[0;34m(\u001b[0m\u001b[0;34m'option'\u001b[0m\u001b[0;34m,\u001b[0m \u001b[0;34m'BOA'\u001b[0m\u001b[0;34m,\u001b[0m \u001b[0;36m34\u001b[0m\u001b[0;34m,\u001b[0m \u001b[0;36m45\u001b[0m\u001b[0;34m)\u001b[0m\u001b[0;34m,\u001b[0m\u001b[0;34m\u001b[0m\u001b[0;34m\u001b[0m\u001b[0m\n\u001b[0;32m---> 34\u001b[0;31m         \u001b[0mPriceRange\u001b[0m\u001b[0;34m(\u001b[0m\u001b[0;34m'bond'\u001b[0m\u001b[0;34m,\u001b[0m \u001b[0;34m'HP'\u001b[0m\u001b[0;34m,\u001b[0m \u001b[0;34m-\u001b[0m\u001b[0;36m62\u001b[0m\u001b[0;34m,\u001b[0m \u001b[0;36m67\u001b[0m\u001b[0;34m)\u001b[0m\u001b[0;34m,\u001b[0m\u001b[0;34m\u001b[0m\u001b[0;34m\u001b[0m\u001b[0m\n\u001b[0m\u001b[1;32m     35\u001b[0m     ]\n\u001b[1;32m     36\u001b[0m \u001b[0;34m\u001b[0m\u001b[0m\n",
      "\u001b[0;32m~/projects/rhettinger/Big_Ideas_Little_Code/Lesson11_testing_and_data_validators/pricing_tool.py\u001b[0m in \u001b[0;36m__init__\u001b[0;34m(self, kind, symbol, low, high)\u001b[0m\n\u001b[1;32m     12\u001b[0m         \u001b[0mself\u001b[0m\u001b[0;34m.\u001b[0m\u001b[0mkind\u001b[0m \u001b[0;34m=\u001b[0m \u001b[0mkind\u001b[0m\u001b[0;34m\u001b[0m\u001b[0;34m\u001b[0m\u001b[0m\n\u001b[1;32m     13\u001b[0m         \u001b[0mself\u001b[0m\u001b[0;34m.\u001b[0m\u001b[0msymbol\u001b[0m \u001b[0;34m=\u001b[0m \u001b[0msymbol\u001b[0m\u001b[0;34m\u001b[0m\u001b[0;34m\u001b[0m\u001b[0m\n\u001b[0;32m---> 14\u001b[0;31m         \u001b[0mself\u001b[0m\u001b[0;34m.\u001b[0m\u001b[0mlow\u001b[0m \u001b[0;34m=\u001b[0m \u001b[0mlow\u001b[0m\u001b[0;34m\u001b[0m\u001b[0;34m\u001b[0m\u001b[0m\n\u001b[0m\u001b[1;32m     15\u001b[0m         \u001b[0mself\u001b[0m\u001b[0;34m.\u001b[0m\u001b[0mhigh\u001b[0m \u001b[0;34m=\u001b[0m \u001b[0mhigh\u001b[0m\u001b[0;34m\u001b[0m\u001b[0;34m\u001b[0m\u001b[0m\n\u001b[1;32m     16\u001b[0m \u001b[0;34m\u001b[0m\u001b[0m\n",
      "\u001b[0;32m~/projects/rhettinger/Big_Ideas_Little_Code/Lesson11_testing_and_data_validators/validators.py\u001b[0m in \u001b[0;36m__set__\u001b[0;34m(self, obj, value)\u001b[0m\n\u001b[1;32m     12\u001b[0m \u001b[0;34m\u001b[0m\u001b[0m\n\u001b[1;32m     13\u001b[0m     \u001b[0;32mdef\u001b[0m \u001b[0m__set__\u001b[0m\u001b[0;34m(\u001b[0m\u001b[0mself\u001b[0m\u001b[0;34m,\u001b[0m \u001b[0mobj\u001b[0m\u001b[0;34m,\u001b[0m \u001b[0mvalue\u001b[0m\u001b[0;34m)\u001b[0m\u001b[0;34m:\u001b[0m\u001b[0;34m\u001b[0m\u001b[0;34m\u001b[0m\u001b[0m\n\u001b[0;32m---> 14\u001b[0;31m         \u001b[0mself\u001b[0m\u001b[0;34m.\u001b[0m\u001b[0mvalidate\u001b[0m\u001b[0;34m(\u001b[0m\u001b[0mvalue\u001b[0m\u001b[0;34m)\u001b[0m\u001b[0;34m\u001b[0m\u001b[0;34m\u001b[0m\u001b[0m\n\u001b[0m\u001b[1;32m     15\u001b[0m         \u001b[0msetattr\u001b[0m\u001b[0;34m(\u001b[0m\u001b[0mobj\u001b[0m\u001b[0;34m,\u001b[0m \u001b[0mself\u001b[0m\u001b[0;34m.\u001b[0m\u001b[0mprivate_name\u001b[0m\u001b[0;34m,\u001b[0m \u001b[0mvalue\u001b[0m\u001b[0;34m)\u001b[0m\u001b[0;34m\u001b[0m\u001b[0;34m\u001b[0m\u001b[0m\n\u001b[1;32m     16\u001b[0m \u001b[0;34m\u001b[0m\u001b[0m\n",
      "\u001b[0;32m~/projects/rhettinger/Big_Ideas_Little_Code/Lesson11_testing_and_data_validators/validators.py\u001b[0m in \u001b[0;36mvalidate\u001b[0;34m(self, value)\u001b[0m\n\u001b[1;32m     55\u001b[0m             \u001b[0;32mraise\u001b[0m \u001b[0mTypeError\u001b[0m\u001b[0;34m(\u001b[0m\u001b[0;34m'Expected an int or float'\u001b[0m\u001b[0;34m)\u001b[0m\u001b[0;34m\u001b[0m\u001b[0;34m\u001b[0m\u001b[0m\n\u001b[1;32m     56\u001b[0m         \u001b[0;32mif\u001b[0m \u001b[0mself\u001b[0m\u001b[0;34m.\u001b[0m\u001b[0mminvalue\u001b[0m \u001b[0;32mis\u001b[0m \u001b[0;32mnot\u001b[0m \u001b[0;32mNone\u001b[0m \u001b[0;32mand\u001b[0m \u001b[0mvalue\u001b[0m \u001b[0;34m<\u001b[0m \u001b[0mself\u001b[0m\u001b[0;34m.\u001b[0m\u001b[0mminvalue\u001b[0m\u001b[0;34m:\u001b[0m\u001b[0;34m\u001b[0m\u001b[0;34m\u001b[0m\u001b[0m\n\u001b[0;32m---> 57\u001b[0;31m             \u001b[0;32mraise\u001b[0m \u001b[0mValueError\u001b[0m\u001b[0;34m(\u001b[0m\u001b[0;34mf'{value} is too small.  Must be at least {self.minvalue}.'\u001b[0m\u001b[0;34m)\u001b[0m\u001b[0;34m\u001b[0m\u001b[0;34m\u001b[0m\u001b[0m\n\u001b[0m\u001b[1;32m     58\u001b[0m         \u001b[0;32mif\u001b[0m \u001b[0mself\u001b[0m\u001b[0;34m.\u001b[0m\u001b[0mmaxvalue\u001b[0m \u001b[0;32mis\u001b[0m \u001b[0;32mnot\u001b[0m \u001b[0;32mNone\u001b[0m \u001b[0;32mand\u001b[0m \u001b[0mvalue\u001b[0m \u001b[0;34m>\u001b[0m \u001b[0mself\u001b[0m\u001b[0;34m.\u001b[0m\u001b[0mmaxvalue\u001b[0m\u001b[0;34m:\u001b[0m\u001b[0;34m\u001b[0m\u001b[0;34m\u001b[0m\u001b[0m\n\u001b[1;32m     59\u001b[0m             \u001b[0;32mraise\u001b[0m \u001b[0mValueError\u001b[0m\u001b[0;34m(\u001b[0m\u001b[0;34mf'{value} is too big.  Must be no more than {self.maxvalue}.'\u001b[0m\u001b[0;34m)\u001b[0m\u001b[0;34m\u001b[0m\u001b[0;34m\u001b[0m\u001b[0m\n",
      "\u001b[0;31mValueError\u001b[0m: -62 is too small.  Must be at least 0."
     ]
    }
   ],
   "source": [
    "%run -i pricing_tool.py"
   ]
  },
  {
   "cell_type": "code",
   "execution_count": 20,
   "metadata": {},
   "outputs": [
    {
     "name": "stdout",
     "output_type": "stream",
     "text": [
      "'Collection of tools used in portfolio analysis'\r\n",
      "from validators import OneOf, String, Number\r\n",
      "from statistics import mean\r\n",
      "\r\n",
      "class PriceRange:\r\n",
      "\r\n",
      "    kind = OneOf('stock', 'bond', 'currency', 'option', 'bond', 'future')\r\n",
      "    symbol = String(minsize=2, maxsize=5, predicate=str.isupper)\r\n",
      "    low = Number(minvalue=0)\r\n",
      "\r\n",
      "    def __init__(self, kind, symbol, low, high):\r\n",
      "        self.kind = kind\r\n",
      "        self.symbol = symbol\r\n",
      "        self.low = low\r\n",
      "        self.high = high\r\n",
      "\r\n",
      "    @property\r\n",
      "    def midpoint(self):\r\n",
      "        return (self.low + self.high) / 2\r\n",
      "\r\n",
      "    def __repr__(s):\r\n",
      "        return f'{s.__class__.__name__}({s.kind!r}, {s.symbol!r}, {s.low!r}, {s.high!r})'\r\n",
      "\r\n",
      "if __name__ == '__main__':\r\n",
      "    from pprint import pprint\r\n",
      "\r\n",
      "    portfolio = [\r\n",
      "        PriceRange('stock', 'CSCO', 26, 35),\r\n",
      "        PriceRange('option', 'HP', 11, 45),\r\n",
      "        PriceRange('stock', 'BOA', 32, 46),\r\n",
      "        PriceRange('stock', 'WLP', 12.87, 334.15),\r\n",
      "        PriceRange('option', 'WLP', 1.87, 14.15),\r\n",
      "        PriceRange('option', 'BOA', 34, 45),\r\n",
      "        PriceRange('bond', 'HP', 62, 67),\r\n",
      "    ]\r\n",
      "\r\n",
      "    print('Stock securities:')\r\n",
      "    pprint([s for s in portfolio if s.kind == 'stock'])\r\n",
      "\r\n",
      "    print('\\nWLP securities:')\r\n",
      "    pprint([s for s in portfolio if s.symbol == 'WLP'])\r\n",
      "\r\n",
      "    print('\\nBOA securities:')\r\n",
      "    pprint([s for s in portfolio if s.symbol == 'BOA'])\r\n",
      "\r\n",
      "    print('\\nMininum low:')\r\n",
      "    print(min(s.low for s in portfolio))\r\n",
      "\r\n",
      "    print('\\nMinimum high:')\r\n",
      "    print(max(s.high for s in portfolio))\r\n",
      "\r\n",
      "    print('\\nAverage midpoint:')\r\n",
      "    print(mean(s.midpoint for s in portfolio))\r\n"
     ]
    }
   ],
   "source": [
    "!cat pricing_tool.py"
   ]
  },
  {
   "cell_type": "code",
   "execution_count": 21,
   "metadata": {},
   "outputs": [
    {
     "name": "stdout",
     "output_type": "stream",
     "text": [
      "Stock securities:\n",
      "[PriceRange('stock', 'CSCO', 26, 35),\n",
      " PriceRange('stock', 'BOA', 32, 46),\n",
      " PriceRange('stock', 'WLP', 12.87, 334.15)]\n",
      "\n",
      "WLP securities:\n",
      "[PriceRange('stock', 'WLP', 12.87, 334.15),\n",
      " PriceRange('option', 'WLP', 1.87, 14.15)]\n",
      "\n",
      "BOA securities:\n",
      "[PriceRange('stock', 'BOA', 32, 46), PriceRange('option', 'BOA', 34, 45)]\n",
      "\n",
      "Mininum low:\n",
      "1.87\n",
      "\n",
      "Minimum high:\n",
      "334.15\n",
      "\n",
      "Average midpoint:\n",
      "54.71714285714285\n"
     ]
    }
   ],
   "source": [
    "%run -i pricing_tool.py"
   ]
  },
  {
   "cell_type": "code",
   "execution_count": 22,
   "metadata": {},
   "outputs": [
    {
     "name": "stdout",
     "output_type": "stream",
     "text": [
      "'Collection of tools used in portfolio analysis'\r\n",
      "from validators import OneOf, String, Number\r\n",
      "from statistics import mean\r\n",
      "\r\n",
      "class PriceRange:\r\n",
      "\r\n",
      "    kind = OneOf('stock', 'bond', 'currency', 'option', 'bond', 'future')\r\n",
      "    symbol = String(minsize=2, maxsize=5, predicate=str.isupper)\r\n",
      "    low = Number(minvalue=0)\r\n",
      "    high = Number(minvalue=0, maxvalue=100)\r\n",
      "\r\n",
      "    def __init__(self, kind, symbol, low, high):\r\n",
      "        self.kind = kind\r\n",
      "        self.symbol = symbol\r\n",
      "        self.low = low\r\n",
      "        self.high = high\r\n",
      "\r\n",
      "    @property\r\n",
      "    def midpoint(self):\r\n",
      "        return (self.low + self.high) / 2\r\n",
      "\r\n",
      "    def __repr__(s):\r\n",
      "        return f'{s.__class__.__name__}({s.kind!r}, {s.symbol!r}, {s.low!r}, {s.high!r})'\r\n",
      "\r\n",
      "if __name__ == '__main__':\r\n",
      "    from pprint import pprint\r\n",
      "\r\n",
      "    portfolio = [\r\n",
      "        PriceRange('stock', 'CSCO', 26, 35),\r\n",
      "        PriceRange('option', 'HP', 11, 45),\r\n",
      "        PriceRange('stock', 'BOA', 32, 46),\r\n",
      "        PriceRange('stock', 'WLP', 12.87, 334.15),\r\n",
      "        PriceRange('option', 'WLP', 1.87, 14.15),\r\n",
      "        PriceRange('option', 'BOA', 34, 45),\r\n",
      "        PriceRange('bond', 'HP', 62, 67),\r\n",
      "    ]\r\n",
      "\r\n",
      "    print('Stock securities:')\r\n",
      "    pprint([s for s in portfolio if s.kind == 'stock'])\r\n",
      "\r\n",
      "    print('\\nWLP securities:')\r\n",
      "    pprint([s for s in portfolio if s.symbol == 'WLP'])\r\n",
      "\r\n",
      "    print('\\nBOA securities:')\r\n",
      "    pprint([s for s in portfolio if s.symbol == 'BOA'])\r\n",
      "\r\n",
      "    print('\\nMininum low:')\r\n",
      "    print(min(s.low for s in portfolio))\r\n",
      "\r\n",
      "    print('\\nMinimum high:')\r\n",
      "    print(max(s.high for s in portfolio))\r\n",
      "\r\n",
      "    print('\\nAverage midpoint:')\r\n",
      "    print(mean(s.midpoint for s in portfolio))\r\n"
     ]
    }
   ],
   "source": [
    "!cat pricing_tool.py"
   ]
  },
  {
   "cell_type": "code",
   "execution_count": 23,
   "metadata": {},
   "outputs": [
    {
     "ename": "ValueError",
     "evalue": "334.15 is too big.  Must be no more than 100.",
     "output_type": "error",
     "traceback": [
      "\u001b[0;31m---------------------------------------------------------------------------\u001b[0m",
      "\u001b[0;31mValueError\u001b[0m                                Traceback (most recent call last)",
      "\u001b[0;32m~/projects/rhettinger/Big_Ideas_Little_Code/Lesson11_testing_and_data_validators/pricing_tool.py\u001b[0m in \u001b[0;36m<module>\u001b[0;34m\u001b[0m\n\u001b[1;32m     30\u001b[0m         \u001b[0mPriceRange\u001b[0m\u001b[0;34m(\u001b[0m\u001b[0;34m'option'\u001b[0m\u001b[0;34m,\u001b[0m \u001b[0;34m'HP'\u001b[0m\u001b[0;34m,\u001b[0m \u001b[0;36m11\u001b[0m\u001b[0;34m,\u001b[0m \u001b[0;36m45\u001b[0m\u001b[0;34m)\u001b[0m\u001b[0;34m,\u001b[0m\u001b[0;34m\u001b[0m\u001b[0;34m\u001b[0m\u001b[0m\n\u001b[1;32m     31\u001b[0m         \u001b[0mPriceRange\u001b[0m\u001b[0;34m(\u001b[0m\u001b[0;34m'stock'\u001b[0m\u001b[0;34m,\u001b[0m \u001b[0;34m'BOA'\u001b[0m\u001b[0;34m,\u001b[0m \u001b[0;36m32\u001b[0m\u001b[0;34m,\u001b[0m \u001b[0;36m46\u001b[0m\u001b[0;34m)\u001b[0m\u001b[0;34m,\u001b[0m\u001b[0;34m\u001b[0m\u001b[0;34m\u001b[0m\u001b[0m\n\u001b[0;32m---> 32\u001b[0;31m         \u001b[0mPriceRange\u001b[0m\u001b[0;34m(\u001b[0m\u001b[0;34m'stock'\u001b[0m\u001b[0;34m,\u001b[0m \u001b[0;34m'WLP'\u001b[0m\u001b[0;34m,\u001b[0m \u001b[0;36m12.87\u001b[0m\u001b[0;34m,\u001b[0m \u001b[0;36m334.15\u001b[0m\u001b[0;34m)\u001b[0m\u001b[0;34m,\u001b[0m\u001b[0;34m\u001b[0m\u001b[0;34m\u001b[0m\u001b[0m\n\u001b[0m\u001b[1;32m     33\u001b[0m         \u001b[0mPriceRange\u001b[0m\u001b[0;34m(\u001b[0m\u001b[0;34m'option'\u001b[0m\u001b[0;34m,\u001b[0m \u001b[0;34m'WLP'\u001b[0m\u001b[0;34m,\u001b[0m \u001b[0;36m1.87\u001b[0m\u001b[0;34m,\u001b[0m \u001b[0;36m14.15\u001b[0m\u001b[0;34m)\u001b[0m\u001b[0;34m,\u001b[0m\u001b[0;34m\u001b[0m\u001b[0;34m\u001b[0m\u001b[0m\n\u001b[1;32m     34\u001b[0m         \u001b[0mPriceRange\u001b[0m\u001b[0;34m(\u001b[0m\u001b[0;34m'option'\u001b[0m\u001b[0;34m,\u001b[0m \u001b[0;34m'BOA'\u001b[0m\u001b[0;34m,\u001b[0m \u001b[0;36m34\u001b[0m\u001b[0;34m,\u001b[0m \u001b[0;36m45\u001b[0m\u001b[0;34m)\u001b[0m\u001b[0;34m,\u001b[0m\u001b[0;34m\u001b[0m\u001b[0;34m\u001b[0m\u001b[0m\n",
      "\u001b[0;32m~/projects/rhettinger/Big_Ideas_Little_Code/Lesson11_testing_and_data_validators/pricing_tool.py\u001b[0m in \u001b[0;36m__init__\u001b[0;34m(self, kind, symbol, low, high)\u001b[0m\n\u001b[1;32m     14\u001b[0m         \u001b[0mself\u001b[0m\u001b[0;34m.\u001b[0m\u001b[0msymbol\u001b[0m \u001b[0;34m=\u001b[0m \u001b[0msymbol\u001b[0m\u001b[0;34m\u001b[0m\u001b[0;34m\u001b[0m\u001b[0m\n\u001b[1;32m     15\u001b[0m         \u001b[0mself\u001b[0m\u001b[0;34m.\u001b[0m\u001b[0mlow\u001b[0m \u001b[0;34m=\u001b[0m \u001b[0mlow\u001b[0m\u001b[0;34m\u001b[0m\u001b[0;34m\u001b[0m\u001b[0m\n\u001b[0;32m---> 16\u001b[0;31m         \u001b[0mself\u001b[0m\u001b[0;34m.\u001b[0m\u001b[0mhigh\u001b[0m \u001b[0;34m=\u001b[0m \u001b[0mhigh\u001b[0m\u001b[0;34m\u001b[0m\u001b[0;34m\u001b[0m\u001b[0m\n\u001b[0m\u001b[1;32m     17\u001b[0m \u001b[0;34m\u001b[0m\u001b[0m\n\u001b[1;32m     18\u001b[0m     \u001b[0;34m@\u001b[0m\u001b[0mproperty\u001b[0m\u001b[0;34m\u001b[0m\u001b[0;34m\u001b[0m\u001b[0m\n",
      "\u001b[0;32m~/projects/rhettinger/Big_Ideas_Little_Code/Lesson11_testing_and_data_validators/validators.py\u001b[0m in \u001b[0;36m__set__\u001b[0;34m(self, obj, value)\u001b[0m\n\u001b[1;32m     12\u001b[0m \u001b[0;34m\u001b[0m\u001b[0m\n\u001b[1;32m     13\u001b[0m     \u001b[0;32mdef\u001b[0m \u001b[0m__set__\u001b[0m\u001b[0;34m(\u001b[0m\u001b[0mself\u001b[0m\u001b[0;34m,\u001b[0m \u001b[0mobj\u001b[0m\u001b[0;34m,\u001b[0m \u001b[0mvalue\u001b[0m\u001b[0;34m)\u001b[0m\u001b[0;34m:\u001b[0m\u001b[0;34m\u001b[0m\u001b[0;34m\u001b[0m\u001b[0m\n\u001b[0;32m---> 14\u001b[0;31m         \u001b[0mself\u001b[0m\u001b[0;34m.\u001b[0m\u001b[0mvalidate\u001b[0m\u001b[0;34m(\u001b[0m\u001b[0mvalue\u001b[0m\u001b[0;34m)\u001b[0m\u001b[0;34m\u001b[0m\u001b[0;34m\u001b[0m\u001b[0m\n\u001b[0m\u001b[1;32m     15\u001b[0m         \u001b[0msetattr\u001b[0m\u001b[0;34m(\u001b[0m\u001b[0mobj\u001b[0m\u001b[0;34m,\u001b[0m \u001b[0mself\u001b[0m\u001b[0;34m.\u001b[0m\u001b[0mprivate_name\u001b[0m\u001b[0;34m,\u001b[0m \u001b[0mvalue\u001b[0m\u001b[0;34m)\u001b[0m\u001b[0;34m\u001b[0m\u001b[0;34m\u001b[0m\u001b[0m\n\u001b[1;32m     16\u001b[0m \u001b[0;34m\u001b[0m\u001b[0m\n",
      "\u001b[0;32m~/projects/rhettinger/Big_Ideas_Little_Code/Lesson11_testing_and_data_validators/validators.py\u001b[0m in \u001b[0;36mvalidate\u001b[0;34m(self, value)\u001b[0m\n\u001b[1;32m     57\u001b[0m             \u001b[0;32mraise\u001b[0m \u001b[0mValueError\u001b[0m\u001b[0;34m(\u001b[0m\u001b[0;34mf'{value} is too small.  Must be at least {self.minvalue}.'\u001b[0m\u001b[0;34m)\u001b[0m\u001b[0;34m\u001b[0m\u001b[0;34m\u001b[0m\u001b[0m\n\u001b[1;32m     58\u001b[0m         \u001b[0;32mif\u001b[0m \u001b[0mself\u001b[0m\u001b[0;34m.\u001b[0m\u001b[0mmaxvalue\u001b[0m \u001b[0;32mis\u001b[0m \u001b[0;32mnot\u001b[0m \u001b[0;32mNone\u001b[0m \u001b[0;32mand\u001b[0m \u001b[0mvalue\u001b[0m \u001b[0;34m>\u001b[0m \u001b[0mself\u001b[0m\u001b[0;34m.\u001b[0m\u001b[0mmaxvalue\u001b[0m\u001b[0;34m:\u001b[0m\u001b[0;34m\u001b[0m\u001b[0;34m\u001b[0m\u001b[0m\n\u001b[0;32m---> 59\u001b[0;31m             \u001b[0;32mraise\u001b[0m \u001b[0mValueError\u001b[0m\u001b[0;34m(\u001b[0m\u001b[0;34mf'{value} is too big.  Must be no more than {self.maxvalue}.'\u001b[0m\u001b[0;34m)\u001b[0m\u001b[0;34m\u001b[0m\u001b[0;34m\u001b[0m\u001b[0m\n\u001b[0m\u001b[1;32m     60\u001b[0m \u001b[0;34m\u001b[0m\u001b[0m\n",
      "\u001b[0;31mValueError\u001b[0m: 334.15 is too big.  Must be no more than 100."
     ]
    }
   ],
   "source": [
    "%run -i pricing_tool.py"
   ]
  },
  {
   "cell_type": "code",
   "execution_count": 24,
   "metadata": {},
   "outputs": [
    {
     "name": "stdout",
     "output_type": "stream",
     "text": [
      "'Collection of tools used in portfolio analysis'\r\n",
      "from validators import OneOf, String, Number\r\n",
      "from statistics import mean\r\n",
      "\r\n",
      "class PriceRange:\r\n",
      "\r\n",
      "    kind = OneOf('stock', 'bond', 'currency', 'option', 'bond', 'future')\r\n",
      "    symbol = String(minsize=2, maxsize=5, predicate=str.isupper)\r\n",
      "    low = Number(minvalue=0)\r\n",
      "    high = Number(minvalue=0, maxvalue=100)\r\n",
      "\r\n",
      "    def __init__(self, kind, symbol, low, high):\r\n",
      "        self.kind = kind\r\n",
      "        self.symbol = symbol\r\n",
      "        self.low = low\r\n",
      "        self.high = high\r\n",
      "\r\n",
      "    @property\r\n",
      "    def midpoint(self):\r\n",
      "        return (self.low + self.high) / 2\r\n",
      "\r\n",
      "    def __repr__(s):\r\n",
      "        return f'{s.__class__.__name__}({s.kind!r}, {s.symbol!r}, {s.low!r}, {s.high!r})'\r\n",
      "\r\n",
      "if __name__ == '__main__':\r\n",
      "    from pprint import pprint\r\n",
      "\r\n",
      "    portfolio = [\r\n",
      "        PriceRange('stock', 'CSCO', 26, 35),\r\n",
      "        PriceRange('option', 'HP', 11, 45),\r\n",
      "        PriceRange('stock', 'BOA', 32, 46),\r\n",
      "        PriceRange('stock', 'WLP', 12.87, 34.15),\r\n",
      "        PriceRange('option', 'WLP', 1.87, 14.15),\r\n",
      "        PriceRange('option', 'BOA', 34, 45),\r\n",
      "        PriceRange('bond', 'HP', 62, 67),\r\n",
      "    ]\r\n",
      "\r\n",
      "    print('Stock securities:')\r\n",
      "    pprint([s for s in portfolio if s.kind == 'stock'])\r\n",
      "\r\n",
      "    print('\\nWLP securities:')\r\n",
      "    pprint([s for s in portfolio if s.symbol == 'WLP'])\r\n",
      "\r\n",
      "    print('\\nBOA securities:')\r\n",
      "    pprint([s for s in portfolio if s.symbol == 'BOA'])\r\n",
      "\r\n",
      "    print('\\nMininum low:')\r\n",
      "    print(min(s.low for s in portfolio))\r\n",
      "\r\n",
      "    print('\\nMinimum high:')\r\n",
      "    print(max(s.high for s in portfolio))\r\n",
      "\r\n",
      "    print('\\nAverage midpoint:')\r\n",
      "    print(mean(s.midpoint for s in portfolio))\r\n"
     ]
    }
   ],
   "source": [
    "!cat pricing_tool.py"
   ]
  },
  {
   "cell_type": "code",
   "execution_count": 25,
   "metadata": {},
   "outputs": [
    {
     "name": "stdout",
     "output_type": "stream",
     "text": [
      "Stock securities:\n",
      "[PriceRange('stock', 'CSCO', 26, 35),\n",
      " PriceRange('stock', 'BOA', 32, 46),\n",
      " PriceRange('stock', 'WLP', 12.87, 34.15)]\n",
      "\n",
      "WLP securities:\n",
      "[PriceRange('stock', 'WLP', 12.87, 34.15),\n",
      " PriceRange('option', 'WLP', 1.87, 14.15)]\n",
      "\n",
      "BOA securities:\n",
      "[PriceRange('stock', 'BOA', 32, 46), PriceRange('option', 'BOA', 34, 45)]\n",
      "\n",
      "Mininum low:\n",
      "1.87\n",
      "\n",
      "Minimum high:\n",
      "67\n",
      "\n",
      "Average midpoint:\n",
      "33.28857142857143\n"
     ]
    }
   ],
   "source": [
    "%run -i pricing_tool.py"
   ]
  },
  {
   "cell_type": "code",
   "execution_count": 28,
   "metadata": {},
   "outputs": [],
   "source": [
    "from pricing_tool import *"
   ]
  },
  {
   "cell_type": "code",
   "execution_count": 29,
   "metadata": {},
   "outputs": [],
   "source": [
    "    portfolio = [\n",
    "        PriceRange('stock', 'CSCO', 26, 35),\n",
    "        PriceRange('option', 'HP', 11, 45),\n",
    "        PriceRange('stock', 'BOA', 32, 46),\n",
    "        PriceRange('stock', 'WLP', 12.87, 34.15),\n",
    "        PriceRange('option', 'WLP', 1.87, 14.15),\n",
    "        PriceRange('option', 'BOA', 34, 45),\n",
    "        PriceRange('bond', 'HP', 62, 67),\n",
    "    ]"
   ]
  },
  {
   "cell_type": "code",
   "execution_count": 30,
   "metadata": {},
   "outputs": [
    {
     "data": {
      "text/plain": [
       "PriceRange('stock', 'CSCO', 26, 35)"
      ]
     },
     "execution_count": 30,
     "metadata": {},
     "output_type": "execute_result"
    }
   ],
   "source": [
    "portfolio[0]"
   ]
  },
  {
   "cell_type": "code",
   "execution_count": 31,
   "metadata": {},
   "outputs": [],
   "source": [
    "s = portfolio[0]"
   ]
  },
  {
   "cell_type": "code",
   "execution_count": 32,
   "metadata": {},
   "outputs": [
    {
     "data": {
      "text/plain": [
       "{'_kind': 'stock', '_symbol': 'CSCO', '_low': 26, '_high': 35}"
      ]
     },
     "execution_count": 32,
     "metadata": {},
     "output_type": "execute_result"
    }
   ],
   "source": [
    "s.__dict__"
   ]
  },
  {
   "cell_type": "code",
   "execution_count": null,
   "metadata": {},
   "outputs": [],
   "source": []
  }
 ],
 "metadata": {
  "kernelspec": {
   "display_name": "Python 3",
   "language": "python",
   "name": "python3"
  },
  "language_info": {
   "codemirror_mode": {
    "name": "ipython",
    "version": 3
   },
   "file_extension": ".py",
   "mimetype": "text/x-python",
   "name": "python",
   "nbconvert_exporter": "python",
   "pygments_lexer": "ipython3",
   "version": "3.7.4"
  }
 },
 "nbformat": 4,
 "nbformat_minor": 2
}
