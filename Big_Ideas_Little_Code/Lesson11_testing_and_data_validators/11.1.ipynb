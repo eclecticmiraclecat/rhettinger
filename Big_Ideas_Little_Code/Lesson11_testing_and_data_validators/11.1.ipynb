{
 "cells": [
  {
   "cell_type": "markdown",
   "metadata": {},
   "source": [
    "Approaches to Testing and Error Prevention\n",
    "==============\n",
    "\n",
    "Big Ideas:\n",
    "> Python is a dynamic language. That lests us use the power of Python itself for testing.\n",
    "\n",
    "Tools and Examples\n",
    "=========\n",
    "\n",
    "Quadratic equation example\n",
    "------------\n",
    "\n",
    "* Pyflakes\n",
    "    - Names which are used but not defined or used before they are defined\n",
    "    - Names which redefined without having been used\n",
    "* Doc test\n",
    "* mypy\n",
    "* py.test\n",
    "* itertools combinatorics\n",
    "* hypothesis\n",
    "\n",
    "Pricing tool\n",
    "---------\n",
    "\n",
    "* Validators\n"
   ]
  },
  {
   "cell_type": "code",
   "execution_count": 1,
   "metadata": {},
   "outputs": [
    {
     "name": "stdout",
     "output_type": "stream",
     "text": [
      "# https://en.wikipedia.org/wiki/Quadratic_equation\r\n",
      "\r\n",
      "import math\r\n",
      "\r\n",
      "def quadratic(a, b, c):\r\n",
      "    ''' Compute the roots of the quadratic equation:\r\n",
      "\r\n",
      "            ax^2 + bx + c = 0\r\n",
      "\r\n",
      "        Written in Python as:\r\n",
      "\r\n",
      "            a*x**2 + b*x + c == 0.0\r\n",
      "    '''\r\n",
      "    discriminant = math.sqrt(b**2.0 - 4.0*a*c)\r\n",
      "    x1 = (-b + discriminant) / (2.0 * a)\r\n",
      "    x2 = (-b - discriminant) / (2.0 * a)\r\n",
      "    return x1, x2\r\n"
     ]
    }
   ],
   "source": [
    "!cat quadratic.py"
   ]
  },
  {
   "cell_type": "code",
   "execution_count": 4,
   "metadata": {},
   "outputs": [],
   "source": [
    "from quadratic import quadratic"
   ]
  },
  {
   "cell_type": "code",
   "execution_count": 5,
   "metadata": {},
   "outputs": [],
   "source": [
    "x1, x2 = quadratic(a=8, b=22, c=15)"
   ]
  },
  {
   "cell_type": "code",
   "execution_count": 6,
   "metadata": {},
   "outputs": [
    {
     "data": {
      "text/plain": [
       "-1.25"
      ]
     },
     "execution_count": 6,
     "metadata": {},
     "output_type": "execute_result"
    }
   ],
   "source": [
    "x1"
   ]
  },
  {
   "cell_type": "code",
   "execution_count": 7,
   "metadata": {},
   "outputs": [
    {
     "data": {
      "text/plain": [
       "-1.5"
      ]
     },
     "execution_count": 7,
     "metadata": {},
     "output_type": "execute_result"
    }
   ],
   "source": [
    "x2"
   ]
  },
  {
   "cell_type": "code",
   "execution_count": 8,
   "metadata": {},
   "outputs": [
    {
     "data": {
      "text/plain": [
       "0.0"
      ]
     },
     "execution_count": 8,
     "metadata": {},
     "output_type": "execute_result"
    }
   ],
   "source": [
    "8*x1**2 + 22*x1 + 15"
   ]
  },
  {
   "cell_type": "code",
   "execution_count": 10,
   "metadata": {},
   "outputs": [
    {
     "data": {
      "text/plain": [
       "0.0"
      ]
     },
     "execution_count": 10,
     "metadata": {},
     "output_type": "execute_result"
    }
   ],
   "source": [
    "8*x2**2 + 22*x2 + 15"
   ]
  },
  {
   "cell_type": "code",
   "execution_count": 12,
   "metadata": {},
   "outputs": [],
   "source": [
    "# add documentation"
   ]
  },
  {
   "cell_type": "code",
   "execution_count": 13,
   "metadata": {},
   "outputs": [
    {
     "name": "stdout",
     "output_type": "stream",
     "text": [
      "# https://en.wikipedia.org/wiki/Quadratic_equation\r\n",
      "\r\n",
      "import math\r\n",
      "\r\n",
      "def quadratic(a, b, c):\r\n",
      "    ''' Compute the roots of the quadratic equation:\r\n",
      "\r\n",
      "            ax^2 + bx + c = 0\r\n",
      "\r\n",
      "        Written in Python as:\r\n",
      "\r\n",
      "            a*x**2 + b*x + c == 0.0\r\n",
      "\r\n",
      "\r\n",
      "        For example:\r\n",
      "            >>> x1, x2 = quadratic(a=8, b=22, c=15)\r\n",
      "            >>> x1\r\n",
      "            -1.25\r\n",
      "            >>> x2\r\n",
      "            -1.5\r\n",
      "            >>> 8*x1**2 + 22*x1 + 15\r\n",
      "            0.0\r\n",
      "            >>> 8*x2**2 + 22*x2 + 15\r\n",
      "            0.0\r\n",
      "    '''\r\n",
      "    discriminant = math.sqrt(b**2.0 - 4.0*a*c)\r\n",
      "    x1 = (-b + discriminant) / (2.0 * a)\r\n",
      "    x2 = (-b - discriminant) / (2.0 * a)\r\n",
      "    return x1, x2\r\n"
     ]
    }
   ],
   "source": [
    "!cat quadratic.py"
   ]
  },
  {
   "cell_type": "code",
   "execution_count": 1,
   "metadata": {},
   "outputs": [],
   "source": [
    "from quadratic import quadratic"
   ]
  },
  {
   "cell_type": "code",
   "execution_count": 2,
   "metadata": {},
   "outputs": [
    {
     "name": "stdout",
     "output_type": "stream",
     "text": [
      "Help on function quadratic in module quadratic:\n",
      "\n",
      "quadratic(a, b, c)\n",
      "    Compute the roots of the quadratic equation:\n",
      "    \n",
      "        ax^2 + bx + c = 0\n",
      "    \n",
      "    Written in Python as:\n",
      "    \n",
      "        a*x**2 + b*x + c == 0.0\n",
      "    \n",
      "    \n",
      "    For example:\n",
      "        >>> x1, x2 = quadratic(a=8, b=22, c=15)\n",
      "        >>> x1\n",
      "        -1.25\n",
      "        >>> x2\n",
      "        -1.5\n",
      "        >>> 8*x1**2 + 22*x1 + 15\n",
      "        0.0\n",
      "        >>> 8*x2**2 + 22*x2 + 15\n",
      "        0.0\n",
      "\n"
     ]
    }
   ],
   "source": [
    "help(quadratic)"
   ]
  },
  {
   "cell_type": "markdown",
   "metadata": {},
   "source": [
    "## Doctects validate docstring with example and are effortless to create"
   ]
  },
  {
   "cell_type": "code",
   "execution_count": 5,
   "metadata": {},
   "outputs": [
    {
     "name": "stdout",
     "output_type": "stream",
     "text": [
      "'''Nifty algebra package'''\r\n",
      "\r\n",
      "# https://en.wikipedia.org/wiki/Quadratic_equation\r\n",
      "\r\n",
      "import math\r\n",
      "\r\n",
      "def quadratic(a, b, c):\r\n",
      "    ''' Compute the roots of the quadratic equation:\r\n",
      "\r\n",
      "            ax^2 + bx + c = 0\r\n",
      "\r\n",
      "        Written in Python as:\r\n",
      "\r\n",
      "            a*x**2 + b*x + c == 0.0\r\n",
      "\r\n",
      "\r\n",
      "        For example:\r\n",
      "            >>> x1, x2 = quadratic(a=8, b=22, c=15)\r\n",
      "            >>> x1\r\n",
      "            -1.25\r\n",
      "            >>> x2\r\n",
      "            -1.5\r\n",
      "            >>> 8*x1**2 + 22*x1 + 15\r\n",
      "            0.0\r\n",
      "            >>> 8*x2**2 + 22*x2 + 15\r\n",
      "            0.0\r\n",
      "    '''\r\n",
      "    discriminant = math.sqrt(b**2.0 - 4.0*a*c)\r\n",
      "    x1 = (-b + discriminant) / (2.0 * a)\r\n",
      "    x2 = (-b - discriminant) / (2.0 * a)\r\n",
      "    return x1, x2\r\n",
      "\r\n",
      "if __name__ == '__main__':\r\n",
      "\r\n",
      "    import doctest\r\n",
      "\r\n",
      "    print(doctest.testmod())\r\n"
     ]
    }
   ],
   "source": [
    "!cat quadratic.py"
   ]
  },
  {
   "cell_type": "code",
   "execution_count": 4,
   "metadata": {},
   "outputs": [
    {
     "name": "stdout",
     "output_type": "stream",
     "text": [
      "TestResults(failed=0, attempted=5)\n"
     ]
    }
   ],
   "source": [
    "%run -i quadratic.py"
   ]
  },
  {
   "cell_type": "markdown",
   "metadata": {},
   "source": [
    "***"
   ]
  },
  {
   "cell_type": "markdown",
   "metadata": {},
   "source": [
    "## mypy"
   ]
  },
  {
   "cell_type": "code",
   "execution_count": 4,
   "metadata": {},
   "outputs": [
    {
     "name": "stdout",
     "output_type": "stream",
     "text": [
      "'''Nifty algebra package'''\r\n",
      "\r\n",
      "# https://en.wikipedia.org/wiki/Quadratic_equation\r\n",
      "\r\n",
      "from typing import Tuple\r\n",
      "import math\r\n",
      "\r\n",
      "def quadratic(a: float, b: float, c: float) -> Tuple[float, int]:\r\n",
      "    ''' Compute the roots of the quadratic equation:\r\n",
      "\r\n",
      "            ax^2 + bx + c = 0\r\n",
      "\r\n",
      "        Written in Python as:\r\n",
      "\r\n",
      "            a*x**2 + b*x + c == 0.0\r\n",
      "\r\n",
      "\r\n",
      "        For example:\r\n",
      "            >>> x1, x2 = quadratic(a=8, b=22, c=15)\r\n",
      "            >>> x1\r\n",
      "            -1.25\r\n",
      "            >>> x2\r\n",
      "            -1.5\r\n",
      "            >>> 8*x1**2 + 22*x1 + 15\r\n",
      "            0.0\r\n",
      "            >>> 8*x2**2 + 22*x2 + 15\r\n",
      "            0.0\r\n",
      "    '''\r\n",
      "    discriminant = math.sqrt(b**2.0 - 4.0*a*c)\r\n",
      "    x1 = (-b + discriminant) / (2.0 * a)\r\n",
      "    x2 = (-b - discriminant) / (2.0 * a)\r\n",
      "    return x1, x2\r\n",
      "\r\n",
      "if __name__ == '__main__':\r\n",
      "\r\n",
      "    import doctest\r\n",
      "\r\n",
      "    print(doctest.testmod())\r\n"
     ]
    }
   ],
   "source": [
    "!cat quadratic.py"
   ]
  },
  {
   "cell_type": "code",
   "execution_count": 6,
   "metadata": {},
   "outputs": [
    {
     "name": "stdout",
     "output_type": "stream",
     "text": [
      "quadratic.py:32: error: Incompatible return value type (got \"Tuple[float, float]\", expected \"Tuple[float, int]\")\r\n"
     ]
    }
   ],
   "source": [
    "!mypy quadratic.py"
   ]
  },
  {
   "cell_type": "markdown",
   "metadata": {},
   "source": [
    "***"
   ]
  },
  {
   "cell_type": "markdown",
   "metadata": {},
   "source": [
    "## pytest"
   ]
  },
  {
   "cell_type": "code",
   "execution_count": 7,
   "metadata": {},
   "outputs": [
    {
     "name": "stdout",
     "output_type": "stream",
     "text": [
      "from quadratic import quadratic\r\n",
      "\r\n",
      "def test_quadratic():\r\n",
      "    x1, x2 = quadratic(a=8, b=22, c=15)\r\n",
      "    assert 8*x1**2 + 22*x1 + 15 == 0\r\n",
      "    assert 8*x2**2 + 22*x2 + 15 == 0\r\n"
     ]
    }
   ],
   "source": [
    "!cat test_quadratic.py"
   ]
  },
  {
   "cell_type": "code",
   "execution_count": 8,
   "metadata": {},
   "outputs": [
    {
     "name": "stdout",
     "output_type": "stream",
     "text": [
      "\u001b[1m============================= test session starts ==============================\u001b[0m\r\n",
      "platform linux -- Python 3.7.4, pytest-5.1.3, py-1.8.0, pluggy-0.13.0\r\n",
      "rootdir: /home/benedict/projects/rhettinger/Big_Ideas_Little_Code/Lesson11_testing_and_data_validators\r\n",
      "\u001b[1mcollecting ... \u001b[0m\u001b[1m\r",
      "collected 1 item                                                               \u001b[0m\r\n",
      "\r\n",
      "test_quadratic.py \u001b[32m.\u001b[0m\u001b[36m                                                      [100%]\u001b[0m\r\n",
      "\r\n",
      "\u001b[32m\u001b[1m============================== 1 passed in 0.01s ===============================\u001b[0m\r\n"
     ]
    }
   ],
   "source": [
    "!pytest test_quadratic.py"
   ]
  },
  {
   "cell_type": "code",
   "execution_count": 9,
   "metadata": {},
   "outputs": [
    {
     "name": "stdout",
     "output_type": "stream",
     "text": [
      "from quadratic import quadratic\r\n",
      "\r\n",
      "def test_quadratic():\r\n",
      "    x1, x2 = quadratic(a=8, b=22, c=15)\r\n",
      "    x2 += 1.0   # add failing test\r\n",
      "    assert 8*x1**2 + 22*x1 + 15 == 0\r\n",
      "    assert 8*x2**2 + 22*x2 + 15 == 0\r\n"
     ]
    }
   ],
   "source": [
    "!cat test_quadratic.py"
   ]
  },
  {
   "cell_type": "code",
   "execution_count": 10,
   "metadata": {},
   "outputs": [
    {
     "name": "stdout",
     "output_type": "stream",
     "text": [
      "\u001b[1m============================= test session starts ==============================\u001b[0m\r\n",
      "platform linux -- Python 3.7.4, pytest-5.1.3, py-1.8.0, pluggy-0.13.0\r\n",
      "rootdir: /home/benedict/projects/rhettinger/Big_Ideas_Little_Code/Lesson11_testing_and_data_validators\r\n",
      "\u001b[1mcollecting ... \u001b[0m\u001b[1m\r",
      "collected 1 item                                                               \u001b[0m\r\n",
      "\r\n",
      "test_quadratic.py \u001b[31mF\u001b[0m\u001b[36m                                                      [100%]\u001b[0m\r\n",
      "\r\n",
      "=================================== FAILURES ===================================\r\n",
      "\u001b[31m\u001b[1m________________________________ test_quadratic ________________________________\u001b[0m\r\n",
      "\r\n",
      "\u001b[1m    def test_quadratic():\u001b[0m\r\n",
      "\u001b[1m        x1, x2 = quadratic(a=8, b=22, c=15)\u001b[0m\r\n",
      "\u001b[1m        x2 += 1.0   # add failing test\u001b[0m\r\n",
      "\u001b[1m        assert 8*x1**2 + 22*x1 + 15 == 0\u001b[0m\r\n",
      "\u001b[1m>       assert 8*x2**2 + 22*x2 + 15 == 0\u001b[0m\r\n",
      "\u001b[1m\u001b[31mE       assert (((8 * (-0.5 ** 2)) + (22 * -0.5)) + 15) == 0\u001b[0m\r\n",
      "\r\n",
      "\u001b[1m\u001b[31mtest_quadratic.py\u001b[0m:7: AssertionError\r\n",
      "\u001b[31m\u001b[1m============================== 1 failed in 0.02s ===============================\u001b[0m\r\n"
     ]
    }
   ],
   "source": [
    "!pytest test_quadratic.py"
   ]
  },
  {
   "cell_type": "code",
   "execution_count": 11,
   "metadata": {},
   "outputs": [
    {
     "name": "stdout",
     "output_type": "stream",
     "text": [
      "import pytest\r\n",
      "from quadratic import quadratic\r\n",
      "\r\n",
      "def test_quadratic():\r\n",
      "    x1, x2 = quadratic(a=8, b=22, c=15)\r\n",
      "    assert 8*x1**2 + 22*x1 + 15 == 0\r\n",
      "    assert 8*x2**2 + 22*x2 + 15 == 0\r\n",
      "\r\n",
      "def test_quadratic_types():\r\n",
      "    with pytest.raises(TypeError):\r\n",
      "        quadratic(a=8, b='hello', c=15)\r\n"
     ]
    }
   ],
   "source": [
    "!cat test_quadratic.py"
   ]
  },
  {
   "cell_type": "code",
   "execution_count": 12,
   "metadata": {},
   "outputs": [
    {
     "name": "stdout",
     "output_type": "stream",
     "text": [
      "\u001b[1m============================= test session starts ==============================\u001b[0m\r\n",
      "platform linux -- Python 3.7.4, pytest-5.1.3, py-1.8.0, pluggy-0.13.0\r\n",
      "rootdir: /home/benedict/projects/rhettinger/Big_Ideas_Little_Code/Lesson11_testing_and_data_validators\r\n",
      "\u001b[1mcollecting ... \u001b[0m\u001b[1m\r",
      "collected 2 items                                                              \u001b[0m\r\n",
      "\r\n",
      "test_quadratic.py \u001b[32m.\u001b[0m\u001b[32m.\u001b[0m\u001b[36m                                                     [100%]\u001b[0m\r\n",
      "\r\n",
      "\u001b[32m\u001b[1m============================== 2 passed in 0.01s ===============================\u001b[0m\r\n"
     ]
    }
   ],
   "source": [
    "!pytest test_quadratic.py"
   ]
  },
  {
   "cell_type": "code",
   "execution_count": 13,
   "metadata": {},
   "outputs": [
    {
     "name": "stdout",
     "output_type": "stream",
     "text": [
      "import pytest\r\n",
      "from quadratic import quadratic\r\n",
      "\r\n",
      "def test_quadratic():\r\n",
      "    x1, x2 = quadratic(a=8, b=22, c=15)\r\n",
      "    assert 8*x1**2 + 22*x1 + 15 == 0\r\n",
      "    assert 8*x2**2 + 22*x2 + 15 == 0\r\n",
      "\r\n",
      "def test_quadratic_types():\r\n",
      "    with pytest.raises(TypeError):\r\n",
      "        quadratic(a=8, b='hello', c=15)\r\n",
      "    with pytest.raises(TypeError):\r\n",
      "        quadratic(a=8, b=22, c=15, d=4)\r\n"
     ]
    }
   ],
   "source": [
    "!cat test_quadratic.py"
   ]
  },
  {
   "cell_type": "code",
   "execution_count": 14,
   "metadata": {},
   "outputs": [
    {
     "name": "stdout",
     "output_type": "stream",
     "text": [
      "\u001b[1m============================= test session starts ==============================\u001b[0m\r\n",
      "platform linux -- Python 3.7.4, pytest-5.1.3, py-1.8.0, pluggy-0.13.0\r\n",
      "rootdir: /home/benedict/projects/rhettinger/Big_Ideas_Little_Code/Lesson11_testing_and_data_validators\r\n",
      "\u001b[1mcollecting ... \u001b[0m\u001b[1m\r",
      "collected 2 items                                                              \u001b[0m\r\n",
      "\r\n",
      "test_quadratic.py \u001b[32m.\u001b[0m\u001b[32m.\u001b[0m\u001b[36m                                                     [100%]\u001b[0m\r\n",
      "\r\n",
      "\u001b[32m\u001b[1m============================== 2 passed in 0.01s ===============================\u001b[0m\r\n"
     ]
    }
   ],
   "source": [
    "!pytest test_quadratic.py"
   ]
  },
  {
   "cell_type": "markdown",
   "metadata": {},
   "source": [
    "***"
   ]
  },
  {
   "cell_type": "markdown",
   "metadata": {},
   "source": [
    "## itertools combinatirics"
   ]
  },
  {
   "cell_type": "code",
   "execution_count": 15,
   "metadata": {},
   "outputs": [],
   "source": [
    "from itertools import *"
   ]
  },
  {
   "cell_type": "code",
   "execution_count": null,
   "metadata": {},
   "outputs": [],
   "source": []
  },
  {
   "cell_type": "code",
   "execution_count": 16,
   "metadata": {},
   "outputs": [],
   "source": [
    "# cartession product"
   ]
  },
  {
   "cell_type": "code",
   "execution_count": 17,
   "metadata": {},
   "outputs": [
    {
     "name": "stdout",
     "output_type": "stream",
     "text": [
      "('A', 'D', 'x')\n",
      "('A', 'D', 'y')\n",
      "('A', 'D', 'z')\n",
      "('A', 'E', 'x')\n",
      "('A', 'E', 'y')\n",
      "('A', 'E', 'z')\n",
      "('B', 'D', 'x')\n",
      "('B', 'D', 'y')\n",
      "('B', 'D', 'z')\n",
      "('B', 'E', 'x')\n",
      "('B', 'E', 'y')\n",
      "('B', 'E', 'z')\n",
      "('C', 'D', 'x')\n",
      "('C', 'D', 'y')\n",
      "('C', 'D', 'z')\n",
      "('C', 'E', 'x')\n",
      "('C', 'E', 'y')\n",
      "('C', 'E', 'z')\n"
     ]
    }
   ],
   "source": [
    "for t in product('ABC', 'DE', 'xyz'):\n",
    "    print(t)"
   ]
  },
  {
   "cell_type": "code",
   "execution_count": 18,
   "metadata": {},
   "outputs": [
    {
     "data": {
      "text/plain": [
       "18"
      ]
     },
     "execution_count": 18,
     "metadata": {},
     "output_type": "execute_result"
    }
   ],
   "source": [
    "3 * 2 * 3"
   ]
  },
  {
   "cell_type": "code",
   "execution_count": null,
   "metadata": {},
   "outputs": [],
   "source": []
  },
  {
   "cell_type": "code",
   "execution_count": 19,
   "metadata": {},
   "outputs": [
    {
     "name": "stdout",
     "output_type": "stream",
     "text": [
      "('L', 'O', 'V', 'E')\n",
      "('L', 'O', 'E', 'V')\n",
      "('L', 'V', 'O', 'E')\n",
      "('L', 'V', 'E', 'O')\n",
      "('L', 'E', 'O', 'V')\n",
      "('L', 'E', 'V', 'O')\n",
      "('O', 'L', 'V', 'E')\n",
      "('O', 'L', 'E', 'V')\n",
      "('O', 'V', 'L', 'E')\n",
      "('O', 'V', 'E', 'L')\n",
      "('O', 'E', 'L', 'V')\n",
      "('O', 'E', 'V', 'L')\n",
      "('V', 'L', 'O', 'E')\n",
      "('V', 'L', 'E', 'O')\n",
      "('V', 'O', 'L', 'E')\n",
      "('V', 'O', 'E', 'L')\n",
      "('V', 'E', 'L', 'O')\n",
      "('V', 'E', 'O', 'L')\n",
      "('E', 'L', 'O', 'V')\n",
      "('E', 'L', 'V', 'O')\n",
      "('E', 'O', 'L', 'V')\n",
      "('E', 'O', 'V', 'L')\n",
      "('E', 'V', 'L', 'O')\n",
      "('E', 'V', 'O', 'L')\n"
     ]
    }
   ],
   "source": [
    "for t in permutations('LOVE'):\n",
    "    print(t)"
   ]
  },
  {
   "cell_type": "code",
   "execution_count": null,
   "metadata": {},
   "outputs": [],
   "source": []
  },
  {
   "cell_type": "code",
   "execution_count": 20,
   "metadata": {},
   "outputs": [
    {
     "name": "stdout",
     "output_type": "stream",
     "text": [
      "('L', 'O')\n",
      "('L', 'V')\n",
      "('L', 'E')\n",
      "('O', 'L')\n",
      "('O', 'V')\n",
      "('O', 'E')\n",
      "('V', 'L')\n",
      "('V', 'O')\n",
      "('V', 'E')\n",
      "('E', 'L')\n",
      "('E', 'O')\n",
      "('E', 'V')\n"
     ]
    }
   ],
   "source": [
    "for t in permutations('LOVE', 2):\n",
    "    print(t)"
   ]
  },
  {
   "cell_type": "code",
   "execution_count": null,
   "metadata": {},
   "outputs": [],
   "source": []
  },
  {
   "cell_type": "code",
   "execution_count": 21,
   "metadata": {},
   "outputs": [
    {
     "name": "stdout",
     "output_type": "stream",
     "text": [
      "('L', 'O')\n",
      "('L', 'V')\n",
      "('L', 'E')\n",
      "('O', 'V')\n",
      "('O', 'E')\n",
      "('V', 'E')\n"
     ]
    }
   ],
   "source": [
    "for t in combinations('LOVE', 2):\n",
    "    print(t)"
   ]
  },
  {
   "cell_type": "code",
   "execution_count": 22,
   "metadata": {},
   "outputs": [
    {
     "name": "stdout",
     "output_type": "stream",
     "text": [
      "import pytest\r\n",
      "from quadratic import quadratic\r\n",
      "import itertools\r\n",
      "\r\n",
      "def test_quadratic():\r\n",
      "    x1, x2 = quadratic(a=8, b=22, c=15)\r\n",
      "    assert 8*x1**2 + 22*x1 + 15 == 0\r\n",
      "    assert 8*x2**2 + 22*x2 + 15 == 0\r\n",
      "\r\n",
      "def test_quadratic_types():\r\n",
      "    with pytest.raises(TypeError):\r\n",
      "        quadratic(a=8, b='hello', c=15)\r\n",
      "    with pytest.raises(TypeError):\r\n",
      "        quadratic(a=8, b=22, c=15, d=4)\r\n",
      "\r\n",
      "def test_torture_test():\r\n",
      "    args = [10, 0, 1, 18, -5, -1, 0.5, -1.5]\r\n",
      "    for t in itertools.permutations(args, 3):\r\n",
      "        x1, x2 = quadratic(*t)\r\n"
     ]
    }
   ],
   "source": [
    "!cat test_quadratic.py"
   ]
  },
  {
   "cell_type": "code",
   "execution_count": 23,
   "metadata": {},
   "outputs": [
    {
     "name": "stdout",
     "output_type": "stream",
     "text": [
      "\u001b[1m============================= test session starts ==============================\u001b[0m\r\n",
      "platform linux -- Python 3.7.4, pytest-5.1.3, py-1.8.0, pluggy-0.13.0\r\n",
      "rootdir: /home/benedict/projects/rhettinger/Big_Ideas_Little_Code/Lesson11_testing_and_data_validators\r\n",
      "\u001b[1mcollecting ... \u001b[0m\u001b[1m\r",
      "collected 3 items                                                              \u001b[0m\r\n",
      "\r\n",
      "test_quadratic.py \u001b[32m.\u001b[0m\u001b[32m.\u001b[0m\u001b[31mF\u001b[0m\u001b[36m                                                    [100%]\u001b[0m\r\n",
      "\r\n",
      "=================================== FAILURES ===================================\r\n",
      "\u001b[31m\u001b[1m______________________________ test_torture_test _______________________________\u001b[0m\r\n",
      "\r\n",
      "\u001b[1m    def test_torture_test():\u001b[0m\r\n",
      "\u001b[1m        args = [10, 0, 1, 18, -5, -1, 0.5, -1.5]\u001b[0m\r\n",
      "\u001b[1m        for t in itertools.permutations(args, 3):\u001b[0m\r\n",
      "\u001b[1m>           x1, x2 = quadratic(*t)\u001b[0m\r\n",
      "\r\n",
      "\u001b[1m\u001b[31mtest_quadratic.py\u001b[0m:19: \r\n",
      "_ _ _ _ _ _ _ _ _ _ _ _ _ _ _ _ _ _ _ _ _ _ _ _ _ _ _ _ _ _ _ _ _ _ _ _ _ _ _ _ \r\n",
      "\r\n",
      "a = 10, b = 0, c = 1\r\n",
      "\r\n",
      "\u001b[1m    def quadratic(a: float, b: float, c: float) -> Tuple[float, int]:\u001b[0m\r\n",
      "\u001b[1m        ''' Compute the roots of the quadratic equation:\u001b[0m\r\n",
      "\u001b[1m    \u001b[0m\r\n",
      "\u001b[1m                ax^2 + bx + c = 0\u001b[0m\r\n",
      "\u001b[1m    \u001b[0m\r\n",
      "\u001b[1m            Written in Python as:\u001b[0m\r\n",
      "\u001b[1m    \u001b[0m\r\n",
      "\u001b[1m                a*x**2 + b*x + c == 0.0\u001b[0m\r\n",
      "\u001b[1m    \u001b[0m\r\n",
      "\u001b[1m    \u001b[0m\r\n",
      "\u001b[1m            For example:\u001b[0m\r\n",
      "\u001b[1m                >>> x1, x2 = quadratic(a=8, b=22, c=15)\u001b[0m\r\n",
      "\u001b[1m                >>> x1\u001b[0m\r\n",
      "\u001b[1m                -1.25\u001b[0m\r\n",
      "\u001b[1m                >>> x2\u001b[0m\r\n",
      "\u001b[1m                -1.5\u001b[0m\r\n",
      "\u001b[1m                >>> 8*x1**2 + 22*x1 + 15\u001b[0m\r\n",
      "\u001b[1m                0.0\u001b[0m\r\n",
      "\u001b[1m                >>> 8*x2**2 + 22*x2 + 15\u001b[0m\r\n",
      "\u001b[1m                0.0\u001b[0m\r\n",
      "\u001b[1m        '''\u001b[0m\r\n",
      "\u001b[1m>       discriminant = math.sqrt(b**2.0 - 4.0*a*c)\u001b[0m\r\n",
      "\u001b[1m\u001b[31mE       ValueError: math domain error\u001b[0m\r\n",
      "\r\n",
      "\u001b[1m\u001b[31mquadratic.py\u001b[0m:29: ValueError\r\n",
      "\u001b[31m\u001b[1m========================= 1 failed, 2 passed in 0.02s ==========================\u001b[0m\r\n"
     ]
    }
   ],
   "source": [
    "!pytest test_quadratic.py"
   ]
  },
  {
   "cell_type": "code",
   "execution_count": null,
   "metadata": {},
   "outputs": [],
   "source": []
  }
 ],
 "metadata": {
  "kernelspec": {
   "display_name": "Python 3",
   "language": "python",
   "name": "python3"
  },
  "language_info": {
   "codemirror_mode": {
    "name": "ipython",
    "version": 3
   },
   "file_extension": ".py",
   "mimetype": "text/x-python",
   "name": "python",
   "nbconvert_exporter": "python",
   "pygments_lexer": "ipython3",
   "version": "3.7.4"
  }
 },
 "nbformat": 4,
 "nbformat_minor": 2
}
