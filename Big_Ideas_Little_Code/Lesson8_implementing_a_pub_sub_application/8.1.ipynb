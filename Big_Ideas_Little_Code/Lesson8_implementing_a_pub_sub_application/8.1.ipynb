{
 "cells": [
  {
   "cell_type": "markdown",
   "metadata": {},
   "source": [
    "Publisher/Subscriber Service\n",
    "==================\n",
    "\n",
    "Big Idea:\n",
    "> Users make posts. Followers subscribe to the posts they are interested in. Newer posts are more relevant. Display posts by a user, posts for a user. Display those followed by a user. Store the user account information with hashed passwords."
   ]
  },
  {
   "cell_type": "code",
   "execution_count": 1,
   "metadata": {},
   "outputs": [
    {
     "name": "stdout",
     "output_type": "stream",
     "text": [
      "'Simple message publisher/subscriber service'\r\n",
      "\r\n",
      "from collections import namedtuple, deque, defaultdict\r\n",
      "import time\r\n",
      "\r\n",
      "Post = namedtuple('Post', ['timestamp', 'user', 'text'])\r\n",
      "\r\n",
      "# post from newest to oldest, inserting or deleting in front of list use deque\r\n",
      "posts = deque()\r\n",
      "# defaultdict() with deque() simplifies per-user accumulations of posts\r\n",
      "user_posts = defaultdict(deque)\r\n",
      "\r\n",
      "def post_message(user, text, timestamp=None):\r\n",
      "    timestamp = timestamp or time.time()\r\n",
      "    post = Post(timestamp, user, text)\r\n",
      "    # deque.appendleft(datum) beats list.insert(0, datum)\r\n",
      "    posts.appendleft(post)\r\n",
      "    user_posts[user].appendleft(post)\r\n"
     ]
    }
   ],
   "source": [
    "!cat pubsub.py"
   ]
  },
  {
   "cell_type": "code",
   "execution_count": 2,
   "metadata": {},
   "outputs": [
    {
     "name": "stdout",
     "output_type": "stream",
     "text": [
      "'Sample data to test the pubsub internals'\r\n",
      "\r\n",
      "from pubsub import *\r\n",
      "from pprint import pprint\r\n",
      "\r\n",
      "post_message('guido', 'i love #python type hinting')\r\n",
      "post_message('raymondh', '#python tip: use named tuples')\r\n",
      "post_message('barry', 'join a band today')\r\n",
      "post_message('raymondh', '#python tip: develop interactively')\r\n",
      "post_message('barry', 'learn emacs')\r\n",
      "post_message('davin', 'teaching #python today')\r\n",
      "post_message('raymondh', '#python tip: have fun programming')\r\n",
      "post_message('davin', '#camping tip: always take water')\r\n",
      "post_message('barry', 'enums rocks')\r\n",
      "post_message('raymondh', '#python tip: never mutate while iterating')\r\n",
      "post_message('davin', 'coriander and cilantro come from the same plant')\r\n",
      "\r\n",
      "if __name__ == '__main__':\r\n",
      "    pprint(posts)\r\n"
     ]
    }
   ],
   "source": [
    "!cat session.py"
   ]
  },
  {
   "cell_type": "code",
   "execution_count": 4,
   "metadata": {},
   "outputs": [
    {
     "name": "stdout",
     "output_type": "stream",
     "text": [
      "deque([Post(timestamp=1568948372.688842, user='davin', text='coriander and cilantro come from the same plant'),\n",
      "       Post(timestamp=1568948372.6888409, user='raymondh', text='#python tip: never mutate while iterating'),\n",
      "       Post(timestamp=1568948372.6888397, user='barry', text='enums rocks'),\n",
      "       Post(timestamp=1568948372.6888387, user='davin', text='#camping tip: always take water'),\n",
      "       Post(timestamp=1568948372.6888373, user='raymondh', text='#python tip: have fun programming'),\n",
      "       Post(timestamp=1568948372.6888356, user='davin', text='teaching #python today'),\n",
      "       Post(timestamp=1568948372.688834, user='barry', text='learn emacs'),\n",
      "       Post(timestamp=1568948372.6888328, user='raymondh', text='#python tip: develop interactively'),\n",
      "       Post(timestamp=1568948372.68883, user='barry', text='join a band today'),\n",
      "       Post(timestamp=1568948372.6888278, user='raymondh', text='#python tip: use named tuples'),\n",
      "       Post(timestamp=1568948372.6888204, user='guido', text='i love #python type hinting')])\n"
     ]
    }
   ],
   "source": [
    "%run -i session.py"
   ]
  },
  {
   "cell_type": "code",
   "execution_count": 11,
   "metadata": {},
   "outputs": [],
   "source": [
    "# print only raymondh posts"
   ]
  },
  {
   "cell_type": "code",
   "execution_count": 12,
   "metadata": {
    "scrolled": true
   },
   "outputs": [
    {
     "name": "stdout",
     "output_type": "stream",
     "text": [
      "'Sample data to test the pubsub internals'\r\n",
      "\r\n",
      "from pubsub import *\r\n",
      "from pprint import pprint\r\n",
      "\r\n",
      "post_message('guido', 'i love #python type hinting')\r\n",
      "post_message('raymondh', '#python tip: use named tuples')\r\n",
      "post_message('barry', 'join a band today')\r\n",
      "post_message('raymondh', '#python tip: develop interactively')\r\n",
      "post_message('barry', 'learn emacs')\r\n",
      "post_message('davin', 'teaching #python today')\r\n",
      "post_message('raymondh', '#python tip: have fun programming')\r\n",
      "post_message('davin', '#camping tip: always take water')\r\n",
      "post_message('barry', 'enums rocks')\r\n",
      "post_message('raymondh', '#python tip: never mutate while iterating')\r\n",
      "post_message('davin', 'coriander and cilantro come from the same plant')\r\n",
      "\r\n",
      "if __name__ == '__main__':\r\n",
      "    pprint(user_posts['raymondh'])\r\n"
     ]
    }
   ],
   "source": [
    "!cat session.py"
   ]
  },
  {
   "cell_type": "code",
   "execution_count": 1,
   "metadata": {},
   "outputs": [
    {
     "name": "stdout",
     "output_type": "stream",
     "text": [
      "deque([Post(timestamp=1568948582.1635234, user='raymondh', text='#python tip: never mutate while iterating'),\n",
      "       Post(timestamp=1568948582.163511, user='raymondh', text='#python tip: have fun programming'),\n",
      "       Post(timestamp=1568948582.1634967, user='raymondh', text='#python tip: develop interactively'),\n",
      "       Post(timestamp=1568948582.1634843, user='raymondh', text='#python tip: use named tuples')])\n"
     ]
    }
   ],
   "source": [
    "%run -i session.py"
   ]
  },
  {
   "cell_type": "code",
   "execution_count": 2,
   "metadata": {},
   "outputs": [],
   "source": [
    "# add typing annotations"
   ]
  },
  {
   "cell_type": "code",
   "execution_count": 1,
   "metadata": {},
   "outputs": [
    {
     "name": "stdout",
     "output_type": "stream",
     "text": [
      "'Simple message publisher/subscriber service'\r\n",
      "\r\n",
      "from typing import NamedTuple, DefaultDict\r\n",
      "from collections import namedtuple, deque, defaultdict\r\n",
      "import time\r\n",
      "\r\n",
      "User = str\r\n",
      "Post = NamedTuple('Post', [('timestamp', float), ('user', str) , ('text', str)])\r\n",
      "\r\n",
      "# post from newest to oldest, inserting or deleting in front of list use deque\r\n",
      "posts = deque()                     # type: Deque[Post]     # Posts from newest to oldest\r\n",
      "# defaultdict() with deque() simplifies per-user accumulations of posts\r\n",
      "user_posts = defaultdict(deque)     # type: DefaultDict[User, deque]\r\n",
      "\r\n",
      "def post_message(user: User, text: str, timestamp: float=None) -> None:\r\n",
      "    timestamp = timestamp or time.time()\r\n",
      "    post = Post(timestamp, user, text)\r\n",
      "    # deque.appendleft(datum) beats list.insert(0, datum)\r\n",
      "    posts.appendleft(post)\r\n",
      "    user_posts[user].appendleft(post)\r\n"
     ]
    }
   ],
   "source": [
    "!cat pubsub.py"
   ]
  },
  {
   "cell_type": "code",
   "execution_count": 2,
   "metadata": {},
   "outputs": [
    {
     "name": "stdout",
     "output_type": "stream",
     "text": [
      "deque([Post(timestamp=1568949266.6886568, user='raymondh', text='#python tip: never mutate while iterating'),\n",
      "       Post(timestamp=1568949266.6886494, user='raymondh', text='#python tip: have fun programming'),\n",
      "       Post(timestamp=1568949266.6886413, user='raymondh', text='#python tip: develop interactively'),\n",
      "       Post(timestamp=1568949266.6886318, user='raymondh', text='#python tip: use named tuples')])\n"
     ]
    }
   ],
   "source": [
    "%run -i session.py"
   ]
  },
  {
   "cell_type": "code",
   "execution_count": 3,
   "metadata": {},
   "outputs": [],
   "source": [
    "# add followers"
   ]
  },
  {
   "cell_type": "code",
   "execution_count": 4,
   "metadata": {},
   "outputs": [
    {
     "name": "stdout",
     "output_type": "stream",
     "text": [
      "'Simple message publisher/subscriber service'\r\n",
      "\r\n",
      "from typing import NamedTuple, DefaultDict, Deque, Dict, Set\r\n",
      "from collections import namedtuple, deque, defaultdict\r\n",
      "import time\r\n",
      "\r\n",
      "User = str\r\n",
      "Post = NamedTuple('Post', [('timestamp', float), ('user', str) , ('text', str)])\r\n",
      "\r\n",
      "posts = deque()                     # type: Deque[Post]     # Posts from newest to oldest\r\n",
      "user_posts = defaultdict(deque)     # type: DefaultDict[User, deque]\r\n",
      "following = defaultdict(set)        # type: DefaultDict[User, Set[User]]\r\n",
      "followers = defaultdict(set)        # type: DefaultDict[User, Set[User]]\r\n",
      "\r\n",
      "def post_message(user: User, text: str, timestamp: float=None) -> None:\r\n",
      "    timestamp = timestamp or time.time()\r\n",
      "    post = Post(timestamp, user, text)\r\n",
      "    posts.appendleft(post)\r\n",
      "    user_posts[user].appendleft(post)\r\n",
      "\r\n",
      "def follow(user: User, followed_user: User) -> None:\r\n",
      "    following[user].add(followed_user)\r\n",
      "    followers[followed_user].add(user)\r\n"
     ]
    }
   ],
   "source": [
    "!cat pubsub.py"
   ]
  },
  {
   "cell_type": "code",
   "execution_count": 5,
   "metadata": {},
   "outputs": [
    {
     "name": "stdout",
     "output_type": "stream",
     "text": [
      "'Sample data to test the pubsub internals'\r\n",
      "\r\n",
      "from pubsub import *\r\n",
      "from pprint import pprint\r\n",
      "\r\n",
      "post_message('guido', 'i love #python type hinting')\r\n",
      "post_message('raymondh', '#python tip: use named tuples')\r\n",
      "post_message('barry', 'join a band today')\r\n",
      "post_message('raymondh', '#python tip: develop interactively')\r\n",
      "post_message('barry', 'learn emacs')\r\n",
      "post_message('davin', 'teaching #python today')\r\n",
      "post_message('raymondh', '#python tip: have fun programming')\r\n",
      "post_message('davin', '#camping tip: always take water')\r\n",
      "post_message('barry', 'enums rocks')\r\n",
      "post_message('raymondh', '#python tip: never mutate while iterating')\r\n",
      "post_message('davin', 'coriander and cilantro come from the same plant')\r\n",
      "\r\n",
      "follow('davin', followed_user='raymondh')\r\n",
      "follow('davin', followed_user='barry')\r\n",
      "\r\n",
      "if __name__ == '__main__':\r\n",
      "    pprint(following)\r\n",
      "    pprint(followers)\r\n"
     ]
    }
   ],
   "source": [
    "!cat session.py"
   ]
  },
  {
   "cell_type": "code",
   "execution_count": 1,
   "metadata": {},
   "outputs": [
    {
     "name": "stdout",
     "output_type": "stream",
     "text": [
      "defaultdict(<class 'set'>, {'davin': {'barry', 'raymondh'}})\n",
      "defaultdict(<class 'set'>, {'raymondh': {'davin'}, 'barry': {'davin'}})\n"
     ]
    }
   ],
   "source": [
    "%run -i session.py"
   ]
  },
  {
   "cell_type": "code",
   "execution_count": null,
   "metadata": {},
   "outputs": [],
   "source": []
  },
  {
   "cell_type": "code",
   "execution_count": null,
   "metadata": {},
   "outputs": [],
   "source": []
  }
 ],
 "metadata": {
  "kernelspec": {
   "display_name": "Python 3",
   "language": "python",
   "name": "python3"
  },
  "language_info": {
   "codemirror_mode": {
    "name": "ipython",
    "version": 3
   },
   "file_extension": ".py",
   "mimetype": "text/x-python",
   "name": "python",
   "nbconvert_exporter": "python",
   "pygments_lexer": "ipython3",
   "version": "3.7.4"
  }
 },
 "nbformat": 4,
 "nbformat_minor": 2
}
