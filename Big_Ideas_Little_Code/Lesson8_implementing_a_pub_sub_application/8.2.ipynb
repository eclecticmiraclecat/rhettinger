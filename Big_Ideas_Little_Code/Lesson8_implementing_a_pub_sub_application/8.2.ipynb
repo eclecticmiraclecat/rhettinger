{
 "cells": [
  {
   "cell_type": "code",
   "execution_count": 1,
   "metadata": {},
   "outputs": [],
   "source": [
    "# view posts by user"
   ]
  },
  {
   "cell_type": "code",
   "execution_count": 2,
   "metadata": {
    "scrolled": false
   },
   "outputs": [
    {
     "name": "stdout",
     "output_type": "stream",
     "text": [
      "'Simple message publisher/subscriber service'\r\n",
      "\r\n",
      "from typing import NamedTuple, DefaultDict, Deque, Dict, Set, Optional\r\n",
      "from collections import namedtuple, deque, defaultdict\r\n",
      "import time\r\n",
      "\r\n",
      "User = str\r\n",
      "Post = NamedTuple('Post', [('timestamp', float), ('user', str) , ('text', str)])\r\n",
      "\r\n",
      "posts = deque()                     # type: Deque[Post]     # Posts from newest to oldest\r\n",
      "user_posts = defaultdict(deque)     # type: DefaultDict[User, deque]\r\n",
      "following = defaultdict(set)        # type: DefaultDict[User, Set[User]]\r\n",
      "followers = defaultdict(set)        # type: DefaultDict[User, Set[User]]\r\n",
      "\r\n",
      "def post_message(user: User, text: str, timestamp: float=None) -> None:\r\n",
      "    timestamp = timestamp or time.time()\r\n",
      "    post = Post(timestamp, user, text)\r\n",
      "    posts.appendleft(post)\r\n",
      "    user_posts[user].appendleft(post)\r\n",
      "\r\n",
      "def follow(user: User, followed_user: User) -> None:\r\n",
      "    following[user].add(followed_user)\r\n",
      "    followers[followed_user].add(user)\r\n",
      "\r\n",
      "def posts_by_user(user: User, limit: Optional[int] = None) -> List[Post]:\r\n",
      "    return list(islice(user_posts[user], limit))\r\n"
     ]
    }
   ],
   "source": [
    "!cat pubsub.py"
   ]
  },
  {
   "cell_type": "code",
   "execution_count": 6,
   "metadata": {
    "scrolled": true
   },
   "outputs": [
    {
     "name": "stdout",
     "output_type": "stream",
     "text": [
      "'Sample data to test the pubsub internals'\r\n",
      "\r\n",
      "from pubsub import *\r\n",
      "from pprint import pprint\r\n",
      "\r\n",
      "post_message('guido', 'i love #python type hinting')\r\n",
      "post_message('raymondh', '#python tip: use named tuples')\r\n",
      "post_message('barry', 'join a band today')\r\n",
      "post_message('raymondh', '#python tip: develop interactively')\r\n",
      "post_message('barry', 'learn emacs')\r\n",
      "post_message('davin', 'teaching #python today')\r\n",
      "post_message('raymondh', '#python tip: have fun programming')\r\n",
      "post_message('davin', '#camping tip: always take water')\r\n",
      "post_message('barry', 'enums rocks')\r\n",
      "post_message('raymondh', '#python tip: never mutate while iterating')\r\n",
      "post_message('davin', 'coriander and cilantro come from the same plant')\r\n",
      "\r\n",
      "follow('davin', followed_user='raymondh')\r\n",
      "follow('davin', followed_user='barry')\r\n",
      "\r\n",
      "\r\n",
      "\r\n",
      "if __name__ == '__main__':\r\n",
      "    pprint(posts_by_user('davin'))\r\n"
     ]
    }
   ],
   "source": [
    "!cat session.py"
   ]
  },
  {
   "cell_type": "code",
   "execution_count": 1,
   "metadata": {},
   "outputs": [
    {
     "name": "stdout",
     "output_type": "stream",
     "text": [
      "[Post(timestamp=1568950640.0803075, user='davin', text='coriander and cilantro come from the same plant'),\n",
      " Post(timestamp=1568950640.0803, user='davin', text='#camping tip: always take water'),\n",
      " Post(timestamp=1568950640.0802937, user='davin', text='teaching #python today')]\n"
     ]
    }
   ],
   "source": [
    "%run -i session.py"
   ]
  },
  {
   "cell_type": "markdown",
   "metadata": {},
   "source": [
    "***"
   ]
  },
  {
   "cell_type": "code",
   "execution_count": 3,
   "metadata": {},
   "outputs": [],
   "source": [
    "# limit the number of posts by a user"
   ]
  },
  {
   "cell_type": "code",
   "execution_count": 4,
   "metadata": {},
   "outputs": [
    {
     "name": "stdout",
     "output_type": "stream",
     "text": [
      "'Sample data to test the pubsub internals'\r\n",
      "\r\n",
      "from pubsub import *\r\n",
      "from pprint import pprint\r\n",
      "\r\n",
      "post_message('guido', 'i love #python type hinting')\r\n",
      "post_message('raymondh', '#python tip: use named tuples')\r\n",
      "post_message('barry', 'join a band today')\r\n",
      "post_message('raymondh', '#python tip: develop interactively')\r\n",
      "post_message('barry', 'learn emacs')\r\n",
      "post_message('davin', 'teaching #python today')\r\n",
      "post_message('raymondh', '#python tip: have fun programming')\r\n",
      "post_message('davin', '#camping tip: always take water')\r\n",
      "post_message('barry', 'enums rocks')\r\n",
      "post_message('raymondh', '#python tip: never mutate while iterating')\r\n",
      "post_message('davin', 'coriander and cilantro come from the same plant')\r\n",
      "\r\n",
      "follow('davin', followed_user='raymondh')\r\n",
      "follow('davin', followed_user='barry')\r\n",
      "\r\n",
      "\r\n",
      "\r\n",
      "if __name__ == '__main__':\r\n",
      "    pprint(posts_by_user('davin'))\r\n",
      "    pprint(posts_by_user('raymondh', limit=2))\r\n"
     ]
    }
   ],
   "source": [
    "!cat session.py"
   ]
  },
  {
   "cell_type": "code",
   "execution_count": 1,
   "metadata": {},
   "outputs": [
    {
     "name": "stdout",
     "output_type": "stream",
     "text": [
      "[Post(timestamp=1568950751.5519798, user='davin', text='coriander and cilantro come from the same plant'),\n",
      " Post(timestamp=1568950751.5519729, user='davin', text='#camping tip: always take water'),\n",
      " Post(timestamp=1568950751.5519664, user='davin', text='teaching #python today')]\n",
      "[Post(timestamp=1568950751.5519774, user='raymondh', text='#python tip: never mutate while iterating'),\n",
      " Post(timestamp=1568950751.55197, user='raymondh', text='#python tip: have fun programming')]\n"
     ]
    }
   ],
   "source": [
    "%run -i session.py"
   ]
  },
  {
   "cell_type": "markdown",
   "metadata": {},
   "source": [
    "***"
   ]
  },
  {
   "cell_type": "code",
   "execution_count": 2,
   "metadata": {},
   "outputs": [],
   "source": [
    "# posts based people that are being followed"
   ]
  },
  {
   "cell_type": "code",
   "execution_count": 3,
   "metadata": {},
   "outputs": [
    {
     "name": "stdout",
     "output_type": "stream",
     "text": [
      "'Simple message publisher/subscriber service'\r\n",
      "\r\n",
      "from typing import NamedTuple, DefaultDict, Deque, Dict, Set, Optional, List\r\n",
      "from collections import namedtuple, deque, defaultdict\r\n",
      "import time\r\n",
      "from itertools import islice\r\n",
      "\r\n",
      "User = str\r\n",
      "Post = NamedTuple('Post', [('timestamp', float), ('user', str) , ('text', str)])\r\n",
      "\r\n",
      "posts = deque()                     # type: Deque[Post]     # Posts from newest to oldest\r\n",
      "user_posts = defaultdict(deque)     # type: DefaultDict[User, deque]\r\n",
      "following = defaultdict(set)        # type: DefaultDict[User, Set[User]]\r\n",
      "followers = defaultdict(set)        # type: DefaultDict[User, Set[User]]\r\n",
      "\r\n",
      "def post_message(user: User, text: str, timestamp: float=None) -> None:\r\n",
      "    timestamp = timestamp or time.time()\r\n",
      "    post = Post(timestamp, user, text)\r\n",
      "    posts.appendleft(post)\r\n",
      "    user_posts[user].appendleft(post)\r\n",
      "\r\n",
      "def follow(user: User, followed_user: User) -> None:\r\n",
      "    following[user].add(followed_user)\r\n",
      "    followers[followed_user].add(user)\r\n",
      "\r\n",
      "def posts_by_user(user: User, limit: Optional[int] = None) -> List[Post]:\r\n",
      "    return list(islice(user_posts[user], limit))\r\n",
      "\r\n",
      "def posts_for_user(user: User, limit: Optional[int] = None) -> List[Post]:\r\n",
      "    return [user_posts[fu] for fu in following[user]]\r\n"
     ]
    }
   ],
   "source": [
    "!cat pubsub.py"
   ]
  },
  {
   "cell_type": "code",
   "execution_count": 4,
   "metadata": {},
   "outputs": [
    {
     "name": "stdout",
     "output_type": "stream",
     "text": [
      "'Sample data to test the pubsub internals'\r\n",
      "\r\n",
      "from pubsub import *\r\n",
      "from pprint import pprint\r\n",
      "\r\n",
      "post_message('guido', 'i love #python type hinting')\r\n",
      "post_message('raymondh', '#python tip: use named tuples')\r\n",
      "post_message('barry', 'join a band today')\r\n",
      "post_message('raymondh', '#python tip: develop interactively')\r\n",
      "post_message('barry', 'learn emacs')\r\n",
      "post_message('davin', 'teaching #python today')\r\n",
      "post_message('raymondh', '#python tip: have fun programming')\r\n",
      "post_message('davin', '#camping tip: always take water')\r\n",
      "post_message('barry', 'enums rocks')\r\n",
      "post_message('raymondh', '#python tip: never mutate while iterating')\r\n",
      "post_message('davin', 'coriander and cilantro come from the same plant')\r\n",
      "\r\n",
      "follow('davin', followed_user='raymondh')\r\n",
      "follow('davin', followed_user='barry')\r\n",
      "\r\n",
      "\r\n",
      "\r\n",
      "if __name__ == '__main__':\r\n",
      "    pprint(posts_for_user('davin')\r\n"
     ]
    }
   ],
   "source": [
    "!cat session.py"
   ]
  },
  {
   "cell_type": "code",
   "execution_count": 1,
   "metadata": {},
   "outputs": [
    {
     "name": "stdout",
     "output_type": "stream",
     "text": [
      "[deque([Post(timestamp=1568953549.9469793, user='raymondh', text='#python tip: never mutate while iterating'),\n",
      "        Post(timestamp=1568953549.946965, user='raymondh', text='#python tip: have fun programming'),\n",
      "        Post(timestamp=1568953549.946949, user='raymondh', text='#python tip: develop interactively'),\n",
      "        Post(timestamp=1568953549.9469357, user='raymondh', text='#python tip: use named tuples')]),\n",
      " deque([Post(timestamp=1568953549.9469745, user='barry', text='enums rocks'),\n",
      "        Post(timestamp=1568953549.9469538, user='barry', text='learn emacs'),\n",
      "        Post(timestamp=1568953549.9469419, user='barry', text='join a band today')])]\n"
     ]
    }
   ],
   "source": [
    "%run -i session.py"
   ]
  },
  {
   "cell_type": "code",
   "execution_count": 2,
   "metadata": {},
   "outputs": [],
   "source": [
    "# combine all the posts from the followed users"
   ]
  },
  {
   "cell_type": "code",
   "execution_count": 2,
   "metadata": {
    "scrolled": true
   },
   "outputs": [
    {
     "data": {
      "text/plain": [
       "[1, 2, 4, 6, 9, 10]"
      ]
     },
     "execution_count": 2,
     "metadata": {},
     "output_type": "execute_result"
    }
   ],
   "source": [
    "list(merge([1, 4, 9], [2, 6, 10]))"
   ]
  },
  {
   "cell_type": "code",
   "execution_count": 3,
   "metadata": {},
   "outputs": [
    {
     "data": {
      "text/plain": [
       "[9, 4, 1, 10, 6, 2]"
      ]
     },
     "execution_count": 3,
     "metadata": {},
     "output_type": "execute_result"
    }
   ],
   "source": [
    "list(merge([9, 4, 1], [10, 6, 2]))"
   ]
  },
  {
   "cell_type": "code",
   "execution_count": 4,
   "metadata": {},
   "outputs": [
    {
     "data": {
      "text/plain": [
       "[10, 9, 6, 4, 2, 1]"
      ]
     },
     "execution_count": 4,
     "metadata": {},
     "output_type": "execute_result"
    }
   ],
   "source": [
    "list(merge([9, 4, 1], [10, 6, 2], reverse=True))"
   ]
  },
  {
   "cell_type": "code",
   "execution_count": 5,
   "metadata": {},
   "outputs": [
    {
     "name": "stdout",
     "output_type": "stream",
     "text": [
      "'Simple message publisher/subscriber service'\r\n",
      "\r\n",
      "from typing import NamedTuple, DefaultDict, Deque, Dict, Set, Optional, List\r\n",
      "from collections import namedtuple, deque, defaultdict\r\n",
      "import time\r\n",
      "from itertools import islice\r\n",
      "from heapq import merge\r\n",
      "\r\n",
      "User = str\r\n",
      "Post = NamedTuple('Post', [('timestamp', float), ('user', str) , ('text', str)])\r\n",
      "\r\n",
      "posts = deque()                     # type: Deque[Post]     # Posts from newest to oldest\r\n",
      "user_posts = defaultdict(deque)     # type: DefaultDict[User, deque]\r\n",
      "following = defaultdict(set)        # type: DefaultDict[User, Set[User]]\r\n",
      "followers = defaultdict(set)        # type: DefaultDict[User, Set[User]]\r\n",
      "\r\n",
      "def post_message(user: User, text: str, timestamp: float=None) -> None:\r\n",
      "    timestamp = timestamp or time.time()\r\n",
      "    post = Post(timestamp, user, text)\r\n",
      "    posts.appendleft(post)\r\n",
      "    user_posts[user].appendleft(post)\r\n",
      "\r\n",
      "def follow(user: User, followed_user: User) -> None:\r\n",
      "    following[user].add(followed_user)\r\n",
      "    followers[followed_user].add(user)\r\n",
      "\r\n",
      "def posts_by_user(user: User, limit: Optional[int] = None) -> List[Post]:\r\n",
      "    return list(islice(user_posts[user], limit))\r\n",
      "\r\n",
      "def posts_for_user(user: User, limit: Optional[int] = None) -> List[Post]:\r\n",
      "    relevant = merge(*[user_posts[followed_user] \r\n",
      "                      for followed_user in following[user]], reverse=True)\r\n",
      "    return list(islice(relevant, limit))\r\n"
     ]
    }
   ],
   "source": [
    "!cat pubsub.py"
   ]
  },
  {
   "cell_type": "code",
   "execution_count": 5,
   "metadata": {},
   "outputs": [
    {
     "name": "stdout",
     "output_type": "stream",
     "text": [
      "'Sample data to test the pubsub internals'\r\n",
      "\r\n",
      "from pubsub import *\r\n",
      "from pprint import pprint\r\n",
      "\r\n",
      "post_message('guido', 'i love #python type hinting')\r\n",
      "post_message('raymondh', '#python tip: use named tuples')\r\n",
      "post_message('barry', 'join a band today')\r\n",
      "post_message('raymondh', '#python tip: develop interactively')\r\n",
      "post_message('barry', 'learn emacs')\r\n",
      "post_message('davin', 'teaching #python today')\r\n",
      "post_message('raymondh', '#python tip: have fun programming')\r\n",
      "post_message('davin', '#camping tip: always take water')\r\n",
      "post_message('barry', 'enums rocks')\r\n",
      "post_message('raymondh', '#python tip: never mutate while iterating')\r\n",
      "post_message('davin', 'coriander and cilantro come from the same plant')\r\n",
      "\r\n",
      "follow('davin', followed_user='raymondh')\r\n",
      "follow('davin', followed_user='barry')\r\n",
      "\r\n",
      "\r\n",
      "\r\n",
      "if __name__ == '__main__':\r\n",
      "    pprint(posts_for_user('davin', limit=2))\r\n"
     ]
    }
   ],
   "source": [
    "!cat session.py"
   ]
  },
  {
   "cell_type": "code",
   "execution_count": 1,
   "metadata": {},
   "outputs": [
    {
     "name": "stdout",
     "output_type": "stream",
     "text": [
      "[Post(timestamp=1568964856.6236234, user='raymondh', text='#python tip: never mutate while iterating'),\n",
      " Post(timestamp=1568964856.6236203, user='barry', text='enums rocks')]\n"
     ]
    }
   ],
   "source": [
    "%run -i session.py"
   ]
  },
  {
   "cell_type": "code",
   "execution_count": 9,
   "metadata": {},
   "outputs": [],
   "source": [
    "# make sure same user name does not appear many many times\n",
    "# interning eliminates redundant strings to save memory\n",
    "# optimization, sys.intern"
   ]
  },
  {
   "cell_type": "code",
   "execution_count": 10,
   "metadata": {},
   "outputs": [
    {
     "name": "stdout",
     "output_type": "stream",
     "text": [
      "'Simple message publisher/subscriber service'\r\n",
      "\r\n",
      "from typing import NamedTuple, DefaultDict, Deque, Dict, Set, Optional, List\r\n",
      "from collections import namedtuple, deque, defaultdict\r\n",
      "import time\r\n",
      "from itertools import islice\r\n",
      "from heapq import merge\r\n",
      "from sys import intern\r\n",
      "\r\n",
      "User = str\r\n",
      "Post = NamedTuple('Post', [('timestamp', float), ('user', str) , ('text', str)])\r\n",
      "\r\n",
      "posts = deque()                     # type: Deque[Post]     # Posts from newest to oldest\r\n",
      "user_posts = defaultdict(deque)     # type: DefaultDict[User, deque]\r\n",
      "following = defaultdict(set)        # type: DefaultDict[User, Set[User]]\r\n",
      "followers = defaultdict(set)        # type: DefaultDict[User, Set[User]]\r\n",
      "\r\n",
      "def post_message(user: User, text: str, timestamp: float=None) -> None:\r\n",
      "    user = intern(user)\r\n",
      "    timestamp = timestamp or time.time()\r\n",
      "    post = Post(timestamp, user, text)\r\n",
      "    posts.appendleft(post)\r\n",
      "    user_posts[user].appendleft(post)\r\n",
      "\r\n",
      "def follow(user: User, followed_user: User) -> None:\r\n",
      "    user, followed_user = intern(user), intern(followed_user)\r\n",
      "    following[user].add(followed_user)\r\n",
      "    followers[followed_user].add(user)\r\n",
      "\r\n",
      "def posts_by_user(user: User, limit: Optional[int] = None) -> List[Post]:\r\n",
      "    return list(islice(user_posts[user], limit))\r\n",
      "\r\n",
      "def posts_for_user(user: User, limit: Optional[int] = None) -> List[Post]:\r\n",
      "    relevant = merge(*[user_posts[followed_user] \r\n",
      "                      for followed_user in following[user]], reverse=True)\r\n",
      "    return list(islice(relevant, limit))\r\n"
     ]
    }
   ],
   "source": [
    "!cat pubsub.py"
   ]
  },
  {
   "cell_type": "code",
   "execution_count": 11,
   "metadata": {},
   "outputs": [],
   "source": [
    "# search for relevant post"
   ]
  },
  {
   "cell_type": "code",
   "execution_count": 3,
   "metadata": {},
   "outputs": [
    {
     "name": "stdout",
     "output_type": "stream",
     "text": [
      "'Simple message publisher/subscriber service'\r\n",
      "\r\n",
      "from typing import NamedTuple, DefaultDict, Deque, Dict, Set, Optional, List\r\n",
      "from collections import namedtuple, deque, defaultdict\r\n",
      "import time\r\n",
      "from itertools import islice\r\n",
      "from heapq import merge\r\n",
      "from sys import intern\r\n",
      "\r\n",
      "User = str\r\n",
      "Post = NamedTuple('Post', [('timestamp', float), ('user', str) , ('text', str)])\r\n",
      "\r\n",
      "posts = deque()                     # type: Deque[Post]     # Posts from newest to oldest\r\n",
      "user_posts = defaultdict(deque)     # type: DefaultDict[User, deque]\r\n",
      "following = defaultdict(set)        # type: DefaultDict[User, Set[User]]\r\n",
      "followers = defaultdict(set)        # type: DefaultDict[User, Set[User]]\r\n",
      "\r\n",
      "def post_message(user: User, text: str, timestamp: float=None) -> None:\r\n",
      "    user = intern(user)\r\n",
      "    timestamp = timestamp or time.time()\r\n",
      "    post = Post(timestamp, user, text)\r\n",
      "    posts.appendleft(post)\r\n",
      "    user_posts[user].appendleft(post)\r\n",
      "\r\n",
      "def follow(user: User, followed_user: User) -> None:\r\n",
      "    user, followed_user = intern(user), intern(followed_user)\r\n",
      "    following[user].add(followed_user)\r\n",
      "    followers[followed_user].add(user)\r\n",
      "\r\n",
      "def posts_by_user(user: User, limit: Optional[int] = None) -> List[Post]:\r\n",
      "    return list(islice(user_posts[user], limit))\r\n",
      "\r\n",
      "def posts_for_user(user: User, limit: Optional[int] = None) -> List[Post]:\r\n",
      "    relevant = merge(*[user_posts[followed_user] \r\n",
      "                      for followed_user in following[user]], reverse=True)\r\n",
      "    return list(islice(relevant, limit))\r\n",
      "\r\n",
      "def search(phrase:str, limit: Optional[int] = None) -> List[Post]:\r\n",
      "    # Todo: Add pre-indexing to speed-up searches\r\n",
      "    # Todo: Add time sensetive caching for search queries\r\n",
      "    return list(islice((post for post in posts if phrase in post.text), limit))\r\n"
     ]
    }
   ],
   "source": [
    "!cat pubsub.py"
   ]
  },
  {
   "cell_type": "code",
   "execution_count": 13,
   "metadata": {},
   "outputs": [
    {
     "name": "stdout",
     "output_type": "stream",
     "text": [
      "'Sample data to test the pubsub internals'\r\n",
      "\r\n",
      "from pubsub import *\r\n",
      "from pprint import pprint\r\n",
      "\r\n",
      "post_message('guido', 'i love #python type hinting')\r\n",
      "post_message('raymondh', '#python tip: use named tuples')\r\n",
      "post_message('barry', 'join a band today')\r\n",
      "post_message('raymondh', '#python tip: develop interactively')\r\n",
      "post_message('barry', 'learn emacs')\r\n",
      "post_message('davin', 'teaching #python today')\r\n",
      "post_message('raymondh', '#python tip: have fun programming')\r\n",
      "post_message('davin', '#camping tip: always take water')\r\n",
      "post_message('barry', 'enums rocks')\r\n",
      "post_message('raymondh', '#python tip: never mutate while iterating')\r\n",
      "post_message('davin', 'coriander and cilantro come from the same plant')\r\n",
      "\r\n",
      "follow('davin', followed_user='raymondh')\r\n",
      "follow('davin', followed_user='barry')\r\n",
      "\r\n",
      "\r\n",
      "\r\n",
      "if __name__ == '__main__':\r\n",
      "    pprint(search('#python'))\r\n"
     ]
    }
   ],
   "source": [
    "!cat session.py"
   ]
  },
  {
   "cell_type": "code",
   "execution_count": 1,
   "metadata": {},
   "outputs": [
    {
     "name": "stdout",
     "output_type": "stream",
     "text": [
      "[Post(timestamp=1568966606.8197174, user='raymondh', text='#python tip: never mutate while iterating'),\n",
      " Post(timestamp=1568966606.8197134, user='raymondh', text='#python tip: have fun programming'),\n",
      " Post(timestamp=1568966606.8197112, user='davin', text='teaching #python today'),\n",
      " Post(timestamp=1568966606.8197083, user='raymondh', text='#python tip: develop interactively'),\n",
      " Post(timestamp=1568966606.8197033, user='raymondh', text='#python tip: use named tuples'),\n",
      " Post(timestamp=1568966606.819695, user='guido', text='i love #python type hinting')]\n"
     ]
    }
   ],
   "source": [
    "%run -i session.py"
   ]
  },
  {
   "cell_type": "code",
   "execution_count": null,
   "metadata": {},
   "outputs": [],
   "source": []
  },
  {
   "cell_type": "code",
   "execution_count": null,
   "metadata": {},
   "outputs": [],
   "source": []
  }
 ],
 "metadata": {
  "kernelspec": {
   "display_name": "Python 3",
   "language": "python",
   "name": "python3"
  },
  "language_info": {
   "codemirror_mode": {
    "name": "ipython",
    "version": 3
   },
   "file_extension": ".py",
   "mimetype": "text/x-python",
   "name": "python",
   "nbconvert_exporter": "python",
   "pygments_lexer": "ipython3",
   "version": "3.7.4"
  }
 },
 "nbformat": 4,
 "nbformat_minor": 2
}
